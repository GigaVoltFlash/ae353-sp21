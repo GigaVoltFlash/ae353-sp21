{
 "cells": [
  {
   "cell_type": "markdown",
   "id": "middle-acoustic",
   "metadata": {},
   "source": [
    "# Frequency response"
   ]
  },
  {
   "cell_type": "markdown",
   "id": "faced-least",
   "metadata": {},
   "source": [
    "Import modules and configure the notebook."
   ]
  },
  {
   "cell_type": "code",
   "execution_count": null,
   "id": "informed-qatar",
   "metadata": {},
   "outputs": [],
   "source": [
    "import os\n",
    "\n",
    "# This module is part of the python standard library\n",
    "import time\n",
    "\n",
    "# These modules are part of other existing libraries\n",
    "import numpy as np\n",
    "import matplotlib.pyplot as plt\n",
    "%matplotlib widget\n",
    "\n",
    "from scipy import linalg\n",
    "from scipy import signal\n",
    "\n",
    "# This is my own script (it is an interface to the pybullet simulator)\n",
    "import ae353_drone\n",
    "\n",
    "# I often go back and forth between making changes to my scripts and to\n",
    "# the notebook in which they are used. One \"gotcha\" is that notebooks only\n",
    "# import modules or scripts ONCE. Subsequent imports don't do anything, and\n",
    "# in particular won't reflect any changes I've made to my scripts. To make\n",
    "# sure that I'm working with the latest version of my code, I use this bit\n",
    "# of magic, which forces the notebook to \"reload\" my script:\n",
    "import importlib\n",
    "importlib.reload(ae353_drone)"
   ]
  },
  {
   "cell_type": "markdown",
   "id": "environmental-refrigerator",
   "metadata": {},
   "source": [
    "Create simulator."
   ]
  },
  {
   "cell_type": "code",
   "execution_count": null,
   "id": "needed-motion",
   "metadata": {},
   "outputs": [],
   "source": [
    "simulator = ae353_drone.Simulator(display=False, pos_noise=0., rpy_noise=0.)"
   ]
  },
  {
   "cell_type": "markdown",
   "id": "electronic-repository",
   "metadata": {},
   "source": [
    "Design controller and observer."
   ]
  },
  {
   "cell_type": "code",
   "execution_count": null,
   "id": "neutral-toolbox",
   "metadata": {},
   "outputs": [],
   "source": [
    "def lqr(A, B, Q, R):\n",
    "    P = linalg.solve_continuous_are(A, B, Q, R)\n",
    "    K = linalg.inv(R) @  B.T @ P\n",
    "    return K\n",
    "\n",
    "A = np.array([[0., 1.], [0., 0.]])\n",
    "B = np.array([[0.], [2.]])\n",
    "C = np.array([[1., 0.]])\n",
    "\n",
    "# Choose gains\n",
    "Qc = np.diag([100., 1.])\n",
    "Rc = np.diag([1.])\n",
    "\n",
    "# Find optimal gain matrix\n",
    "K = lqr(A, B, Qc, Rc)\n",
    "print(f'Gain matrix of controller:\\n K = np.array({K.tolist()})\\n')\n",
    "\n",
    "# Choose gains\n",
    "Qo = np.diag([1.])\n",
    "Ro = np.diag([1., 1.])\n",
    "\n",
    "# Find optimal gain matrix\n",
    "L = lqr(A.T, C.T, linalg.inv(Ro), linalg.inv(Qo)).T\n",
    "print(f'Gain matrix of observer:\\n L = np.array({L.tolist()})\\n')"
   ]
  },
  {
   "cell_type": "markdown",
   "id": "recreational-spirituality",
   "metadata": {},
   "source": [
    "Find closed-loop system:\n",
    "\n",
    "$$\n",
    "\\begin{align*}\n",
    "\\begin{bmatrix} \\dot{x} \\\\ \\dot{x}_\\text{err} \\end{bmatrix}\n",
    "&=\n",
    "\\begin{bmatrix} A - BK & -BK \\\\ 0 & A - LC \\end{bmatrix}\n",
    "\\begin{bmatrix} x \\\\ x_\\text{err} \\end{bmatrix}\n",
    "+\n",
    "\\begin{bmatrix} BKM \\\\ 0 \\end{bmatrix} r \\\\\n",
    "y\n",
    "&=\n",
    "\\begin{bmatrix} C & 0 \\end{bmatrix}\n",
    "\\begin{bmatrix} x \\\\ x_\\text{err} \\end{bmatrix}\n",
    "+\n",
    "\\begin{bmatrix} 0 \\end{bmatrix} r\n",
    "\\end{align*}\n",
    "$$\n",
    "\n",
    "where\n",
    "\n",
    "$$\n",
    "M = \\begin{bmatrix} 1 \\\\ 0 \\end{bmatrix}\n",
    "$$\n",
    "\n",
    "and where $r$ is the desired height."
   ]
  },
  {
   "cell_type": "code",
   "execution_count": null,
   "id": "transsexual-latitude",
   "metadata": {},
   "outputs": [],
   "source": [
    "M = np.array([[1.], [0.]])\n",
    "\n",
    "Am = np.block([[A - B @ K, - B @ K], [np.zeros((2, 2)), A - L @ C]])\n",
    "Bm = np.block([[B @ K @ M], [np.zeros((2, 1))]])\n",
    "Cm = np.block([[C, np.zeros((1, 2))]])\n",
    "\n",
    "sysm = signal.StateSpace(Am, Bm, Cm, 0.)"
   ]
  },
  {
   "cell_type": "markdown",
   "id": "oriented-february",
   "metadata": {},
   "source": [
    "Find frequency response. (Ignore the warning.)"
   ]
  },
  {
   "cell_type": "code",
   "execution_count": null,
   "id": "confused-emerald",
   "metadata": {},
   "outputs": [],
   "source": [
    "w, H = signal.freqresp(sysm)\n",
    "mag = np.absolute(H)\n",
    "phase = np.angle(H)"
   ]
  },
  {
   "cell_type": "markdown",
   "id": "tropical-centre",
   "metadata": {},
   "source": [
    "Plot frequency response (i.e., make a Bode plot)."
   ]
  },
  {
   "cell_type": "code",
   "execution_count": null,
   "id": "civil-harassment",
   "metadata": {},
   "outputs": [],
   "source": [
    "fig, (ax_mag, ax_phase) = plt.subplots(2, 1, figsize=(9, 9), sharex=True)\n",
    "ax_mag.loglog(w, mag)\n",
    "ax_mag.grid()\n",
    "ax_mag.tick_params(labelsize=14)\n",
    "ax_mag.set_ylabel('magnitude', fontsize=16)\n",
    "ax_phase.semilogx(w, phase)\n",
    "ax_phase.grid()\n",
    "ax_phase.tick_params(labelsize=14)\n",
    "ax_phase.set_ylabel('angle (radians)', fontsize=16)\n",
    "ax_phase.set_ylim([-np.pi, 0.])"
   ]
  },
  {
   "cell_type": "markdown",
   "id": "friendly-negative",
   "metadata": {},
   "source": [
    "Get magnitude and phase at one particular frequency. (Ignore the warning.)"
   ]
  },
  {
   "cell_type": "code",
   "execution_count": null,
   "id": "living-practitioner",
   "metadata": {},
   "outputs": [],
   "source": [
    "w = (2 * np.pi / 1.)\n",
    "print(f'w = {w:.3f}')\n",
    "w, H = signal.freqresp(sysm, w=w)\n",
    "mag = np.absolute(H)\n",
    "phase = np.angle(H)\n",
    "\n",
    "print(f'mag = {mag.item():.3f}\\nphase = {phase.item():.3f}')"
   ]
  },
  {
   "cell_type": "markdown",
   "id": "duplicate-rider",
   "metadata": {},
   "source": [
    "Implement controller."
   ]
  },
  {
   "cell_type": "code",
   "execution_count": null,
   "id": "mathematical-emphasis",
   "metadata": {},
   "outputs": [],
   "source": [
    "class RobotController:\n",
    "    def __init__(self, limiter=None):\n",
    "        self.dt = 0.01\n",
    "        self.limiter = limiter\n",
    "        \n",
    "        # Initialize record of old measurements\n",
    "        self.r_old = 0.\n",
    "        self.p_old = 0.\n",
    "        self.y_old = 0.\n",
    "        \n",
    "        self.A = np.array([[0., 1.], [0., 0.]])\n",
    "        self.B = np.array([[0.], [2.]])\n",
    "        self.C = np.array([[1., 0.]])\n",
    "        self.K = np.array([[9.999999999999996, 3.316624790355398]])\n",
    "        self.L = np.array([[1.732050807568877], [0.9999999999999993]])\n",
    "        \n",
    "        self.f_z_e = 0.5 * 9.81\n",
    "        self.z_e = 0.\n",
    "        \n",
    "\n",
    "    def get_color(self):\n",
    "        return [0., 1., 0.]\n",
    "\n",
    "    def reset(self, pos):\n",
    "        self.xhat = np.zeros(2)\n",
    "        self.t = 0.\n",
    "        self.user_data = {\n",
    "            'tau_x_des': 0.,\n",
    "            'tau_y_des': 0.,\n",
    "            'tau_z_des': 0.,\n",
    "            'f_z_des': 0.,\n",
    "            'zdes': 0.,\n",
    "        }\n",
    "\n",
    "    def run(self, pos, rpy, pos_ring, is_last_ring, pos_others):\n",
    "        \n",
    "        ##################\n",
    "        # PD Control\n",
    "        #\n",
    "        #  This is easy to implement and allows us to isolate the\n",
    "        #  \"z position and velocity\" subsystem, for the purpose of\n",
    "        #  example.\n",
    "        #\n",
    "        \n",
    "        # Get current measurements of roll, pitch, and yaw\n",
    "        r = rpy[0]\n",
    "        p = rpy[1]\n",
    "        y = rpy[2]\n",
    "        \n",
    "        # Estimate roll, pitch, and yaw derivatives by finite difference\n",
    "        rdot = (r - self.r_old) / self.dt\n",
    "        pdot = (p - self.p_old) / self.dt\n",
    "        ydot = (y - self.y_old) / self.dt\n",
    "        \n",
    "        # Update record of old measurements\n",
    "        self.r_old = r\n",
    "        self.p_old = p\n",
    "        self.y_old = y\n",
    "        \n",
    "        # Choose net torques to drive roll, pitch, and yaw to zero\n",
    "        tau_x = - 1. * (r - 0) - 0.1 * (rdot - 0)\n",
    "        tau_y = - 1. * (p - 0) - 0.1 * (pdot - 0)\n",
    "        tau_z = - 1. * (y - 0) - 0.1 * (ydot - 0)\n",
    "        \n",
    "        #\n",
    "        ##################\n",
    "        \n",
    "        \n",
    "        w = (2 * np.pi) / 1.\n",
    "        zdes = 1. + 0.1 * np.sin(w * self.t)\n",
    "        self.user_data['zdes'] = zdes\n",
    "        self.t += self.dt\n",
    "        \n",
    "#         zdes = pos_ring[2]\n",
    "        zest = self.xhat[0] + self.z_e\n",
    "        max_error = 0.25\n",
    "        if np.abs(zdes - zest) > max_error:\n",
    "            zdes = zest + max_error * ((zdes - zest) / linalg.norm(zdes - zest))\n",
    "        \n",
    "        \n",
    "        xdes = np.array([zdes - self.z_e, 0.])\n",
    "        u = -self.K @ (self.xhat - xdes)\n",
    "        f_z = u[0] + self.f_z_e\n",
    "        \n",
    "        self.user_data['tau_x_des'] = tau_x\n",
    "        self.user_data['tau_y_des'] = tau_y\n",
    "        self.user_data['tau_z_des'] = tau_z\n",
    "        self.user_data['f_z_des'] = f_z\n",
    "        \n",
    "        if self.limiter is not None:\n",
    "            tau_x, tau_y, tau_z, f_z = self.limiter(tau_x, tau_y, tau_z, f_z)\n",
    "        u[0] = f_z - self.f_z_e\n",
    "        \n",
    "        y = np.array([pos[2] - self.z_e])\n",
    "        self.xhat += self.dt * (self.A @ self.xhat + self.B @ u - self.L @ (self.C @ self.xhat - y))\n",
    "\n",
    "        return tau_x, tau_y, tau_z, f_z"
   ]
  },
  {
   "cell_type": "markdown",
   "id": "christian-citation",
   "metadata": {},
   "source": [
    "Run simulation."
   ]
  },
  {
   "cell_type": "code",
   "execution_count": null,
   "id": "exceptional-aspect",
   "metadata": {},
   "outputs": [],
   "source": [
    "simulator.clear_drones()\n",
    "simulator.add_drone(RobotController, 'my_netid', 'my_image.png')\n",
    "simulator.reset()\n",
    "simulator.run(max_time=50.0)"
   ]
  },
  {
   "cell_type": "markdown",
   "id": "colonial-helicopter",
   "metadata": {},
   "source": [
    "Get drone by name."
   ]
  },
  {
   "cell_type": "code",
   "execution_count": null,
   "id": "agricultural-coach",
   "metadata": {},
   "outputs": [],
   "source": [
    "drone_name = 'my_netid'\n",
    "drone = simulator.get_drone_by_name(drone_name)\n",
    "\n",
    "if drone is None:\n",
    "    drone_names = '\\n'.join([d['name'] for d in simulator.drones])\n",
    "    msg = f'The simulator has no drone with name \"{drone_name}\".'\n",
    "    if len(drone_names) == 0:\n",
    "        msg += f' The simulator has no drones at all, in fact.'\n",
    "    else:\n",
    "        msg += f' The simulator has these drones:'\n",
    "        msg += f'\\n==========\\n{drone_names}\\n==========\\n'\n",
    "    print(msg)"
   ]
  },
  {
   "cell_type": "markdown",
   "id": "polished-advisory",
   "metadata": {},
   "source": [
    "Extract data."
   ]
  },
  {
   "cell_type": "code",
   "execution_count": null,
   "id": "liked-handle",
   "metadata": {},
   "outputs": [],
   "source": [
    "data = drone['data'].copy()"
   ]
  },
  {
   "cell_type": "markdown",
   "id": "concrete-combining",
   "metadata": {},
   "source": [
    "Convert all lists in data to numpy arrays."
   ]
  },
  {
   "cell_type": "code",
   "execution_count": null,
   "id": "alive-capacity",
   "metadata": {},
   "outputs": [],
   "source": [
    "for key in data.keys():\n",
    "    if key != 'user_data':\n",
    "        data[key] = np.array(data[key]).T\n",
    "for key in data['user_data'].keys():\n",
    "    data['user_data'][key] = np.array(data['user_data'][key]).T"
   ]
  },
  {
   "cell_type": "code",
   "execution_count": null,
   "id": "faced-compression",
   "metadata": {},
   "outputs": [],
   "source": [
    "data['user_data']"
   ]
  },
  {
   "cell_type": "markdown",
   "id": "related-acceptance",
   "metadata": {},
   "source": [
    "Plot difference between height and desired height."
   ]
  },
  {
   "cell_type": "code",
   "execution_count": null,
   "id": "breathing-ceremony",
   "metadata": {},
   "outputs": [],
   "source": [
    "# Create a figure with subplots that all share the same x-axis\n",
    "fig, (ax_z) = plt.subplots(1, 1, figsize=(9, 6), sharex=True)\n",
    "\n",
    "z_tru = data['pos'][2, :]\n",
    "z_des = data['user_data']['zdes']\n",
    "\n",
    "# Position\n",
    "ax_z.plot(data['t'], z_tru, label='p_z (true)', linewidth=4)\n",
    "ax_z.plot(data['t'], z_des, '--', label='p_z (desired)', linewidth=4)\n",
    "ax_z.grid()\n",
    "ax_z.legend(fontsize=16)\n",
    "ax_z.tick_params(labelsize=14)\n",
    "ax_z.set_ylim([0.8, 1.2])\n",
    "\n",
    "# Set shared x-axis properties\n",
    "ax_z.set_xlabel('time (s)', fontsize=20)\n",
    "ax_z.set_xlim([data['t'][0], data['t'][-1]])\n",
    "\n",
    "# Make the arrangement of subplots look nice\n",
    "fig.tight_layout()"
   ]
  },
  {
   "cell_type": "code",
   "execution_count": null,
   "id": "expressed-planner",
   "metadata": {},
   "outputs": [],
   "source": [
    "- ((41.563 - 41.249) / (41.563 - 40.563)) * 2 * np.pi"
   ]
  },
  {
   "cell_type": "code",
   "execution_count": null,
   "id": "pursuant-trial",
   "metadata": {},
   "outputs": [],
   "source": [
    "- ((42.857 - 42.5) / (42.857 - 32.857)) * 2 * np.pi"
   ]
  },
  {
   "cell_type": "markdown",
   "id": "cognitive-nomination",
   "metadata": {},
   "source": [
    "Plot difference between state and state estimate."
   ]
  },
  {
   "cell_type": "code",
   "execution_count": null,
   "id": "provincial-cleveland",
   "metadata": {
    "scrolled": true
   },
   "outputs": [],
   "source": [
    "# Create a figure with subplots that all share the same x-axis\n",
    "fig, (ax_z, ax_v) = plt.subplots(2, 1, figsize=(8, 6), sharex=True)\n",
    "\n",
    "z_tru = data['pos'][2, :]\n",
    "z_est = data['xhat'][0, :]\n",
    "z_des = data['user_data']['zdes']\n",
    "\n",
    "v_tru = data['linvel'][2, :]\n",
    "v_est = data['xhat'][1, :]\n",
    "\n",
    "\n",
    "# Position\n",
    "ax_z.plot(data['t'], z_tru, label='p_z (true)', linewidth=4)\n",
    "ax_z.plot(data['t'], z_est, '--', label='p_z (estimate)', linewidth=4)\n",
    "ax_z.plot(data['t'], z_des, ':', label='p_z (desired)', linewidth=4)\n",
    "ax_z.grid()\n",
    "ax_z.legend(fontsize=16)\n",
    "ax_z.tick_params(labelsize=14)\n",
    "ax_z.set_ylim([0., 2.])\n",
    "\n",
    "# Velocity\n",
    "ax_v.plot(data['t'], v_tru, label='v_z (true)', linewidth=4)\n",
    "ax_v.plot(data['t'], v_est, '--', label='v_z (estimate)', linewidth=4)\n",
    "ax_v.grid()\n",
    "ax_v.legend(fontsize=16)\n",
    "ax_v.tick_params(labelsize=14)\n",
    "ax_v.set_ylim([-1., 1.])\n",
    "\n",
    "# Set shared x-axis properties\n",
    "ax_v.set_xlabel('time (s)', fontsize=20)\n",
    "ax_v.set_xlim([data['t'][0], data['t'][-1]])\n",
    "\n",
    "# Make the arrangement of subplots look nice\n",
    "fig.tight_layout()"
   ]
  },
  {
   "cell_type": "markdown",
   "id": "acting-ballot",
   "metadata": {},
   "source": [
    "Plot other results."
   ]
  },
  {
   "cell_type": "code",
   "execution_count": null,
   "id": "informed-watson",
   "metadata": {},
   "outputs": [],
   "source": [
    "# Create a figure with subplots that all share the same x-axis\n",
    "fig, (ax_pos, ax_rpy, ax_act) = plt.subplots(3, 1, figsize=(9, 12), sharex=True)\n",
    "\n",
    "# Position\n",
    "ax_pos.plot(data['t'], data['pos'][0, :], label='x (m)', linewidth=4)\n",
    "ax_pos.plot(data['t'], data['pos'][1, :], label='y (m)', linewidth=4)\n",
    "ax_pos.plot(data['t'], data['pos'][2, :], label='z (m)', linewidth=4)\n",
    "ax_pos.grid()\n",
    "ax_pos.legend(fontsize=16)\n",
    "ax_pos.tick_params(labelsize=14)\n",
    "\n",
    "# Roll, pitch, and yaw angles\n",
    "ax_rpy.plot(data['t'], data['rpy'][0, :], label='roll (rad)', linewidth=4)\n",
    "ax_rpy.plot(data['t'], data['rpy'][1, :], label='pitch (rad)', linewidth=4)\n",
    "ax_rpy.plot(data['t'], data['rpy'][2, :], label='yaw (rad)', linewidth=4)\n",
    "ax_rpy.grid()\n",
    "ax_rpy.legend(fontsize=16)\n",
    "ax_rpy.tick_params(labelsize=14)\n",
    "\n",
    "# Actuator commands\n",
    "ax_act.plot(data['t'], data['tau_x'], label='tau_x (N-m)', linewidth=4)\n",
    "ax_act.plot(data['t'], data['user_data']['tau_x_des'], '--', label='desired tau_x (N-m)', linewidth=4)\n",
    "ax_act.plot(data['t'], data['tau_y'], label='tau_y (N-m)', linewidth=4)\n",
    "ax_act.plot(data['t'], data['user_data']['tau_y_des'], '--', label='desired tau_y (N-m)', linewidth=4)\n",
    "ax_act.plot(data['t'], data['tau_z'], label='tau_z (N-m)', linewidth=4)\n",
    "ax_act.plot(data['t'], data['user_data']['tau_z_des'], '--', label='desired tau_z (N-m)', linewidth=4)\n",
    "ax_act.plot(data['t'], data['f_z'], label='f_z (N)', linewidth=4)\n",
    "ax_act.plot(data['t'], data['user_data']['f_z_des'], '--', label='desired f_z (N-m)', linewidth=4)\n",
    "ax_act.grid()\n",
    "ax_act.legend(fontsize=16)\n",
    "ax_act.tick_params(labelsize=14)\n",
    "\n",
    "# Set shared x-axis properties\n",
    "ax_act.set_xlabel('time (s)', fontsize=20)\n",
    "ax_act.set_xlim([data['t'][0], data['t'][-1]])\n",
    "\n",
    "# Make the arrangement of subplots look nice\n",
    "fig.tight_layout()"
   ]
  }
 ],
 "metadata": {
  "kernelspec": {
   "display_name": "Python 3",
   "language": "python",
   "name": "python3"
  },
  "language_info": {
   "codemirror_mode": {
    "name": "ipython",
    "version": 3
   },
   "file_extension": ".py",
   "mimetype": "text/x-python",
   "name": "python",
   "nbconvert_exporter": "python",
   "pygments_lexer": "ipython3",
   "version": "3.9.1"
  }
 },
 "nbformat": 4,
 "nbformat_minor": 5
}
