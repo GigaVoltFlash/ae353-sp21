{
 "metadata": {
  "language_info": {
   "codemirror_mode": {
    "name": "ipython",
    "version": 3
   },
   "file_extension": ".py",
   "mimetype": "text/x-python",
   "name": "python",
   "nbconvert_exporter": "python",
   "pygments_lexer": "ipython3",
   "version": "3.9.1-final"
  },
  "orig_nbformat": 2,
  "kernelspec": {
   "name": "ae353-bullet",
   "display_name": "Python (ae353-bullet)",
   "language": "python"
  }
 },
 "nbformat": 4,
 "nbformat_minor": 2,
 "cells": [
  {
   "source": [
    "# Designing the Controller"
   ],
   "cell_type": "markdown",
   "metadata": {}
  },
  {
   "source": [
    "In this notebook, the following steps will be taken to create a controller for the CMG\n",
    "* Linearize the system\n",
    "* Find the eigenvalues of F for different values of K\n",
    "* Pick value of K that gives negative eigenvalues for F and test in CMG"
   ],
   "cell_type": "markdown",
   "metadata": {}
  },
  {
   "cell_type": "code",
   "execution_count": 2,
   "metadata": {},
   "outputs": [],
   "source": [
    "#importing the required libraries\n",
    "import numpy as np\n",
    "import matplotlib.pyplot as plt\n",
    "import sympy as sym\n",
    "from scipy import linalg"
   ]
  },
  {
   "source": [
    "## Linearizing the System"
   ],
   "cell_type": "markdown",
   "metadata": {}
  },
  {
   "cell_type": "code",
   "execution_count": 8,
   "metadata": {},
   "outputs": [],
   "source": [
    "#All the required symbols\n",
    "q1,q2,v1,v2,v3,tau2,tau3 = sym.symbols('q1,q2,v1,v2,v3,tau2,tau3')"
   ]
  },
  {
   "cell_type": "code",
   "execution_count": 11,
   "metadata": {},
   "outputs": [
    {
     "output_type": "execute_result",
     "data": {
      "text/plain": [
       "Matrix([\n",
       "[                                                                               v1],\n",
       "[-(1000*tau3*sin(q2) + 5*v1*v2*sin(2*q2) + 10*v2*v3*cos(q2))/(10*sin(q2)**2 - 511)],\n",
       "[                                                                               v2],\n",
       "[                          90.9090909090909*tau2 - 0.909090909090909*v1*v3*cos(q2)],\n",
       "[      -(51100*tau3 + 511*v1*v2*cos(q2) + 5*v2*v3*sin(2*q2))/(10*sin(q2)**2 - 511)]])"
      ],
      "text/latex": "$\\displaystyle \\left[\\begin{matrix}v_{1}\\\\- \\frac{1000 \\tau_{3} \\sin{\\left(q_{2} \\right)} + 5 v_{1} v_{2} \\sin{\\left(2 q_{2} \\right)} + 10 v_{2} v_{3} \\cos{\\left(q_{2} \\right)}}{10 \\sin^{2}{\\left(q_{2} \\right)} - 511}\\\\v_{2}\\\\90.9090909090909 \\tau_{2} - 0.909090909090909 v_{1} v_{3} \\cos{\\left(q_{2} \\right)}\\\\- \\frac{51100 \\tau_{3} + 511 v_{1} v_{2} \\cos{\\left(q_{2} \\right)} + 5 v_{2} v_{3} \\sin{\\left(2 q_{2} \\right)}}{10 \\sin^{2}{\\left(q_{2} \\right)} - 511}\\end{matrix}\\right]$"
     },
     "metadata": {},
     "execution_count": 11
    }
   ],
   "source": [
    "#Put the F function here\n",
    "f = sym.Matrix([[v1],[-(5*(200*tau3*sym.sin(q2)+sym.sin(2*q2)*v1*v2+2*sym.cos(q2)*v2*v3)/(10*(sym.sin(q2))**2 -511))],[v2],[10/11 * (100*tau2 - sym.cos(q2)*v1*v3)],[-((51100*tau3+5*sym.sin(2*q2)*v2*v3+511*sym.cos(q2)*v1*v2)/(10*(sym.sin(q2))**2 -511))]])\n"
   ]
  },
  {
   "cell_type": "code",
   "execution_count": 14,
   "metadata": {},
   "outputs": [
    {
     "output_type": "execute_result",
     "data": {
      "text/plain": [
       "<function _lambdifygenerated(q1, q2, v1, v2, v3, tau2, tau3)>"
      ]
     },
     "metadata": {},
     "execution_count": 14
    }
   ],
   "source": [
    "#Making f an executable function\n",
    "f_num = sym.lambdify((q1,q2,v1,v2,v3,tau2,tau3), f)\n"
   ]
  },
  {
   "cell_type": "code",
   "execution_count": 15,
   "metadata": {},
   "outputs": [],
   "source": [
    "#Equilibrium points\n",
    "#q1 is not in any of the equations, so it can be anything, let's make it about 45 degrees (desired angle)\n",
    "#v3 can also be anything, but since we're starting off at 100 rpm, I'll set it as that.\n",
    "q1_e = 45*np.pi/180\n",
    "q2_e = 0\n",
    "v1_e = 0\n",
    "v2_e = 0\n",
    "v3_e = 10.472 #100 rpm, starting v3\n",
    "tau2_e = 0\n",
    "tau3_e = 0"
   ]
  },
  {
   "cell_type": "code",
   "execution_count": 18,
   "metadata": {},
   "outputs": [
    {
     "output_type": "execute_result",
     "data": {
      "text/plain": [
       "array([[0.],\n",
       "       [0.],\n",
       "       [0.],\n",
       "       [0.],\n",
       "       [0.]])"
      ]
     },
     "metadata": {},
     "execution_count": 18
    }
   ],
   "source": [
    "#checking if the equilibrium points work:\n",
    "f_eq = f_num(q1_e,q2_e,v1_e,v2_e,v3_e,tau2_e,tau3_e)\n",
    "f_eq #evaluates to 0! Nice!"
   ]
  },
  {
   "cell_type": "code",
   "execution_count": 27,
   "metadata": {},
   "outputs": [],
   "source": [
    "#Now we find the Jacobians\n",
    "f_jacob_x = f.jacobian([q1,q2,v1,v2,v3])\n",
    "f_jacob_u = f.jacobian([tau2,tau3])\n",
    "\n",
    "#And then we find functions for A and B using this jacobian\n",
    "A_num = sym.lambdify((q1,q2,v1,v2,v3,tau2,tau3),f_jacob_x)\n",
    "B_num = sym.lambdify((q1,q2,v1,v2,v3,tau2,tau3),f_jacob_u)\n",
    "\n",
    "#Finally, we find the linearized state space model by evaluating A_num and B_num at the equilibrium points\n",
    "A = A_num(q1_e,q2_e,v1_e,v2_e,v3_e,tau2_e,tau3_e).astype(float)\n",
    "B = B_num(q1_e,q2_e,v1_e,v2_e,v3_e,tau2_e,tau3_e).astype(float)"
   ]
  },
  {
   "source": [
    "With all these steps, we have linearized our equations of motions about the chosen equilibrium point to create a state space model."
   ],
   "cell_type": "markdown",
   "metadata": {}
  },
  {
   "cell_type": "code",
   "execution_count": 31,
   "metadata": {},
   "outputs": [
    {
     "output_type": "execute_result",
     "data": {
      "text/plain": [
       "array([[ 0.        ,  0.        ,  1.        ,  0.        ,  0.        ],\n",
       "       [ 0.        ,  0.        , -0.        ,  0.20493151, -0.        ],\n",
       "       [ 0.        ,  0.        ,  0.        ,  1.        ,  0.        ],\n",
       "       [ 0.        ,  0.        , -9.52      ,  0.        , -0.        ],\n",
       "       [ 0.        ,  0.        , -0.        ,  0.        , -0.        ]])"
      ]
     },
     "metadata": {},
     "execution_count": 31
    }
   ],
   "source": [
    "A"
   ]
  },
  {
   "cell_type": "code",
   "execution_count": 32,
   "metadata": {},
   "outputs": [
    {
     "output_type": "execute_result",
     "data": {
      "text/plain": [
       "array([[  0.        ,   0.        ],\n",
       "       [  0.        ,   0.        ],\n",
       "       [  0.        ,   0.        ],\n",
       "       [ 90.90909091,   0.        ],\n",
       "       [  0.        , 100.        ]])"
      ]
     },
     "metadata": {},
     "execution_count": 32
    }
   ],
   "source": [
    "B"
   ]
  },
  {
   "source": [
    "## Finding Stable Controller Gains"
   ],
   "cell_type": "markdown",
   "metadata": {}
  },
  {
   "cell_type": "code",
   "execution_count": 38,
   "metadata": {},
   "outputs": [],
   "source": [
    "K = np.zeros((2,5)) #This is our controller gains, we need to test different values\n"
   ]
  },
  {
   "cell_type": "code",
   "execution_count": 41,
   "metadata": {},
   "outputs": [
    {
     "output_type": "execute_result",
     "data": {
      "text/plain": [
       "array([[ 0.        ,  0.        ,  1.        ,  0.        ,  0.        ],\n",
       "       [ 0.        ,  0.        , -0.        ,  0.20493151, -0.        ],\n",
       "       [ 0.        ,  0.        ,  0.        ,  1.        ,  0.        ],\n",
       "       [ 0.        ,  0.        , -9.52      ,  0.        , -0.        ],\n",
       "       [ 0.        ,  0.        , -0.        ,  0.        , -0.        ]])"
      ]
     },
     "metadata": {},
     "execution_count": 41
    }
   ],
   "source": [
    "F  = A - B@K\n",
    "F"
   ]
  }
 ]
}