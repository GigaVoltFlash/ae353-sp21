{
 "cells": [
  {
   "cell_type": "markdown",
   "metadata": {},
   "source": [
    "# Control moment gyroscope (AE 353 Project 1)"
   ]
  },
  {
   "cell_type": "markdown",
   "metadata": {},
   "source": [
    "Import modules and configure the notebook."
   ]
  },
  {
   "cell_type": "code",
   "execution_count": null,
   "metadata": {},
   "outputs": [],
   "source": [
    "# This module is part of the python standard library\n",
    "import time\n",
    "\n",
    "# These modules are part of other existing libraries\n",
    "import numpy as np\n",
    "import matplotlib.pyplot as plt\n",
    "import sympy as sym\n",
    "from scipy import linalg\n",
    "\n",
    "# Given pybullet script (it is an interface to the pybullet simulator)\n",
    "import ae353_cmg\n",
    "\n",
    "import importlib\n",
    "importlib.reload(ae353_cmg)"
   ]
  },
  {
   "cell_type": "markdown",
   "metadata": {},
   "source": [
    "In this notebook, the following steps will be taken to generate all the results for the project.\n",
    "* Linearize the system\n",
    "* Find the eigenvalues of F for different values of K\n",
    "* Pick value of K that gives negative eigenvalues for F\n",
    "* Run the simulation in pybullet with the calculated K gains\n",
    "* Plot the results"
   ]
  },
  {
   "cell_type": "markdown",
   "metadata": {},
   "source": [
    "## Linearizing the System"
   ]
  },
  {
   "cell_type": "code",
   "execution_count": null,
   "metadata": {},
   "outputs": [],
   "source": [
    "#All the required symbols\n",
    "q1,q2,v1,v2,v3,tau2,tau3 = sym.symbols('q1,q2,v1,v2,v3,tau2,tau3')\n",
    "#The provided equations of motion\n",
    "f = sym.Matrix([[v1],[-(5*(200*tau3*sym.sin(q2)+sym.sin(2*q2)*v1*v2+2*sym.cos(q2)*v2*v3)/(10*(sym.sin(q2))**2 -511))],[v2],[10/11 * (100*tau2 - sym.cos(q2)*v1*v3)],[-((51100*tau3+5*sym.sin(2*q2)*v2*v3+511*sym.cos(q2)*v1*v2)/(10*(sym.sin(q2))**2 -511))]])\n",
    "# Make f and executable function\n",
    "f_num = sym.lambdify((q1,q2,v1,v2,v3,tau2,tau3), f)"
   ]
  },
  {
   "cell_type": "code",
   "execution_count": null,
   "metadata": {},
   "outputs": [],
   "source": [
    "# See F\n",
    "f"
   ]
  },
  {
   "cell_type": "markdown",
   "metadata": {},
   "source": [
    "### Equilibrium values\n",
    "* q1 is not in any of the equations, so it can be anything, let's make it about 45 degrees (desired angle)\n",
    "* v3 can also be anything, but since we're starting off at 100 rpm, I set it as that."
   ]
  },
  {
   "cell_type": "code",
   "execution_count": null,
   "metadata": {},
   "outputs": [],
   "source": [
    "q1_e = 45*np.pi/180\n",
    "q2_e = 0\n",
    "v1_e = 0\n",
    "v2_e = 0\n",
    "v3_e = 10.472 #100 rpm, starting v3\n",
    "tau2_e = 0\n",
    "tau3_e = 0"
   ]
  },
  {
   "cell_type": "code",
   "execution_count": null,
   "metadata": {},
   "outputs": [],
   "source": [
    "#checking if the equilibrium points work:\n",
    "f_eq = f_num(q1_e,q2_e,v1_e,v2_e,v3_e,tau2_e,tau3_e)\n",
    "f_eq #evaluates to 0! Nice!"
   ]
  },
  {
   "cell_type": "markdown",
   "metadata": {},
   "source": [
    "Now we are ready to linearize the system."
   ]
  },
  {
   "cell_type": "code",
   "execution_count": null,
   "metadata": {},
   "outputs": [],
   "source": [
    "#Now we find the Jacobians\n",
    "f_jacob_x = f.jacobian([q1,q2,v1,v2,v3])\n",
    "f_jacob_u = f.jacobian([tau2,tau3])\n",
    "\n",
    "#And then we find functions for A and B using this jacobian\n",
    "A_num = sym.lambdify((q1,q2,v1,v2,v3,tau2,tau3),f_jacob_x)\n",
    "B_num = sym.lambdify((q1,q2,v1,v2,v3,tau2,tau3),f_jacob_u)\n",
    "\n",
    "#Finally, we find the linearized state space model by evaluating A_num and B_num at the equilibrium points\n",
    "A = A_num(q1_e,q2_e,v1_e,v2_e,v3_e,tau2_e,tau3_e).astype(float)\n",
    "B = B_num(q1_e,q2_e,v1_e,v2_e,v3_e,tau2_e,tau3_e).astype(float)"
   ]
  },
  {
   "cell_type": "markdown",
   "metadata": {},
   "source": [
    "With all these steps, we have linearized our equations of motions about the chosen equilibrium point to create a state space model."
   ]
  },
  {
   "cell_type": "code",
   "execution_count": null,
   "metadata": {},
   "outputs": [],
   "source": [
    "# See A\n",
    "A"
   ]
  },
  {
   "cell_type": "code",
   "execution_count": null,
   "metadata": {},
   "outputs": [],
   "source": [
    "# See B\n",
    "B"
   ]
  },
  {
   "cell_type": "markdown",
   "metadata": {},
   "source": [
    "## Finding Stable Controller Gains\n",
    "\n",
    "We still have not covered a method to efficiently calculate working K gains. Therefore, here we resort to using random numbers. There are some values in K that are set to 0 as a design choice based on the system. More information on that in the report."
   ]
  },
  {
   "cell_type": "code",
   "execution_count": null,
   "metadata": {},
   "outputs": [],
   "source": [
    "# The next section is commented out because I already found the K gains I wanted. But this shows the process used.\n",
    "# Credit: Alan Hong on a campuswire post.\n",
    "'''i = 0\n",
    "while i == 0:\n",
    "    K = np.array([[np.random.rand(),np.random.rand(),np.random.rand(),np.random.rand(),0],[0,0,0,0,np.random.rand()]])\n",
    "    F  = A - B@K\n",
    "    s = linalg.eigvals(F)\n",
    "    if (s.real < 0).all() and (s.imag == 0).all():\n",
    "        i += 1'''\n",
    "# Good K gains\n",
    "K = np.array([[0.8085914584901315, 0.1356123563018472, 0.748872791294181, 0.2593557597971461, 0.0], [0.0, 0.0, 0.0, 0.0, 0.9166361309236439]])\n",
    "F  = A - B@K\n",
    "s = linalg.eigvals(F)\n",
    "print(K.tolist())\n",
    "s"
   ]
  },
  {
   "cell_type": "markdown",
   "metadata": {},
   "source": [
    "## Plotting the Response\n",
    "We can now calculate x(t) by diagonalizing F and then using the x = V * e^(St) * Vinv *x(0)."
   ]
  },
  {
   "cell_type": "code",
   "execution_count": null,
   "metadata": {},
   "outputs": [],
   "source": [
    "x0 = sym.Matrix([[-45*np.pi/180],[0],[0],[0],[10.472-50]])\n",
    "F_sym = sym.simplify(sym.Matrix(F))\n",
    "t = sym.Symbol('t')\n",
    "s,V = linalg.eig(F)\n",
    "Vinv = linalg.inv(V)\n",
    "S = np.diag(s)\n",
    "S_sym = sym.simplify(sym.Matrix(S))\n",
    "V_sym = sym.simplify(sym.Matrix(V))\n",
    "Vinv_sym = sym.simplify(sym.Matrix(Vinv))\n",
    "x = V_sym @ sym.exp(S_sym*t) @ Vinv_sym @ x0\n",
    "x = sym.simplify(x)\n",
    "x_num = sym.lambdify(t, x)"
   ]
  },
  {
   "cell_type": "code",
   "execution_count": null,
   "metadata": {},
   "outputs": [],
   "source": [
    "q = []\n",
    "for i in np.linspace(0,10,1001):\n",
    "    q.append(x_num(i)[0])\n",
    "q = np.array(q)\n",
    "plt.plot(np.linspace(0,10,1001),(q+45*np.pi/180)*180/np.pi)\n",
    "plt.plot(np.linspace(0,10,1001),(45*np.pi/180*np.ones(1001))*180/np.pi)\n",
    "plt.xlabel(\"Time\")\n",
    "plt.ylabel(\"q1 (rad)\")\n",
    "plt.title(\"Theoretical angle of the platform\")"
   ]
  },
  {
   "cell_type": "markdown",
   "metadata": {},
   "source": [
    "## Running the Simulation\n",
    "Now we are ready to run the actual simulation. Most of this is taken from CMGDemo.ipynb. The major changes are in the controller definition."
   ]
  },
  {
   "cell_type": "markdown",
   "metadata": {},
   "source": [
    "### Creating an instance of the robot simulator\n",
    "There are three optional parameters:\n",
    "\n",
    "* `damping` is the coefficient of viscouse friction at each joint (the default value is `0.`)\n",
    "* `dt` is the length of each time step in the simulator (the default value is `0.001`)\n",
    "* `display` is a flag that says whether or not to open the GUI (the default value is `True`)\n",
    "\n",
    "The `display` parameter, in particular, is likely to be of use to you. If you set `display=True`, then you will run the simulator in real-time with a GUI. If you set `display=False`, then you will run the simulator as fast as possible (faster than real-time) without a GUI. This is convenient when all you want is the data.\n",
    "\n",
    "**NOTE:** it is still necessary to reset the kernel (see the \"Kernel\" menu above) before creating a new instance of the robot simulator, even when running without a GUI - if you don't, then you'll notice that simulation slows way down."
   ]
  },
  {
   "cell_type": "code",
   "execution_count": null,
   "metadata": {},
   "outputs": [],
   "source": [
    "robot = ae353_cmg.RobotSimulator(damping=0., dt=0.001, display=True)\n"
   ]
  },
  {
   "cell_type": "markdown",
   "metadata": {},
   "source": [
    "### Some useful notes from the EOM notebook.\n",
    "\n",
    "Joint angles:\n",
    "\n",
    "* q1 is the angle of the \"outer\" link. This is what we want to control and get to a particular angle\n",
    "The goal of this project is going to be to get this angle to 45 degrees.\n",
    "\n",
    "* q2 is the angle of the \"inner\" link\n",
    "\n",
    "* q3 is the angle of the wheel\n",
    "\n",
    "The same order applies to the velocities."
   ]
  },
  {
   "cell_type": "markdown",
   "metadata": {},
   "source": [
    "Define and create an instance of the robot controller. "
   ]
  },
  {
   "cell_type": "code",
   "execution_count": null,
   "metadata": {},
   "outputs": [],
   "source": [
    "class RobotController:\n",
    "    def __init__(self, dt=0.001, q1_des = 45*np.pi/180):\n",
    "        self.dt = dt #Timestep property of the RobotController class\n",
    "\n",
    "        #Desired angles and velocities and the gain matrix\n",
    "        self.K = np.array([[0.8085914584901315, 0.1356123563018472, 0.748872791294181, 0.2593557597971461, 0.0], [0.0, 0.0, 0.0, 0.0, 0.9166361309236439]])\n",
    "        self.q1_des = q1_des\n",
    "        self.q2_des = 0\n",
    "        self.v1_des = 0\n",
    "        self.v2_des = 0\n",
    "        self.v3_des = 50 #rad/s\n",
    "\n",
    "    def run(self, q_1, v_1, q_2, v_2, q_3, v_3):\n",
    "        #state\n",
    "        x = np.array([[q_1 - self.q1_des],[v_1 - self.v1_des],[q_2 - self.q2_des], [v_2 - self.v2_des],[v_3 - self.v3_des]])\n",
    "\n",
    "        #input\n",
    "        u = - self.K @ x\n",
    "\n",
    "        tau_2 = u[0,0] # <-- torque applied to gimbal. \n",
    "        tau_3 = u[1,0] # <-- torque applied to rotor.\n",
    "        #tau_3 = 0.\n",
    "        return tau_2, tau_3\n",
    "\n",
    "# Test case with 45 degrees\n",
    "# controller = RobotController(dt=robot.dt,q1_des = 45*np.pi/180)\n",
    "\n",
    "# Gimbal Lock position\n",
    "# controller = RobotController(dt=robot.dt,q1_des = 209.5861*np.pi/180)\n",
    "\n",
    "#Test case with 180 degrees\n",
    "controller = RobotController(dt=robot.dt,q1_des = np.pi)"
   ]
  },
  {
   "cell_type": "markdown",
   "metadata": {},
   "source": [
    "Run the simulation. It is a loop. At each iteration, we:\n",
    "* get sensor measurements\n",
    "* choose actuator commands\n",
    "* go forward one time step\n",
    "\n",
    "We also log data so that we can plot it later, if we want."
   ]
  },
  {
   "cell_type": "code",
   "execution_count": null,
   "metadata": {},
   "outputs": [],
   "source": [
    "# Restore the simulation to its initial state\n",
    "# Random initial state\n",
    "# robot.set_state(np.random.randn(3), np.random.randn(3))\n",
    "# Default initial state\n",
    "robot.reset(rotor_rpm=100.)\n",
    "\n",
    "# Choose how long we want to run the simulation, and\n",
    "# compute the corresponding number of time steps\n",
    "run_time = 10.\n",
    "num_steps = int(run_time/robot.dt)\n",
    "\n",
    "# Create a dictionary in which to store results\n",
    "data = {\n",
    "    't': np.empty(num_steps, dtype=float),\n",
    "    'q_1': np.empty(num_steps, dtype=float),\n",
    "    'v_1': np.empty(num_steps, dtype=float),\n",
    "    'q_2': np.empty(num_steps, dtype=float),\n",
    "    'v_2': np.empty(num_steps, dtype=float),\n",
    "    'q_3': np.empty(num_steps, dtype=float),\n",
    "    'v_3': np.empty(num_steps, dtype=float),\n",
    "    'tau_2': np.empty(num_steps, dtype=float),\n",
    "    'tau_3': np.empty(num_steps, dtype=float),\n",
    "}\n",
    "\n",
    "# Run the simulation loop\n",
    "start_time = time.time()\n",
    "for step in range(num_steps):\n",
    "    # Get the current time\n",
    "    t = robot.dt * step\n",
    "    \n",
    "    # Get the sensor measurements\n",
    "    q_1, v_1, q_2, v_2, q_3, v_3 = robot.get_sensor_measurements()\n",
    "    \n",
    "    # Choose the actuator command (by running the controller)\n",
    "    tau_2, tau_3 = controller.run(q_1, v_1, q_2, v_2, q_3, v_3)\n",
    "    \n",
    "    # Log the data from this time step\n",
    "    data['t'][step] = t\n",
    "    data['q_1'][step] = q_1\n",
    "    data['v_1'][step] = v_1\n",
    "    data['q_2'][step] = q_2\n",
    "    data['v_2'][step] = v_2\n",
    "    data['q_3'][step] = q_3\n",
    "    data['v_3'][step] = v_3\n",
    "    data['tau_2'][step] = tau_2\n",
    "    data['tau_3'][step] = tau_3\n",
    "    \n",
    "    # Send the actuator commands to robot and go forward one time\n",
    "    # step (this is where the actual simulation happens)\n",
    "    robot.set_actuator_commands(tau_2, tau_3)\n",
    "    robot.step(t=(start_time + (robot.dt * (step + 1))))"
   ]
  },
  {
   "cell_type": "markdown",
   "metadata": {},
   "source": [
    "## Plotting the Results"
   ]
  },
  {
   "cell_type": "code",
   "execution_count": null,
   "metadata": {},
   "outputs": [],
   "source": [
    "# Create a figure with three subplots\n",
    "fig, ax = plt.subplots(3, 2, figsize=(12, 10), sharex=True)\n",
    "\n",
    "# Plot angle of outer gimbal on first subplot\n",
    "ax[0,0].plot(data['t'], data['q_1'], label='outer angle (rad)', linewidth=4)\n",
    "ax[0,0].plot(data['t'], np.ones_like(data['t']) * controller.q1_des, label='desired angle (rad)', linewidth=3)\n",
    "ax[0,0].grid()\n",
    "ax[0,0].legend(fontsize=16)\n",
    "ax[0,0].tick_params(labelsize=14)\n",
    "\n",
    "# Plot angular velocity of outer gimbal on second subplot\n",
    "ax[1,0].plot(data['t'], data['v_1'], label='outer angular velocity (rad / s)', linewidth=4)\n",
    "ax[1,0].grid()\n",
    "ax[1,0].legend(fontsize=16)\n",
    "ax[1,0].tick_params(labelsize=14)\n",
    "\n",
    "# Plot torques on third subplot\n",
    "ax[2,0].plot(data['t'], data['tau_2'], label='gimbal torque command (N-m)', linewidth=4)\n",
    "ax[2,0].plot(data['t'], data['tau_3'], label='rotor torque command (N-m)', linewidth=4)\n",
    "ax[2,0].plot(data['t'], np.ones_like(data['t']) * robot.tau_max, '--', label='max joint torque', linewidth=4, color='C2')\n",
    "ax[2,0].plot(data['t'], -np.ones_like(data['t']) * robot.tau_max, '--', linewidth=4, color='C2')\n",
    "ax[2,0].grid()\n",
    "ax[2,0].legend(fontsize=16)\n",
    "ax[2,0].tick_params(labelsize=14)\n",
    "ax[2,0].set_ylim(-1.2 * robot.tau_max, 1.2 * robot.tau_max)\n",
    "\n",
    "# Plot gimbal angle on fourth subplot\n",
    "ax[0,1].plot(data['t'], data['q_2'], label='gimbal angle (rad)', linewidth=4)\n",
    "ax[0,1].grid()\n",
    "ax[0,1].legend(fontsize=16)\n",
    "ax[0,1].tick_params(labelsize=14)\n",
    "\n",
    "# Plot rotor speed to see the effectiveness\n",
    "ax[1,1].plot(data['t'], data['v_3'], label='rotor speed (rad/s)', linewidth=4)\n",
    "ax[1,1].grid()\n",
    "ax[1,1].legend(fontsize=16)\n",
    "ax[1,1].tick_params(labelsize=14)\n",
    "\n",
    "# Plot angle of actual vs theoretical output\n",
    "ax[2,1].plot(data['t'], data['q_1'], label='Experimental (rad)', linewidth=3)\n",
    "ax[2,1].plot(np.linspace(0,10,1001),(q+45*np.pi/180), label='Theoretical (rad)', linewidth=3)\n",
    "ax[2,1].grid()\n",
    "ax[2,1].set_xlabel(\"Time\", fontsize=14)\n",
    "ax[2,1].legend(fontsize=14)\n",
    "ax[2,1].tick_params(labelsize=10)\n",
    "\n",
    "ax[2,0].set_xlabel('time (s)', fontsize=14)\n",
    "ax[2,0].set_xlim([data['t'][0], data['t'][-1]])\n",
    "ax[2,1].set_xlim([data['t'][0], data['t'][-1]])\n",
    "\n",
    "# Make the arrangement of subplots look nice\n",
    "fig.tight_layout()"
   ]
  }
 ],
 "metadata": {
  "kernelspec": {
   "display_name": "Python (ae353-bullet)",
   "language": "python",
   "name": "ae353-bullet"
  },
  "language_info": {
   "codemirror_mode": {
    "name": "ipython",
    "version": 3
   },
   "file_extension": ".py",
   "mimetype": "text/x-python",
   "name": "python",
   "nbconvert_exporter": "python",
   "pygments_lexer": "ipython3",
   "version": "3.9.1-final"
  }
 },
 "nbformat": 4,
 "nbformat_minor": 2
}