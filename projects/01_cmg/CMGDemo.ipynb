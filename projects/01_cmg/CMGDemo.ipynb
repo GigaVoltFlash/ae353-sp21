{
 "cells": [
  {
   "cell_type": "markdown",
   "id": "middle-acoustic",
   "metadata": {},
   "source": [
    "# Control moment gyroscope"
   ]
  },
  {
   "cell_type": "markdown",
   "id": "working-minority",
   "metadata": {},
   "source": [
    "Import modules and configure the notebook."
   ]
  },
  {
   "cell_type": "code",
   "execution_count": null,
   "id": "dimensional-contamination",
   "metadata": {},
   "outputs": [],
   "source": [
    "# This module is part of the python standard library\n",
    "import time\n",
    "\n",
    "# These modules are part of other existing libraries\n",
    "import numpy as np\n",
    "import matplotlib.pyplot as plt\n",
    "\n",
    "# This is my own script (it is an interface to the pybullet simulator)\n",
    "import ae353_cmg\n",
    "\n",
    "# I often go back and forth between making changes to my scripts and to\n",
    "# the notebook in which they are used. One \"gotcha\" is that notebooks only\n",
    "# import modules or scripts ONCE. Subsequent imports don't do anything, and\n",
    "# in particular won't reflect any changes I've made to my scripts. To make\n",
    "# sure that I'm working with the latest version of my code, I use this bit\n",
    "# of magic, which forces the notebook to \"reload\" my script:\n",
    "import importlib\n",
    "importlib.reload(ae353_cmg)"
   ]
  },
  {
   "cell_type": "markdown",
   "id": "protective-retreat",
   "metadata": {},
   "source": [
    "Create an instance of the robot simulator. This will open a window in which you should see the platform with a single-gimbal control moment gyroscope.\n",
    "\n",
    "There are three optional parameters:\n",
    "\n",
    "* `damping` is the coefficient of viscouse friction at each joint (the default value is `0.`)\n",
    "* `dt` is the length of each time step in the simulator (the default value is `0.001`)\n",
    "* `display` is a flag that says whether or not to open the GUI (the default value is `True`)\n",
    "\n",
    "The `display` parameter, in particular, is likely to be of use to you. If you set `display=True`, then you will run the simulator in real-time with a GUI. If you set `display=False`, then you will run the simulator as fast as possible (faster than real-time) without a GUI. This is convenient when all you want is the data.\n",
    "\n",
    "**NOTE:** it is still necessary to reset the kernel (see the \"Kernel\" menu above) before creating a new instance of the robot simulator, even when running without a GUI - if you don't, then you'll notice that simulation slows way down."
   ]
  },
  {
   "cell_type": "code",
   "execution_count": null,
   "id": "placed-messenger",
   "metadata": {},
   "outputs": [],
   "source": [
    "robot = ae353_cmg.RobotSimulator(damping=0., dt=0.001, display=True)"
   ]
  },
  {
   "cell_type": "markdown",
   "id": "accepting-peeing",
   "metadata": {},
   "source": [
    "Define and create an instance of the robot controller. By default, it chooses to apply zero torque both to the gimbal and to the rotor. Modify the `run` function - or anything else in the class definition - to make the controller behave differently."
   ]
  },
  {
   "source": [
    "Some useful notes from the EOM notebook.\n",
    "\n",
    "Joint angles:\n",
    "\n",
    "q1 is the angle of the \"outer\" link. This is what we want to control and get to a particular angle\n",
    "The goal of this project is going to be to get this angle to 45 degrees.\n",
    "\n",
    "q2 is the angle of the \"inner\" link\n",
    "\n",
    "q3 is the angle of the wheel\n",
    "\n",
    "The same order applies to the velocities."
   ],
   "cell_type": "markdown",
   "metadata": {}
  },
  {
   "cell_type": "code",
   "execution_count": null,
   "id": "twelve-disco",
   "metadata": {},
   "outputs": [],
   "source": [
    "class RobotController:\n",
    "    def __init__(self, dt=0.001):\n",
    "        self.dt = dt #Timestep property of the RobotController class\n",
    "\n",
    "        #Desired angles and velocities and the gain matrix\n",
    "        self.K = np.array([[1.4594882944837606, 3.1845939441169344, 3.9244893404328085, 1.553113406696864, 0.0], [0.0, 0.0, 0.0, 0.0, 1.8238041813075716]])\n",
    "        # self.K = np.array([[1.6804196322734506, 0.08266600002446556, 3.4130038188286713, 4.756938056759606]])\n",
    "        self.q1_des = 145*np.pi/180\n",
    "        self.q2_des = 0\n",
    "        self.v1_des = 0\n",
    "        self.v2_des = 0\n",
    "        self.v3_des = 40 #rad/s\n",
    "\n",
    "    def run(self, q_1, v_1, q_2, v_2, q_3, v_3):\n",
    "        tau_2 = -(self.K[0,0]*(q_1 - self.q1_des) + self.K[0,1]*(v_1 - self.v1_des) + self.K[0,2]*(q_2) + self.K[0,3]*v_2 + self.K[0,4]*(v_3 - self.v3_des))# <-- torque applied to gimbal. \n",
    "        tau_3 = -(self.K[1,0]*(q_1 - self.q1_des) + self.K[1,1]*(v_1 - self.v1_des) + self.K[1,2]*(q_2) + self.K[1,3]*v_2 + self.K[1,4]*(v_3 - self.v3_des))\n",
    "        return tau_2, tau_3\n",
    "\n",
    "controller = RobotController(dt=robot.dt)"
   ]
  },
  {
   "cell_type": "markdown",
   "id": "relative-aquarium",
   "metadata": {},
   "source": [
    "Run the simulation. It is a loop. At each iteration, we:\n",
    "* get sensor measurements\n",
    "* choose actuator commands\n",
    "* go forward one time step\n",
    "\n",
    "We also log data so that we can plot it later, if we want."
   ]
  },
  {
   "cell_type": "code",
   "execution_count": null,
   "id": "professional-dayton",
   "metadata": {},
   "outputs": [],
   "source": [
    "# Restore the simulation to its initial state\n",
    "robot.reset(rotor_rpm=100.)\n",
    "\n",
    "# Choose how long we want to run the simulation, and\n",
    "# compute the corresponding number of time steps\n",
    "run_time = 15.\n",
    "num_steps = int(run_time/robot.dt)\n",
    "\n",
    "# Create a dictionary in which to store results\n",
    "data = {\n",
    "    't': np.empty(num_steps, dtype=float),\n",
    "    'q_1': np.empty(num_steps, dtype=float),\n",
    "    'v_1': np.empty(num_steps, dtype=float),\n",
    "    'q_2': np.empty(num_steps, dtype=float),\n",
    "    'v_2': np.empty(num_steps, dtype=float),\n",
    "    'q_3': np.empty(num_steps, dtype=float),\n",
    "    'v_3': np.empty(num_steps, dtype=float),\n",
    "    'tau_2': np.empty(num_steps, dtype=float),\n",
    "    'tau_3': np.empty(num_steps, dtype=float),\n",
    "}\n",
    "\n",
    "# Run the simulation loop\n",
    "start_time = time.time()\n",
    "for step in range(num_steps):\n",
    "    # Get the current time\n",
    "    t = robot.dt * step\n",
    "    \n",
    "    # Get the sensor measurements\n",
    "    q_1, v_1, q_2, v_2, q_3, v_3 = robot.get_sensor_measurements()\n",
    "    \n",
    "    # Choose the actuator command (by running the controller)\n",
    "    tau_2, tau_3 = controller.run(q_1, v_1, q_2, v_2, q_3, v_3)\n",
    "    \n",
    "    # Log the data from this time step\n",
    "    data['t'][step] = t\n",
    "    data['q_1'][step] = q_1\n",
    "    data['v_1'][step] = v_1\n",
    "    data['q_2'][step] = q_2\n",
    "    data['v_2'][step] = v_2\n",
    "    data['q_3'][step] = q_3\n",
    "    data['v_3'][step] = v_3\n",
    "    data['tau_2'][step] = tau_2\n",
    "    data['tau_3'][step] = tau_3\n",
    "    \n",
    "    # Send the actuator commands to robot and go forward one time\n",
    "    # step (this is where the actual simulation happens)\n",
    "    robot.set_actuator_commands(tau_2, tau_3)\n",
    "    robot.step(t=(start_time + (robot.dt * (step + 1))))"
   ]
  },
  {
   "cell_type": "markdown",
   "id": "alternate-pregnancy",
   "metadata": {},
   "source": [
    "An example of how to plot results. This is just an example!"
   ]
  },
  {
   "cell_type": "code",
   "execution_count": null,
   "id": "divine-inspection",
   "metadata": {},
   "outputs": [],
   "source": [
    "# Create a figure with three subplots, all of which share the same x-axis\n",
    "fig, ax = plt.subplots(5, 1, figsize=(9, 12), sharex=True)\n",
    "\n",
    "# Plot angle of outer gimbal on first subplot\n",
    "ax[0].plot(data['t'], data['q_1'], label='outer angle (rad)', linewidth=4)\n",
    "ax[0].plot(data['t'], np.ones_like(data['t']) * controller.q1_des, label='desired angle (rad)', linewidth=3)\n",
    "ax[0].grid()\n",
    "ax[0].legend(fontsize=16)\n",
    "ax[0].tick_params(labelsize=14)\n",
    "\n",
    "# Plot angular velocity of outer gimbal on second subplot\n",
    "ax[1].plot(data['t'], data['v_1'], label='outer angular velocity (rad / s)', linewidth=4)\n",
    "ax[1].grid()\n",
    "ax[1].legend(fontsize=16)\n",
    "ax[1].tick_params(labelsize=14)\n",
    "\n",
    "# Plot torques on third subplot\n",
    "ax[2].plot(data['t'], data['tau_2'], label='gimbal torque command (N-m)', linewidth=4)\n",
    "ax[2].plot(data['t'], data['tau_3'], label='rotor torque command (N-m)', linewidth=4)\n",
    "ax[2].plot(data['t'], np.ones_like(data['t']) * robot.tau_max, '--', label='max joint torque', linewidth=4, color='C2')\n",
    "ax[2].plot(data['t'], -np.ones_like(data['t']) * robot.tau_max, '--', linewidth=4, color='C2')\n",
    "ax[2].grid()\n",
    "ax[2].legend(fontsize=16)\n",
    "ax[2].tick_params(labelsize=14)\n",
    "#ax[2].set_ylim(-1.2 * robot.tau_max, 1.2 * robot.tau_max)\n",
    "\n",
    "# Plot gimbal angle on fourth subplot\n",
    "ax[3].plot(data['t'], data['q_2'], label='gimbal angle (rad)', linewidth=4)\n",
    "ax[3].grid()\n",
    "ax[3].legend(fontsize=16)\n",
    "ax[3].tick_params(labelsize=14)\n",
    "\n",
    "# Plot rotor speed to see the effectiveness\n",
    "ax[4].plot(data['t'], data['v_2'], label='rotor speed (rad/s)', linewidth=4)\n",
    "ax[4].grid()\n",
    "ax[4].legend(fontsize=16)\n",
    "ax[4].tick_params(labelsize=14)\n",
    "\n",
    "# Set x-axis properties (only need to do this on the fourth\n",
    "# subplot since all four subplots share the same x-axis)\n",
    "ax[2].set_xlabel('time (s)', fontsize=20)\n",
    "ax[2].set_xlim([data['t'][0], data['t'][-1]])\n",
    "\n",
    "# Make the arrangement of subplots look nice\n",
    "fig.tight_layout()"
   ]
  },
  {
   "cell_type": "code",
   "execution_count": null,
   "id": "vanilla-conditioning",
   "metadata": {},
   "outputs": [],
   "source": []
  }
 ],
 "metadata": {
  "kernelspec": {
   "display_name": "Python (ae353-bullet)",
   "language": "python",
   "name": "ae353-bullet"
  },
  "language_info": {
   "codemirror_mode": {
    "name": "ipython",
    "version": 3
   },
   "file_extension": ".py",
   "mimetype": "text/x-python",
   "name": "python",
   "nbconvert_exporter": "python",
   "pygments_lexer": "ipython3",
   "version": "3.9.1-final"
  }
 },
 "nbformat": 4,
 "nbformat_minor": 5
}