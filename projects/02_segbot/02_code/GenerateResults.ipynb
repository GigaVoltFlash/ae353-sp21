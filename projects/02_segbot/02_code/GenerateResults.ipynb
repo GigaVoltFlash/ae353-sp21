{
 "metadata": {
  "language_info": {
   "codemirror_mode": {
    "name": "ipython",
    "version": 3
   },
   "file_extension": ".py",
   "mimetype": "text/x-python",
   "name": "python",
   "nbconvert_exporter": "python",
   "pygments_lexer": "ipython3",
   "version": "3.9.1-final"
  },
  "orig_nbformat": 2,
  "kernelspec": {
   "name": "python3",
   "display_name": "Python 3.9.1 64-bit ('ae353-bullet': conda)",
   "metadata": {
    "interpreter": {
     "hash": "3707160b982f1f10a85ea1c67ea35aa941c037d0e03bc0fc649503b13cc8856a"
    }
   }
  }
 },
 "nbformat": 4,
 "nbformat_minor": 2,
 "cells": [
  {
   "source": [
    "# Generating Results for Project 2\n",
    "\n",
    "This notebook includes all the code needed to run the calculations and simulations that I used in my second design project. This notebook also has the capability of simulating 2 two robots at the same time.\n",
    "The notebook will first go through the calculations for LQR and then go through the simulation and results"
   ],
   "cell_type": "markdown",
   "metadata": {}
  },
  {
   "source": [
    "First, we import all the required libraries"
   ],
   "cell_type": "markdown",
   "metadata": {}
  },
  {
   "cell_type": "code",
   "execution_count": null,
   "metadata": {},
   "outputs": [],
   "source": [
    "# This module is part of the python standard library\n",
    "import time\n",
    "\n",
    "# These modules are part of other existing libraries\n",
    "import numpy as np\n",
    "import matplotlib.pyplot as plt\n",
    "import sympy as sym\n",
    "from scipy import linalg\n",
    "\n",
    "# Given pybullet script (it is an interface to the pybullet simulator)\n",
    "import ae353_segbot\n",
    "\n",
    "import importlib\n",
    "importlib.reload(ae353_segbot)"
   ]
  },
  {
   "source": [
    "## Linearizing the System"
   ],
   "cell_type": "markdown",
   "metadata": {}
  },
  {
   "source": [
    "First we need to setup the symbolic equations and linearize the system about an equilibrium point."
   ],
   "cell_type": "markdown",
   "metadata": {}
  },
  {
   "cell_type": "code",
   "execution_count": null,
   "metadata": {},
   "outputs": [],
   "source": [
    "(e_l,\n",
    " e_h,\n",
    " v,\n",
    " w,\n",
    " theta,\n",
    " thetadot,\n",
    " tau_L,\n",
    " tau_R) = sym.symbols('e_l, e_h, v, w, theta, thetadot, tau_L, tau_R', real=True)"
   ]
  },
  {
   "source": [
    "This large block bellow is taken mostly from the DeriveEOM notebook that was already provided. However, there were only 5 equation (theta wasn't part of the state) so I added that."
   ],
   "cell_type": "markdown",
   "metadata": {}
  },
  {
   "cell_type": "code",
   "execution_count": null,
   "metadata": {},
   "outputs": [],
   "source": [
    "# Dimensions of chassis\n",
    "dx = 0.4\n",
    "dy = 0.6\n",
    "dz = 0.8\n",
    "\n",
    "# Distance between axle and COM of chassis\n",
    "h = 0.3\n",
    "\n",
    "# Half-distance between wheels\n",
    "a = 0.7 / 2\n",
    "\n",
    "# Mass of chassis\n",
    "mb = 12.\n",
    "\n",
    "# MOI of chassis\n",
    "Jbx = (mb / 12) * (dy**2 + dz**2)\n",
    "Jby = (mb / 12) * (dx**2 + dz**2)\n",
    "Jbz = (mb / 12) * (dx**2 + dy**2)\n",
    "\n",
    "# Radius of each wheel\n",
    "r = 0.325\n",
    "\n",
    "# Width of each wheel\n",
    "hw = 0.075\n",
    "\n",
    "# Mass of each wheel\n",
    "mw = 1.2\n",
    "\n",
    "# MOI of each wheel\n",
    "Jw = (mw / 2) * r**2\n",
    "Jwt = (mw / 12) * (3 * r**2 + hw**2)\n",
    "\n",
    "# Total mass\n",
    "m = mb + 2 * mw\n",
    "\n",
    "# Total MOI\n",
    "Jx = Jbx + 2 * Jwt\n",
    "Jy = Jby\n",
    "Jz = Jbz + 2 * Jwt\n",
    "\n",
    "# Acceleration of gravity\n",
    "g = 9.81\n",
    "\n",
    "# Dimensions\n",
    "h = sym.nsimplify(h)\n",
    "a = sym.nsimplify(a)\n",
    "r = sym.nsimplify(r)\n",
    "\n",
    "# Masses\n",
    "mb = sym.nsimplify(mb)\n",
    "mw = sym.nsimplify(mw)\n",
    "m = sym.nsimplify(m)\n",
    "\n",
    "# MOIs\n",
    "Jx = sym.nsimplify(Jx)\n",
    "Jy = sym.nsimplify(Jy)\n",
    "Jz = sym.nsimplify(Jz)\n",
    "Jw = sym.nsimplify(Jw)\n",
    "Jwt = sym.nsimplify(Jwt)\n",
    "\n",
    "# Gravity\n",
    "g = sym.nsimplify(g)\n",
    "\n",
    "M = sym.Matrix([[m + 2 * Jw / r**2, 0, mb * h * sym.cos(theta)],\n",
    "                [0, (Jx + mb * h**2) * sym.sin(theta)**2 + Jz * sym.cos(theta)**2 + (2 * Jw * a**2 / r**2) + 2 * mw * a**2, 0],\n",
    "                [mb * h * sym.cos(theta), 0, Jy * mb * h**2]])\n",
    "N = sym.Matrix([[mb * h * (w**2 + thetadot**2) * sym.sin(theta)],\n",
    "                [-2 * (Jx - Jz + m * h**2) * sym.cos(theta) * sym.sin(theta) * w * thetadot - mb * h * sym.sin(theta) * v * w],\n",
    "                [(Jx - Jz + mb * h**2) * sym.cos(theta) * sym.sin(theta) * w**2 + mb * g * h * sym.sin(theta)]])\n",
    "R = sym.Matrix([[1 / r, 1 / r],\n",
    "                [-a / r, a / r],\n",
    "                [-1, -1]])\n",
    "f = sym.simplify(M.inv() * (N + R * sym.Matrix([[tau_L], [tau_R]])))\n",
    "# In the definition below for f, I added the 5th equation \"thetadot\" which is the derivative of theta, to complete my set of the equations of motion\n",
    "f = sym.Matrix([[v * sym.sin(e_h)],\n",
    "                [w],\n",
    "                [f[0]],\n",
    "                [f[1]],\n",
    "                [thetadot],\n",
    "                [f[2]]])"
   ]
  },
  {
   "cell_type": "code",
   "execution_count": null,
   "metadata": {},
   "outputs": [],
   "source": [
    "# See f\n",
    "# f"
   ]
  },
  {
   "cell_type": "code",
   "execution_count": null,
   "metadata": {},
   "outputs": [],
   "source": [
    "# Make f an executable function\n",
    "f_num = sym.lambdify((e_l, e_h, v, w, theta, thetadot, tau_L, tau_R), f)"
   ]
  },
  {
   "cell_type": "code",
   "execution_count": null,
   "metadata": {},
   "outputs": [],
   "source": [
    "# Equilibrium values around which the system is linearized\n",
    "\n",
    "e_l_e = 0\n",
    "e_h_e = 0\n",
    "v_e = 4 # Around the velocity that we want, can change this if needed\n",
    "w_e = 0\n",
    "theta_e = 0\n",
    "thetadot_e = 0\n",
    "tau_L_e = 0\n",
    "tau_R_e = 0"
   ]
  },
  {
   "cell_type": "code",
   "execution_count": null,
   "metadata": {},
   "outputs": [],
   "source": [
    "# Checking if the equilibrium values work\n",
    "f_eq = f_num(e_l_e, e_h_e, v_e, w_e, theta_e, thetadot_e, tau_L_e, tau_R_e)\n",
    "f_eq #evaluates to 0! Nice!"
   ]
  },
  {
   "source": [
    "Now that we have the governing equations of motion and an equilibrium position, we can linearize the system about that equilibrium point."
   ],
   "cell_type": "markdown",
   "metadata": {}
  },
  {
   "cell_type": "code",
   "execution_count": null,
   "metadata": {},
   "outputs": [],
   "source": [
    "#Now we find the Jacobians\n",
    "f_jacob_x = f.jacobian([e_l, e_h, v, w, theta, thetadot])\n",
    "f_jacob_u = f.jacobian([tau_L,tau_R])\n",
    "\n",
    "#And then we find functions for A and B using this jacobian\n",
    "A_num = sym.lambdify((e_l, e_h, v, w, theta, thetadot, tau_L, tau_R),f_jacob_x)\n",
    "B_num = sym.lambdify((e_l, e_h, v, w, theta, thetadot, tau_L, tau_R),f_jacob_u)\n",
    "\n",
    "#Finally, we find the linearized state space model by evaluating A_num and B_num at the equilibrium points\n",
    "A = A_num(e_l_e, e_h_e, v_e, w_e, theta_e, thetadot_e, tau_L_e, tau_R_e).astype(float)\n",
    "B = B_num(e_l_e, e_h_e, v_e, w_e, theta_e, thetadot_e, tau_L_e, tau_R_e).astype(float)"
   ]
  },
  {
   "cell_type": "code",
   "execution_count": null,
   "metadata": {},
   "outputs": [],
   "source": [
    "# See the linear system\n",
    "A"
   ]
  },
  {
   "cell_type": "code",
   "execution_count": null,
   "metadata": {},
   "outputs": [],
   "source": [
    "B"
   ]
  },
  {
   "source": [
    "## Checking Controllability\n",
    "\n",
    "We need to check if our system is controllable or not before we start designing a controller. For this, we calculate the $$W$$ matrix and check its rank."
   ],
   "cell_type": "markdown",
   "metadata": {}
  },
  {
   "cell_type": "code",
   "execution_count": null,
   "metadata": {},
   "outputs": [],
   "source": [
    "# Find the number of states\n",
    "n = A.shape[0]\n",
    "\n",
    "# Initialize W with its first column\n",
    "W = B\n",
    "\n",
    "# Create W one column at a time by iterating over i from 1 to n-1\n",
    "for i in range(1, n):\n",
    "    col = np.linalg.matrix_power(A, i) @ B\n",
    "    W = np.block([W, col])\n",
    "    "
   ]
  },
  {
   "cell_type": "code",
   "execution_count": null,
   "metadata": {},
   "outputs": [],
   "source": [
    "W"
   ]
  },
  {
   "cell_type": "code",
   "execution_count": null,
   "metadata": {},
   "outputs": [],
   "source": [
    "# What about the rank?\n",
    "print(np.linalg.matrix_rank(W))\n"
   ]
  },
  {
   "source": [
    "We see that the rank of the controllability matrix is equal to the number of states in the system. This means that our chosen system is controllable! Perfect. We can now move on to the next step, designing an appropriate controller using LQR."
   ],
   "cell_type": "markdown",
   "metadata": {}
  },
  {
   "source": [
    "## Finding controller gains using LQR\n",
    "The main additional matrices that LQR requires are the Q and the R matrices, which are the error-cost and the effort-cost matrices respecively. Finding these is a manual task that requires some testing to find sensible gains that meet our requirements.\n",
    "As such, the cost matrices seen below were derived after a lot of testing.\n",
    "After finding Q and R, we use the absolute ricatti equation to solve for P and then find K."
   ],
   "cell_type": "markdown",
   "metadata": {}
  },
  {
   "cell_type": "code",
   "execution_count": null,
   "metadata": {},
   "outputs": [],
   "source": [
    "Q = np.diag([50,35,1,20,60,40]) # Lateral error, heading error, forward speed, turning rate, pitch, pitch rate\n",
    "# Q = np.diag([100,2,1,1,2,1])\n",
    "R = np.diag([1.,1.])\n",
    "\n",
    "P = linalg.solve_continuous_are(A, B, Q, R)\n",
    "K = linalg.inv(R) @  B.T @ P"
   ]
  },
  {
   "cell_type": "code",
   "execution_count": null,
   "metadata": {},
   "outputs": [],
   "source": [
    "# Let's see K\n",
    "K.tolist()"
   ]
  },
  {
   "source": [
    "Just in case, let us check the eigenvalues of the system."
   ],
   "cell_type": "markdown",
   "metadata": {}
  },
  {
   "cell_type": "code",
   "execution_count": null,
   "metadata": {},
   "outputs": [],
   "source": [
    "# Check stability of the K calculated above\n",
    "F  = A - B@K\n",
    "s = linalg.eigvals(F)\n",
    "print(s.real)"
   ]
  },
  {
   "cell_type": "code",
   "execution_count": null,
   "metadata": {},
   "outputs": [],
   "source": [
    "# Let's check the imaginary components too\n",
    "print(s.imag)"
   ]
  },
  {
   "source": [
    "Looks like all our eigenvalues have negative real parts but a few have imaginary parts. This means that we'll get some oscillation, but we should generally have a stable system."
   ],
   "cell_type": "markdown",
   "metadata": {}
  },
  {
   "cell_type": "code",
   "execution_count": null,
   "metadata": {},
   "outputs": [],
   "source": [
    "# F = sym.simplify(sym.Matrix(F))\n",
    "# x0 = np.array([[0],[0],[0],[0],[0],[0]])\n",
    "# t = sym.Symbol('t')\n",
    "# sym.exp(-F*t)"
   ]
  },
  {
   "source": [
    "## Simulating our System\n",
    "With a decided K value, we can now run our system in the segbot simulation. This simulation is different from the original as it accomodates for two robots  that can take two different controllers if that condition is set to be true. The simulation has more fun models :)"
   ],
   "cell_type": "markdown",
   "metadata": {}
  },
  {
   "source": [
    "Create an instance of the robot simulator. This will open a window in which you should see the segbot.\n",
    "\n",
    "There are four optional parameters:\n",
    "\n",
    "* `damping` is the coefficient of viscous friction at each wheel joint (the default value is `0.`)\n",
    "* `dt` is the length of each time step in the simulator (the default value is `0.01`)\n",
    "* `two_robots` will change the number of robots in the simulation from 1 to 2\n",
    "* `display` is a flag that says whether or not to open the GUI (the default value is `True`)"
   ],
   "cell_type": "markdown",
   "metadata": {}
  },
  {
   "cell_type": "code",
   "execution_count": null,
   "metadata": {},
   "outputs": [],
   "source": [
    "two_robots = True"
   ]
  },
  {
   "cell_type": "code",
   "execution_count": null,
   "metadata": {},
   "outputs": [],
   "source": [
    "robot = ae353_segbot.RobotSimulator(damping=0., dt=0.01, two_robots=two_robots, display=True)"
   ]
  },
  {
   "source": [
    "Below, we set different K values for the 2 robots if required. If not, we can just set them both to the same value."
   ],
   "cell_type": "markdown",
   "metadata": {}
  },
  {
   "cell_type": "code",
   "execution_count": null,
   "metadata": {},
   "outputs": [],
   "source": [
    "K1 = K\n",
    "K2 = K"
   ]
  },
  {
   "source": [
    "Next, we define two different controllers for the two different robots. Again, the reason this exists is because I could test two controller simultaneously and compare easily."
   ],
   "cell_type": "markdown",
   "metadata": {}
  },
  {
   "cell_type": "code",
   "execution_count": null,
   "metadata": {},
   "outputs": [],
   "source": [
    "class RobotController1:\n",
    "    def __init__(self, dt=0.01, K = K1):\n",
    "        self.dt = dt\n",
    "        self.v_des = 3.0\n",
    "        self.e_l_des = -0.3\n",
    "        self.K = K\n",
    "\n",
    "    def run(self, lateral_error, heading_error, forward_speed, turning_rate, pitch_angle, pitch_rate):\n",
    "        x = np.array([[lateral_error-self.e_l_des], [heading_error], [forward_speed - self.v_des], [turning_rate], [pitch_angle], [pitch_rate]])\n",
    "        u = -self.K @ x\n",
    "\n",
    "        tau_left = u[0] # <-- Torque to left wheel\n",
    "        tau_right = u[1] # <-- Torque to right wheel\n",
    "        \n",
    "        return tau_left, tau_right\n",
    "\n",
    "controller1 = RobotController1(dt=robot.dt)\n",
    "\n",
    "################################################\n",
    "\n",
    "#Controller for robot 2\n",
    "class RobotController2:\n",
    "    def __init__(self, dt=0.01, K = K2):\n",
    "        self.dt = dt\n",
    "        self.v_des = 3.0\n",
    "        self.e_l_des = -0.3\n",
    "        self.K = K\n",
    "\n",
    "    def run(self, lateral_error, heading_error, forward_speed, turning_rate, pitch_angle, pitch_rate):\n",
    "        x = np.array([[lateral_error-self.e_l_des], [heading_error], [forward_speed - self.v_des], [turning_rate], [pitch_angle], [pitch_rate]])\n",
    "        u = -self.K @ x\n",
    "\n",
    "        tau_left = u[0] # <-- Torque to left wheel\n",
    "        tau_right = u[1] # <-- Torque to right wheel\n",
    "        \n",
    "        return tau_left, tau_right\n",
    "\n",
    "controller2 = RobotController2(dt=robot.dt)"
   ]
  },
  {
   "source": [
    "Run the simulation. It is a loop. At each iteration, we:\n",
    "* get sensor measurements\n",
    "* choose actuator commands\n",
    "* go forward one time step\n",
    "\n",
    "We also log data so that we can plot it later, if we want."
   ],
   "cell_type": "markdown",
   "metadata": {}
  },
  {
   "cell_type": "code",
   "execution_count": null,
   "metadata": {},
   "outputs": [],
   "source": [
    "# Restore the simulation to its initial state\n",
    "robot.reset(turn_left=False,            # does the robot turn left or right around the track\n",
    "            ground_pitch=0.0,            # angle that the track is sloped (rad)\n",
    "            initial_speed=0.0,           # initial forward speed of segbot (m/s)\n",
    "            initial_lateral_error=0.,   # initial lateral error of segbot (m)\n",
    "            initial_heading_error=0.,   # initial heading error of segbot (rad)\n",
    "            initial_pitch=0.0)           # initial pitch angle of chassis (rad)\n",
    "\n",
    "# Choose a camera view\n",
    "# robot.camera_sideview()\n",
    "# robot.camera_topview()\n",
    "# robot.camera_chaseview(yaw=270.) # For robot 1, robot 2 camera not set up yet.\n",
    "\n",
    "\n",
    "# Choose how long we want to run the simulation, and\n",
    "# compute the corresponding number of time steps\n",
    "run_time = 20.\n",
    "num_steps = int(run_time/robot.dt)\n",
    "\n",
    "if (two_robots):\n",
    "    # Create a dictionary in which to store results\n",
    "    data = {\n",
    "        't': np.empty(num_steps, dtype=float),\n",
    "        'lateral_error1': np.empty(num_steps, dtype=float),\n",
    "        'heading_error1': np.empty(num_steps, dtype=float),\n",
    "        'forward_speed1': np.empty(num_steps, dtype=float),\n",
    "        'turning_rate1': np.empty(num_steps, dtype=float),\n",
    "        'pitch_angle1': np.empty(num_steps, dtype=float),\n",
    "        'pitch_rate1': np.empty(num_steps, dtype=float),\n",
    "        'tau_left_command1': np.empty(num_steps, dtype=float),\n",
    "        'tau_right_command1': np.empty(num_steps, dtype=float),\n",
    "        'tau_left1': np.empty(num_steps, dtype=float),\n",
    "        'tau_right1': np.empty(num_steps, dtype=float),\n",
    "        'lateral_error2': np.empty(num_steps, dtype=float),\n",
    "        'heading_error2': np.empty(num_steps, dtype=float),\n",
    "        'forward_speed2': np.empty(num_steps, dtype=float),\n",
    "        'turning_rate2': np.empty(num_steps, dtype=float),\n",
    "        'pitch_angle2': np.empty(num_steps, dtype=float),\n",
    "        'pitch_rate2': np.empty(num_steps, dtype=float),\n",
    "        'tau_left_command2': np.empty(num_steps, dtype=float),\n",
    "        'tau_right_command2': np.empty(num_steps, dtype=float),\n",
    "        'tau_left2': np.empty(num_steps, dtype=float),\n",
    "        'tau_right2': np.empty(num_steps, dtype=float),\n",
    "    }\n",
    "else:\n",
    "    data = {\n",
    "        't': np.empty(num_steps, dtype=float),\n",
    "        'lateral_error1': np.empty(num_steps, dtype=float),\n",
    "        'heading_error1': np.empty(num_steps, dtype=float),\n",
    "        'forward_speed1': np.empty(num_steps, dtype=float),\n",
    "        'turning_rate1': np.empty(num_steps, dtype=float),\n",
    "        'pitch_angle1': np.empty(num_steps, dtype=float),\n",
    "        'pitch_rate1': np.empty(num_steps, dtype=float),\n",
    "        'tau_left_command1': np.empty(num_steps, dtype=float),\n",
    "        'tau_right_command1': np.empty(num_steps, dtype=float),\n",
    "        'tau_left1': np.empty(num_steps, dtype=float),\n",
    "        'tau_right1': np.empty(num_steps, dtype=float)\n",
    "    }\n",
    "\n",
    "# Run the simulation loop\n",
    "start_time = time.time()\n",
    "for step in range(num_steps):\n",
    "    # Get the current time\n",
    "    t = robot.dt * step\n",
    "    \n",
    "    # Get the sensor measurements\n",
    "    (lateral_error1,\n",
    "     heading_error1,\n",
    "     forward_speed1,\n",
    "     turning_rate1,\n",
    "     pitch_angle1,\n",
    "     pitch_rate1) = robot.get_sensor_measurements(robot.robot1_id,robot.joint_ids1)\n",
    "\n",
    "    \n",
    "    # Choose the actuator command (by running the controller) for robot 1\n",
    "    tau_left_command1, tau_right_command1 = controller1.run(lateral_error1,\n",
    "                                                         heading_error1,\n",
    "                                                         forward_speed1,\n",
    "                                                         turning_rate1,\n",
    "                                                         pitch_angle1,\n",
    "                                                         pitch_rate1)\n",
    "    \n",
    "    # Apply the actuator commands for robot 1\n",
    "    tau_left1, tau_right1 = robot.set_actuator_commands(robot.robot1_id, robot.joint_ids1, tau_left_command1, tau_right_command1)\n",
    "    \n",
    "    # Log the data for robot 1 from this time step\n",
    "    data['t'][step] = t\n",
    "    data['lateral_error1'][step] = lateral_error1\n",
    "    data['heading_error1'][step] = heading_error1\n",
    "    data['forward_speed1'][step] = forward_speed1\n",
    "    data['turning_rate1'][step] = turning_rate1\n",
    "    data['pitch_angle1'][step] = pitch_angle1\n",
    "    data['pitch_rate1'][step] = pitch_rate1\n",
    "    data['tau_left_command1'][step] = tau_left_command1\n",
    "    data['tau_right_command1'][step] = tau_right_command1\n",
    "    data['tau_left1'][step] = tau_left1\n",
    "    data['tau_right1'][step] = tau_right1\n",
    "    \n",
    "    if (two_robots):\n",
    "        # Get the sensor measurements\n",
    "        (lateral_error2,\n",
    "        heading_error2,\n",
    "        forward_speed2,\n",
    "        turning_rate2,\n",
    "        pitch_angle2,\n",
    "        pitch_rate2) = robot.get_sensor_measurements(robot.robot2_id,robot.joint_ids2)\n",
    "\n",
    "         # Choose the actuator command (by running the controller) for robot 2\n",
    "        tau_left_command2, tau_right_command2 = controller2.run(lateral_error2,\n",
    "                                                            heading_error2,\n",
    "                                                            forward_speed2,\n",
    "                                                            turning_rate2,\n",
    "                                                            pitch_angle2,\n",
    "                                                            pitch_rate2)\n",
    "        \n",
    "\n",
    "        # Apply the actuator commands for robot 2\n",
    "        tau_left2, tau_right2 = robot.set_actuator_commands(robot.robot2_id, robot.joint_ids2, tau_left_command2, tau_right_command2)\n",
    "\n",
    "        # Log the data for robot 2 from this time step\n",
    "        data['lateral_error2'][step] = lateral_error2\n",
    "        data['heading_error2'][step] = heading_error2\n",
    "        data['forward_speed2'][step] = forward_speed2\n",
    "        data['turning_rate2'][step] = turning_rate2\n",
    "        data['pitch_angle2'][step] = pitch_angle2\n",
    "        data['pitch_rate2'][step] = pitch_rate2\n",
    "        data['tau_left_command2'][step] = tau_left_command2\n",
    "        data['tau_right_command2'][step] = tau_right_command2\n",
    "        data['tau_left2'][step] = tau_left2\n",
    "        data['tau_right2'][step] = tau_right2\n",
    "    \n",
    "    # Simulate one time step\n",
    "    robot.step(t=(start_time + (robot.dt * (step + 1))))"
   ]
  },
  {
   "source": [
    "## Plotting the results\n",
    "Some of the axes are limited to help in the verification of our requirements"
   ],
   "cell_type": "markdown",
   "metadata": {}
  },
  {
   "cell_type": "code",
   "execution_count": null,
   "metadata": {},
   "outputs": [],
   "source": [
    "# Create a figure with four subplots, all of which share the same x-axis\n",
    "fig, ax = plt.subplots(4, 1, figsize=(9, 12), sharex=True)\n",
    "\n",
    "# First subplot\n",
    "ax[0].plot(data['t'], data['lateral_error1'], label='lateral error (m)', linewidth=2)\n",
    "ax[0].plot(data['t'], data['heading_error1'], label='heading error (rad)', linewidth=2)\n",
    "ax[0].grid()\n",
    "ax[0].legend(fontsize=16)\n",
    "ax[0].tick_params(labelsize=14)\n",
    "ax[0].set_ylim(-0.3,0.3)\n",
    "\n",
    "\n",
    "# Second subplot\n",
    "ax[1].plot(data['t'], data['forward_speed1'], label='forward speed (m/s)', linewidth=2)\n",
    "ax[1].plot(data['t'], data['turning_rate1'], label='turning rate (rad/s)', linewidth=2)\n",
    "ax[1].grid()\n",
    "ax[1].legend(fontsize=16)\n",
    "ax[1].tick_params(labelsize=14)\n",
    "\n",
    "# Third subplot\n",
    "ax[2].plot(data['t'], data['pitch_angle1'], label='pitch angle (rad)', linewidth=2)\n",
    "ax[2].plot(data['t'], data['pitch_rate1'], label='pitch rate (rad/s)', linewidth=2)\n",
    "ax[2].grid()\n",
    "ax[2].legend(fontsize=16)\n",
    "ax[2].tick_params(labelsize=14)\n",
    "\n",
    "# Fourth subplot\n",
    "ax[3].plot(data['t'], data['tau_left1'], label='left wheel torque (N-m)', linewidth=4)\n",
    "ax[3].plot(data['t'], data['tau_right1'], label='right wheel torque (N-m)', linewidth=4)\n",
    "ax[3].plot(data['t'], np.ones_like(data['t']) * robot.tau_max, '--', label='max torque', linewidth=4, color='C2')\n",
    "ax[3].plot(data['t'], -np.ones_like(data['t']) * robot.tau_max, '--', linewidth=4, color='C2')\n",
    "ax[3].grid()\n",
    "ax[3].legend(fontsize=16)\n",
    "ax[3].tick_params(labelsize=14)\n",
    "ax[3].set_ylim(-1.2 * robot.tau_max, 1.2 * robot.tau_max)\n",
    "\n",
    "# Set x-axis properties (only need to do this on the fourth\n",
    "# subplot since all four subplots share the same x-axis)\n",
    "ax[3].set_xlabel('time (s)', fontsize=20)\n",
    "ax[3].set_xlim([data['t'][0], data['t'][-1]])\n",
    "\n",
    "# Make the arrangement of subplots look nice\n",
    "fig.tight_layout()"
   ]
  },
  {
   "cell_type": "code",
   "execution_count": null,
   "metadata": {},
   "outputs": [],
   "source": [
    "if (two_robots):\n",
    "    # Create a figure with four subplots, all of which share the same x-axis\n",
    "    fig, ax = plt.subplots(4, 1, figsize=(9, 12), sharex=True)\n",
    "\n",
    "    # First subplot\n",
    "    ax[0].plot(data['t'], data['lateral_error2'], label='lateral error (m)', linewidth=2)\n",
    "    ax[0].plot(data['t'], data['heading_error2'], label='heading error (rad)', linewidth=2)\n",
    "    ax[0].grid()\n",
    "    ax[0].legend(fontsize=16)\n",
    "    ax[0].tick_params(labelsize=14)\n",
    "    ax[0].set_ylim(-0.3,0.3)\n",
    "\n",
    "    # Second subplot\n",
    "    ax[1].plot(data['t'], data['forward_speed2'], label='forward speed (m/s)', linewidth=2)\n",
    "    ax[1].plot(data['t'], data['turning_rate2'], label='turning rate (rad/s)', linewidth=2)\n",
    "    ax[1].grid()\n",
    "    ax[1].legend(fontsize=16)\n",
    "    ax[1].tick_params(labelsize=14)\n",
    "\n",
    "    # Third subplot\n",
    "    ax[2].plot(data['t'], data['pitch_angle2'], label='pitch angle (rad)', linewidth=2)\n",
    "    ax[2].plot(data['t'], data['pitch_rate2'], label='pitch rate (rad/s)', linewidth=2)\n",
    "    ax[2].grid()\n",
    "    ax[2].legend(fontsize=16)\n",
    "    ax[2].tick_params(labelsize=14)\n",
    "\n",
    "    # Fourth subplot\n",
    "    ax[3].plot(data['t'], data['tau_left2'], label='left wheel torque (N-m)', linewidth=4)\n",
    "    ax[3].plot(data['t'], data['tau_right2'], label='right wheel torque (N-m)', linewidth=4)\n",
    "    ax[3].plot(data['t'], np.ones_like(data['t']) * robot.tau_max, '--', label='max torque', linewidth=4, color='C2')\n",
    "    ax[3].plot(data['t'], -np.ones_like(data['t']) * robot.tau_max, '--', linewidth=4, color='C2')\n",
    "    ax[3].grid()\n",
    "    ax[3].legend(fontsize=16)\n",
    "    ax[3].tick_params(labelsize=14)\n",
    "    ax[3].set_ylim(-1.2 * robot.tau_max, 1.2 * robot.tau_max)\n",
    "\n",
    "    # Set x-axis properties (only need to do this on the fourth\n",
    "    # subplot since all four subplots share the same x-axis)\n",
    "    ax[3].set_xlabel('time (s)', fontsize=20)\n",
    "    ax[3].set_xlim([data['t'][0], data['t'][-1]])\n",
    "\n",
    "    # Make the arrangement of subplots look nice\n",
    "    fig.tight_layout()"
   ]
  },
  {
   "cell_type": "code",
   "execution_count": null,
   "metadata": {},
   "outputs": [],
   "source": []
  }
 ]
}