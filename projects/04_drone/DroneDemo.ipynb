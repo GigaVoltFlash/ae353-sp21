{
 "cells": [
  {
   "cell_type": "markdown",
   "id": "middle-acoustic",
   "metadata": {},
   "source": [
    "# Quadrotor (aka \"the drone\")"
   ]
  },
  {
   "cell_type": "markdown",
   "id": "future-divide",
   "metadata": {},
   "source": [
    "## Example of how to set everything up (do this only once)"
   ]
  },
  {
   "cell_type": "markdown",
   "id": "faced-least",
   "metadata": {},
   "source": [
    "Import modules and configure the notebook."
   ]
  },
  {
   "cell_type": "code",
   "execution_count": null,
   "id": "informed-qatar",
   "metadata": {},
   "outputs": [],
   "source": [
    "import os\n",
    "\n",
    "# This module is part of the python standard library\n",
    "import time\n",
    "\n",
    "# These modules are part of other existing libraries\n",
    "import numpy as np\n",
    "import matplotlib.pyplot as plt\n",
    "from scipy import linalg\n",
    "\n",
    "# This is my own script (it is an interface to the pybullet simulator)\n",
    "import ae353_drone\n",
    "\n",
    "# I often go back and forth between making changes to my scripts and to\n",
    "# the notebook in which they are used. One \"gotcha\" is that notebooks only\n",
    "# import modules or scripts ONCE. Subsequent imports don't do anything, and\n",
    "# in particular won't reflect any changes I've made to my scripts. To make\n",
    "# sure that I'm working with the latest version of my code, I use this bit\n",
    "# of magic, which forces the notebook to \"reload\" my script:\n",
    "import importlib\n",
    "importlib.reload(ae353_drone)"
   ]
  },
  {
   "cell_type": "markdown",
   "id": "environmental-refrigerator",
   "metadata": {},
   "source": [
    "Create simulator."
   ]
  },
  {
   "cell_type": "code",
   "execution_count": null,
   "id": "needed-motion",
   "metadata": {},
   "outputs": [],
   "source": [
    "simulator = ae353_drone.Simulator(display=True, pos_noise = 0.1, rpy_noise = 0.1)"
   ]
  },
  {
   "cell_type": "markdown",
   "id": "strategic-moore",
   "metadata": {},
   "source": [
    "## Example of how to add a drone and run a simulation"
   ]
  },
  {
   "cell_type": "code",
   "execution_count": null,
   "metadata": {},
   "outputs": [],
   "source": [
    "x_des_array = []"
   ]
  },
  {
   "cell_type": "markdown",
   "id": "electronic-repository",
   "metadata": {},
   "source": [
    "Define a controller for the drone."
   ]
  },
  {
   "cell_type": "code",
   "execution_count": null,
   "id": "mathematical-emphasis",
   "metadata": {},
   "outputs": [],
   "source": [
    "class RobotController:\n",
    "    def __init__(self, limiter=None):\n",
    "        self.dt = 0.01\n",
    "        self.limiter = limiter\n",
    "        self.A = np.array([[0.0, 0.0, 0.0, 0.0, 0.0, 0.0, 1.0, 0.0, 0.0, 0.0, 0.0, 0.0],\n",
    " [0.0, 0.0, 0.0, 0.0, 0.0, 0.0, 0.0, 1.0, 0.0, 0.0, 0.0, 0.0],\n",
    " [0.0, 0.0, 0.0, 0.0, 0.0, 0.0, 0.0, 0.0, 1.0, 0.0, 0.0, 0.0],\n",
    " [0.0, 0.0, 0.0, 0.0, 0.0, 0.0, 0.0, 0.0, 0.0, 1.0, -0.0, 0.0],\n",
    " [0.0, 0.0, 0.0, 0.0, 0.0, 0.0, 0.0, 0.0, 0.0, 0.0, 1.0, 0.0],\n",
    " [0.0, 0.0, 0.0, 0.0, 0.0, 0.0, 0.0, 0.0, 0.0, -0.0, 0.0, 1.0],\n",
    " [0.0, 0.0, 0.0, 0.0, 9.81, 0.0, 0.0, 0.0, 0.0, 0.0, 0.0, 0.0],\n",
    " [0.0, 0.0, 0.0, -9.81, 0.0, 0.0, 0.0, 0.0, 0.0, 0.0, 0.0, 0.0],\n",
    " [0.0, 0.0, 0.0, -0.0, -0.0, 0.0, 0.0, 0.0, 0.0, 0.0, 0.0, 0.0],\n",
    " [0.0, 0.0, 0.0, 0.0, 0.0, 0.0, 0.0, 0.0, 0.0, 0.0, -0.0, -0.0],\n",
    " [0.0, 0.0, 0.0, 0.0, 0.0, 0.0, 0.0, 0.0, 0.0, 0.0, 0.0, 0.0],\n",
    " [0.0, 0.0, 0.0, 0.0, 0.0, 0.0, 0.0, 0.0, 0.0, 0.0, 0.0, 0.0]])\n",
    "        self.B = np.array([[0.0, 0.0, 0.0, 0.0],\n",
    " [0.0, 0.0, 0.0, 0.0],\n",
    " [0.0, 0.0, 0.0, 0.0],\n",
    " [0.0, 0.0, 0.0, 0.0],\n",
    " [0.0, 0.0, 0.0, 0.0],\n",
    " [0.0, 0.0, 0.0, 0.0],\n",
    " [0.0, 0.0, 0.0, 0.0],\n",
    " [0.0, 0.0, 0.0, -0.0],\n",
    " [0.0, 0.0, 0.0, 2.0],\n",
    " [434.7826086956522, 0.0, 0.0, 0.0],\n",
    " [0.0, 434.7826086956522, 0.0, 0.0],\n",
    " [0.0, 0.0, 250.0, 0.0]])\n",
    "        self.C = np.array([[1,0,0,0,0,0,0,0,0,0,0,0],\n",
    "              [0,1,0,0,0,0,0,0,0,0,0,0],\n",
    "              [0,0,1,0,0,0,0,0,0,0,0,0],\n",
    "              [0,0,0,1,0,0,0,0,0,0,0,0],\n",
    "              [0,0,0,0,1,0,0,0,0,0,0,0],\n",
    "              [0,0,0,0,0,1,0,0,0,0,0,0]])\n",
    "        self.K = np.array([[-7.470103824860964e-16,\n",
    "  -0.597614304667193,\n",
    "  -2.534736450492715e-16,\n",
    "  2.131279246713305,\n",
    "  -2.2795088647501232e-15,\n",
    "  1.2174213473461131e-14,\n",
    "  -5.725766455299804e-16,\n",
    "  -0.6115194547658369,\n",
    "  2.1235858790732371e-16,\n",
    "  0.3522635360360125,\n",
    "  1.882304521121369e-17,\n",
    "  9.777282575744851e-17],\n",
    " [0.26726124191242473,\n",
    "  -2.9636468334901435e-17,\n",
    "  3.3383667491262037e-16,\n",
    "  -4.687289900146584e-16,\n",
    "  1.7324268494946549,\n",
    "  4.0340005770852824e-17,\n",
    "  0.3892794424612655,\n",
    "  4.4031235194257394e-16,\n",
    "  3.996567687509206e-18,\n",
    "  1.882304521121369e-17,\n",
    "  0.3496496500690224,\n",
    "  -3.7084882309639604e-17],\n",
    " [-2.4083942781012557e-16,\n",
    "  -9.452569554399674e-15,\n",
    "  -1.6235935707886185e-16,\n",
    "  9.560492828896679e-15,\n",
    "  7.267272416605851e-16,\n",
    "  0.5855400437691188,\n",
    "  1.0873236001454141e-16,\n",
    "  -3.634259171884253e-15,\n",
    "  -9.553253349797393e-17,\n",
    "  5.621937481053289e-17,\n",
    "  -2.1323807328042768e-17,\n",
    "  0.34492033085318],\n",
    " [-8.423703219100551e-17,\n",
    "  -1.1812055222399395e-15,\n",
    "  1.581138830084189,\n",
    "  1.754554067453382e-15,\n",
    "  -7.341405092272812e-16,\n",
    "  -7.782195460359621e-16,\n",
    "  -2.3199499377039327e-16,\n",
    "  -1.0143593903012036e-15,\n",
    "  1.8923897141139292,\n",
    "  3.418973265307912e-17,\n",
    "  6.434473976889822e-19,\n",
    "  -2.6749109379432702e-17]])\n",
    "        self.L = np.array(\n",
    "[[11.3058803110068, 0.0, 0.0, 0.0, 0.4396776833728971, 0.0],\n",
    " [0.0, 11.3058803110068, 0.0, -0.4396776833728971, 0.0, 0.0],\n",
    " [0.0, 0.0, 10.954451150103324, 0.0, 0.0, 0.0],\n",
    " [0.0, -0.4396776833728971, 0.0, 10.945603950560619, 0.0, 0.0],\n",
    " [0.4396776833728971, 0.0, 0.0, 0.0, 10.945603950560619, 0.0],\n",
    " [0.0, 0.0, 0.0, 0.0, 0.0, 10.954451150103324],\n",
    " [14.00812303603352, 0.0, 0.0, 0.0, 9.717323102417483, 0.0],\n",
    " [0.0, 14.00812303603352, 0.0, -9.717323102417483, 0.0, 0.0],\n",
    " [0.0, 0.0, 10.0, 0.0, 0.0, 0.0],\n",
    " [0.0, -0.06615794931719185, 0.0, 9.999781153892402, 0.0, 0.0],\n",
    " [0.06615794931719185, 0.0, 0.0, 0.0, 9.999781153892402, 0.0],\n",
    " [0.0, 0.0, 0.0, 0.0, 0.0, 10.0]])\n",
    "        self.f_z_e = 9.81/2\n",
    "\n",
    "    def get_color(self):\n",
    "        return [1., 0., 0.]\n",
    "\n",
    "    def reset(self, pos):\n",
    "        self.xhat = np.array([[0.],[0.],[0.],[0.],[0.],[0.],[0.],[0.],[0.],[0.],[0.],[0.]])\n",
    "\n",
    "\n",
    "    def run(self, pos, rpy, pos_ring, is_last_ring, pos_others):\n",
    "        offset = -0.3\n",
    "        y = np.array([[pos[0]], [pos[1]], [pos[2]], [rpy[0]], [rpy[1]], [rpy[2]]])\n",
    "        dist = linalg.norm([[pos_ring[0] + offset - pos[0]], [pos_ring[1] - pos[1]], [pos_ring[2] - pos[2]]])\n",
    "        displace_vec = ([[pos_ring[0] + offset - pos[0]], [pos_ring[1] - pos[1]], [pos_ring[2] - pos[2]]])/dist\n",
    "        if dist < 1.:\n",
    "            v_vect = np.array([[3.], [0.], [0.]])\n",
    "        else:\n",
    "            # v_vect = displace_vec * (dist)**2 * 0.1\n",
    "            v_vect =displace_vec * 3.5\n",
    "\n",
    "        # if dist < 0.5:\n",
    "        #     offset = 2.\n",
    "        # elif dist < 1.5:\n",
    "        #     offset = -0.3\n",
    "        # elif dist < 3:\n",
    "        #     offset = -0.6    \n",
    "        # x_des = np.array([[pos_ring[0] + offset],[pos_ring[1]],[pos_ring[2]],[0.],[0.],[0.],[v_vect[0,0]],[v_vect[1,0]],[v_vect[2,0]],[0.],[0.],[0.]])\n",
    "        x_des = np.array([[pos_ring[0] + offset],[pos_ring[1]],[pos_ring[2]],[0.],[0.],[0.],[0.],[0.],[0.],[0.],[0.],[0.]])\n",
    "        # if is_last_ring:\n",
    "        #     x_des[2,0] += 0.4\n",
    "\n",
    "        \n",
    "        # if dist < 0.5:\n",
    "        #     x_des[7,0] = -x_des[7,0] # Setting vy_des to zero to reduce final momentum\n",
    "        # if (pos_ring[0] - 0.3 - pos[0] < 0.4) and (pos_ring[1] - pos[1] < 0.4):\n",
    "        #     x_des[6,0] = 1.5\n",
    "        max_error = 2.3\n",
    "\n",
    "        for i in range(12):\n",
    "            if np.abs(x_des[i,0] - self.xhat[i,0]) > max_error:\n",
    "                x_des[i,0] = self.xhat[i,0] + max_error * ((x_des[i,0] - self.xhat[i,0]) / linalg.norm(x_des[i,0] - self.xhat[i,0]))\n",
    "        \n",
    "        x_des_array.append(x_des)\n",
    "\n",
    "        u = -self.K @ (self.xhat - x_des)\n",
    "        tau_x = u[0,0]\n",
    "        tau_y = u[1,0]\n",
    "        tau_z = u[2,0]\n",
    "        if y[2,0] <= 0.5:\n",
    "            u[3,0] = 2.5\n",
    "        if is_last_ring:\n",
    "            if abs(pos_ring[0] - pos[0]) < 0.6 and abs(pos_ring[1] - pos[1]) < 0.6:\n",
    "                u[3,0] = -2.5\n",
    "\n",
    "        f_z = u[3,0] + self.f_z_e\n",
    "        if self.limiter is not None:\n",
    "            tau_x, tau_y, tau_z, f_z = self.limiter(tau_x, tau_y, tau_z, f_z)\n",
    "        u[3,0] = f_z - self.f_z_e\n",
    "        self.xhat += self.dt * (self.A @ self.xhat + self.B @ u - self.L @ (self.C @ self.xhat - y))\n",
    "\n",
    "        return tau_x, tau_y, tau_z, f_z"
   ]
  },
  {
   "cell_type": "markdown",
   "id": "christian-citation",
   "metadata": {},
   "source": [
    "Add the drone to the simulator. There are three arguments:\n",
    "\n",
    "* `RobotController` is the class definition\n",
    "* `'my_netid'` is the name of the drone\n",
    "* `'my_image.png'` is the name of an image to use as a label (can be `None`, can be a file path)\n",
    "\n",
    "You can call this function more than once, so long as you call it with a different drone name each time. An exception will be raised if you try to add two drones of the same name to the simulator."
   ]
  },
  {
   "source": [
    "simulator.add_drone(RobotController, 'my_netid', 'my_image.png')"
   ],
   "cell_type": "code",
   "metadata": {},
   "execution_count": null,
   "outputs": []
  },
  {
   "cell_type": "markdown",
   "id": "basic-variance",
   "metadata": {},
   "source": [
    "Reset the drone (i.e., place it at a random location in the start ring)."
   ]
  },
  {
   "cell_type": "code",
   "execution_count": null,
   "id": "scientific-friendly",
   "metadata": {},
   "outputs": [],
   "source": [
    "simulator.reset()"
   ]
  },
  {
   "cell_type": "markdown",
   "id": "dress-product",
   "metadata": {},
   "source": [
    "Run simulation until `max_time` is reached or until the drone reaches the finish ring."
   ]
  },
  {
   "cell_type": "code",
   "execution_count": null,
   "metadata": {},
   "outputs": [],
   "source": [
    "simulator.camera_droneview('my_netid')"
   ]
  },
  {
   "cell_type": "code",
   "execution_count": null,
   "metadata": {
    "tags": []
   },
   "outputs": [],
   "source": [
    "num_iters = 100\n",
    "finished = 0\n",
    "failed = 0\n",
    "finish_times = np.zeros(num_iters) - np.ones(num_iters)\n",
    "for i in range(num_iters):\n",
    "    simulator.clear_drones()\n",
    "    simulator.add_drone(RobotController, 'my_netid', 'my_image.png')\n",
    "    # simulator.load_drones()    \n",
    "    simulator.camera_droneview('my_netid')\n",
    "    simulator.move_rings()\n",
    "    simulator.reset()\n",
    "    simulator.run(max_time=70.0)\n",
    "    drone_name = 'my_netid'\n",
    "    drone = simulator.get_drone_by_name(drone_name)\n",
    "    if drone['finish_time'] is None:\n",
    "        if drone['running']:\n",
    "            failed += 1\n",
    "        else:\n",
    "            failed += 1 \n",
    "    else:\n",
    "        finished += 1\n",
    "        finish_times[i] = drone['finish_time']\n",
    "    if i%10 == 0:\n",
    "        print(f\"{i} / 100\")"
   ]
  },
  {
   "cell_type": "code",
   "execution_count": null,
   "metadata": {},
   "outputs": [],
   "source": [
    "finished"
   ]
  },
  {
   "cell_type": "code",
   "execution_count": null,
   "metadata": {},
   "outputs": [],
   "source": [
    "import matplotlib.pyplot as plt\n",
    "actual_finish_times = []\n",
    "for i in range(len(finish_times)):\n",
    "    if finish_times[i] >= 0:\n",
    "         actual_finish_times.append(finish_times[i])\n",
    "actual_finish_times = np.array(actual_finish_times)\n",
    "print(np.mean(actual_finish_times))\n",
    "print(np.median(actual_finish_times))\n",
    "plt.hist(actual_finish_times)"
   ]
  },
  {
   "cell_type": "code",
   "execution_count": null,
   "id": "streaming-narrative",
   "metadata": {
    "tags": []
   },
   "outputs": [],
   "source": [
    "simulator.run(max_time=30.0)"
   ]
  },
  {
   "cell_type": "markdown",
   "id": "registered-faith",
   "metadata": {},
   "source": [
    "## Example of how to get and plot results\n",
    "\n",
    "Assume that we already did two things:\n",
    "\n",
    "* Added a drone with the name `my_netid` to the simulator\n",
    "* Ran the simulation"
   ]
  },
  {
   "cell_type": "markdown",
   "id": "colonial-helicopter",
   "metadata": {},
   "source": [
    "Get drone by name."
   ]
  },
  {
   "cell_type": "code",
   "execution_count": null,
   "id": "agricultural-coach",
   "metadata": {},
   "outputs": [],
   "source": [
    "drone_name = 'my_netid'\n",
    "drone = simulator.get_drone_by_name(drone_name)\n",
    "\n",
    "if drone is None:\n",
    "    drone_names = '\\n'.join([d['name'] for d in simulator.drones])\n",
    "    msg = f'The simulator has no drone with name \"{drone_name}\".'\n",
    "    if len(drone_names) == 0:\n",
    "        msg += f' The simulator has no drones at all, in fact.'\n",
    "    else:\n",
    "        msg += f' The simulator has these drones:'\n",
    "        msg += f'\\n==========\\n{drone_names}\\n==========\\n'\n",
    "    print(msg)"
   ]
  },
  {
   "cell_type": "markdown",
   "id": "polished-advisory",
   "metadata": {},
   "source": [
    "Extract data."
   ]
  },
  {
   "cell_type": "code",
   "execution_count": null,
   "id": "liked-handle",
   "metadata": {},
   "outputs": [],
   "source": [
    "data = drone['data'].copy()"
   ]
  },
  {
   "cell_type": "markdown",
   "id": "concrete-combining",
   "metadata": {},
   "source": [
    "Convert all lists in data to numpy arrays."
   ]
  },
  {
   "cell_type": "code",
   "execution_count": null,
   "id": "alive-capacity",
   "metadata": {},
   "outputs": [],
   "source": [
    "for key in data.keys():\n",
    "    data[key] = np.array(data[key]).T"
   ]
  },
  {
   "cell_type": "markdown",
   "id": "blond-static",
   "metadata": {},
   "source": [
    "Did the drone finish? If so, what was the time at which it finished? If not, was it still running (or was there likely an error)?"
   ]
  },
  {
   "cell_type": "code",
   "execution_count": null,
   "id": "greenhouse-steering",
   "metadata": {},
   "outputs": [],
   "source": [
    "if drone['finish_time'] is None:\n",
    "    if drone['running']:\n",
    "        print(f'The drone \"{drone[\"name\"]}\" did not finish.')\n",
    "    else:\n",
    "        print(f'The drone \"{drone[\"name\"]}\" did not finish and was no longer running.')\n",
    "else:\n",
    "    print(f'The drone \"{drone[\"name\"]}\" finished with time: {drone[\"finish_time\"]}')"
   ]
  },
  {
   "cell_type": "code",
   "execution_count": null,
   "metadata": {},
   "outputs": [],
   "source": [
    "x_des_array = np.array(x_des_array)\n",
    "x_des_array[:,0,0]"
   ]
  },
  {
   "cell_type": "markdown",
   "id": "cognitive-nomination",
   "metadata": {},
   "source": [
    "Plot results."
   ]
  },
  {
   "cell_type": "code",
   "execution_count": null,
   "id": "informed-watson",
   "metadata": {},
   "outputs": [],
   "source": [
    "# Create a figure with subplots that all share the same x-axis\n",
    "fig, (ax_pos, ax_d, ax_d2, ax_v, ax_rpy, ax_taus, ax_fz) = plt.subplots(7, 1, figsize=(16, 30), sharex=True)\n",
    "\n",
    "# Position\n",
    "ax_pos.plot(data['t'], data['pos'][0, :], label='x (m)', linewidth=4)\n",
    "ax_pos.plot(data['t'], data['pos'][1, :], label='y (m)', linewidth=4)\n",
    "ax_pos.plot(data['t'], data['pos'][2, :], label='z (m)', linewidth=4)\n",
    "ax_pos.plot(data['t'], data['xhat'][0, :], '--', label='x_est (m)', linewidth=4)\n",
    "ax_pos.plot(data['t'], data['xhat'][1, :], '--', label='y_est (m)', linewidth=4)\n",
    "ax_pos.plot(data['t'], data['xhat'][2, :], '--', label='z_est (m)', linewidth=4)\n",
    "ax_pos.grid()\n",
    "ax_pos.legend(fontsize=16)\n",
    "ax_pos.tick_params(labelsize=14)\n",
    "\n",
    "\n",
    "# Desired\n",
    "ax_d.plot(data['t'], data['pos'][0, :], label='x (m)', linewidth=4)\n",
    "ax_d.plot(data['t'], data['pos'][1, :], label='y (m)', linewidth=4)\n",
    "ax_d.plot(data['t'], data['pos'][2, :], label='z (m)', linewidth=4)\n",
    "ax_d.plot(data['t'], x_des_array[:,0,0], '--', label='x_des (m)', linewidth=4)\n",
    "ax_d.plot(data['t'], x_des_array[:,1,0], '--', label='y_des (m)', linewidth=4)\n",
    "ax_d.plot(data['t'], x_des_array[:,2,0], '--', label='z_des (m)', linewidth=4)\n",
    "ax_d.grid()\n",
    "ax_d.legend(fontsize=16)\n",
    "ax_d.tick_params(labelsize=14)\n",
    "\n",
    "# Desired vs Estimate\n",
    "ax_d2.plot(data['t'], data['xhat'][0, :], '*', label='x_est (m)', linewidth=4)\n",
    "ax_d2.plot(data['t'], data['xhat'][1, :], '*', label='y_est (m)', linewidth=4)\n",
    "ax_d2.plot(data['t'], data['xhat'][2, :], '*', label='z_est (m)', linewidth=4)\n",
    "ax_d2.plot(data['t'], x_des_array[:,0,0], '--', label='x_des (m)', linewidth=4)\n",
    "ax_d2.plot(data['t'], x_des_array[:,1,0], '--', label='y_des (m)', linewidth=4)\n",
    "ax_d2.plot(data['t'], x_des_array[:,2,0], '--', label='z_des (m)', linewidth=4)\n",
    "ax_d2.grid()\n",
    "ax_d2.legend(fontsize=16)\n",
    "ax_d2.tick_params(labelsize=14)\n",
    "#Velocity\n",
    "\n",
    "ax_v.plot(data['t'], data['linvel'][0, :], label='vx (m)', linewidth=4)\n",
    "ax_v.plot(data['t'], data['linvel'][1, :], label='vy (m)', linewidth=4)\n",
    "ax_v.plot(data['t'], data['linvel'][2, :], label='vz (m)', linewidth=4)\n",
    "ax_v.plot(data['t'], data['xhat'][6, :], '--', label='vx_est (m)', linewidth=4)\n",
    "ax_v.plot(data['t'], data['xhat'][7, :], '--', label='vy_est (m)', linewidth=4)\n",
    "ax_v.plot(data['t'], data['xhat'][8, :], '--', label='vz_est (m)', linewidth=4)\n",
    "ax_v.set_ylim(-4,4)\n",
    "ax_v.grid()\n",
    "ax_v.legend(fontsize=16)\n",
    "ax_v.tick_params(labelsize=14)\n",
    "\n",
    "\n",
    "# Roll, pitch, and yaw angles\n",
    "ax_rpy.plot(data['t'], data['rpy'][0, :], label='roll (rad)', linewidth=4)\n",
    "ax_rpy.plot(data['t'], data['rpy'][1, :], label='pitch (rad)', linewidth=4)\n",
    "ax_rpy.plot(data['t'], data['rpy'][2, :], label='yaw (rad)', linewidth=4)\n",
    "ax_rpy.grid()\n",
    "ax_rpy.legend(fontsize=16)\n",
    "ax_rpy.tick_params(labelsize=14)\n",
    "\n",
    "# Actuator commands\n",
    "ax_taus.plot(data['t'], data['tau_x'], label='tau_x (N-m)', linewidth=4)\n",
    "ax_taus.plot(data['t'], data['tau_y'], label='tau_y (N-m)', linewidth=4)\n",
    "ax_taus.plot(data['t'], data['tau_z'], label='tau_z (N-m)', linewidth=4)\n",
    "ax_taus.grid()\n",
    "ax_taus.legend(fontsize=16)\n",
    "ax_taus.tick_params(labelsize=14)\n",
    "\n",
    "# Force command \n",
    "ax_fz.plot(data['t'], data['f_z'], label='f_z (N)', linewidth=4)\n",
    "ax_fz.grid()\n",
    "ax_fz.legend(fontsize=16)\n",
    "ax_fz.tick_params(labelsize=14)\n",
    "\n",
    "# Set shared x-axis properties\n",
    "ax_fz.set_xlabel('time (s)', fontsize=20)\n",
    "ax_fz.set_xlim([data['t'][0], data['t'][-1]])\n",
    "\n",
    "# Make the arrangement of subplots look nice\n",
    "fig.tight_layout()"
   ]
  },
  {
   "cell_type": "markdown",
   "id": "secondary-condition",
   "metadata": {},
   "source": [
    "## Example of how to load drones from the \"students\" directory"
   ]
  },
  {
   "cell_type": "markdown",
   "id": "proprietary-camel",
   "metadata": {},
   "source": [
    "Load drones from `students` directory."
   ]
  },
  {
   "cell_type": "code",
   "execution_count": null,
   "id": "adolescent-anime",
   "metadata": {},
   "outputs": [],
   "source": [
    "simulator.load_drones()"
   ]
  },
  {
   "cell_type": "markdown",
   "id": "progressive-catch",
   "metadata": {},
   "source": [
    "Reset drones (places drones at random positions within the start ring)."
   ]
  },
  {
   "cell_type": "code",
   "execution_count": null,
   "id": "noted-filter",
   "metadata": {},
   "outputs": [],
   "source": [
    "simulator.reset()"
   ]
  },
  {
   "cell_type": "markdown",
   "id": "broke-water",
   "metadata": {},
   "source": [
    "Run simulation for `max_time` seconds or until all drones finish."
   ]
  },
  {
   "cell_type": "code",
   "execution_count": null,
   "id": "russian-thunder",
   "metadata": {
    "tags": []
   },
   "outputs": [],
   "source": [
    "simulator.run(max_time=5.0)"
   ]
  },
  {
   "cell_type": "markdown",
   "id": "small-nation",
   "metadata": {},
   "source": [
    "## Example of how to show results, change views, keep running"
   ]
  },
  {
   "cell_type": "markdown",
   "id": "engaged-award",
   "metadata": {},
   "source": [
    "Show results (so far)."
   ]
  },
  {
   "cell_type": "code",
   "execution_count": null,
   "id": "exclusive-orlando",
   "metadata": {},
   "outputs": [],
   "source": [
    "simulator.show_results()"
   ]
  },
  {
   "cell_type": "code",
   "execution_count": null,
   "metadata": {},
   "outputs": [],
   "source": []
  },
  {
   "cell_type": "markdown",
   "id": "superior-sydney",
   "metadata": {},
   "source": [
    "View from behind a particular drone."
   ]
  },
  {
   "cell_type": "code",
   "execution_count": null,
   "id": "cutting-ecuador",
   "metadata": {},
   "outputs": [],
   "source": [
    "simulator.camera_droneview('template')"
   ]
  },
  {
   "cell_type": "markdown",
   "id": "american-corpus",
   "metadata": {},
   "source": [
    "Continue running simulation from same point for `max_time` seconds or until all drones finish."
   ]
  },
  {
   "cell_type": "code",
   "execution_count": null,
   "id": "known-retail",
   "metadata": {
    "tags": []
   },
   "outputs": [],
   "source": [
    "simulator.run(max_time=5.0)"
   ]
  },
  {
   "cell_type": "markdown",
   "id": "herbal-twenty",
   "metadata": {},
   "source": [
    "View from finish ring instead of from start ring."
   ]
  },
  {
   "cell_type": "code",
   "execution_count": null,
   "id": "trained-martin",
   "metadata": {},
   "outputs": [],
   "source": [
    "simulator.camera_finishview()"
   ]
  },
  {
   "cell_type": "markdown",
   "id": "joined-nature",
   "metadata": {},
   "source": [
    "Continue running simulation from same point for `max_time` seconds or until all drones finish."
   ]
  },
  {
   "cell_type": "code",
   "execution_count": null,
   "id": "supposed-amplifier",
   "metadata": {
    "tags": []
   },
   "outputs": [],
   "source": [
    "simulator.run(max_time=5.0)"
   ]
  },
  {
   "cell_type": "markdown",
   "id": "engaged-indonesian",
   "metadata": {},
   "source": [
    "Show results (so far)."
   ]
  },
  {
   "cell_type": "code",
   "execution_count": null,
   "id": "minor-superintendent",
   "metadata": {},
   "outputs": [],
   "source": [
    "simulator.show_results()"
   ]
  },
  {
   "cell_type": "markdown",
   "id": "earned-somewhere",
   "metadata": {},
   "source": [
    "## Example of how to clear and reload drones"
   ]
  },
  {
   "cell_type": "markdown",
   "id": "civilian-interface",
   "metadata": {},
   "source": [
    "Clear all drones."
   ]
  },
  {
   "cell_type": "code",
   "execution_count": null,
   "id": "economic-miller",
   "metadata": {},
   "outputs": [],
   "source": [
    "simulator.clear_drones()"
   ]
  },
  {
   "cell_type": "markdown",
   "id": "smoking-animation",
   "metadata": {},
   "source": [
    "Load drones again from `students` directory."
   ]
  },
  {
   "cell_type": "code",
   "execution_count": null,
   "id": "rental-member",
   "metadata": {},
   "outputs": [],
   "source": [
    "simulator.load_drones()"
   ]
  },
  {
   "cell_type": "markdown",
   "id": "democratic-advocacy",
   "metadata": {},
   "source": [
    "Reset drones (places drones at random positions within the start ring)."
   ]
  },
  {
   "cell_type": "code",
   "execution_count": null,
   "id": "every-times",
   "metadata": {},
   "outputs": [],
   "source": [
    "simulator.reset()"
   ]
  },
  {
   "cell_type": "markdown",
   "id": "special-camel",
   "metadata": {},
   "source": [
    "Run simulation until `max_time` is reached or until all drones finish."
   ]
  },
  {
   "cell_type": "code",
   "execution_count": null,
   "id": "present-analyst",
   "metadata": {},
   "outputs": [],
   "source": [
    "simulator.run(max_time=5.0)"
   ]
  },
  {
   "cell_type": "markdown",
   "id": "aquatic-saint",
   "metadata": {},
   "source": [
    "## Example of how to rearrange the rings"
   ]
  },
  {
   "cell_type": "markdown",
   "id": "natural-drunk",
   "metadata": {},
   "source": [
    "Rearrange the rings."
   ]
  },
  {
   "cell_type": "code",
   "execution_count": null,
   "id": "premium-mexico",
   "metadata": {},
   "outputs": [],
   "source": [
    "simulator.move_rings()"
   ]
  },
  {
   "cell_type": "markdown",
   "id": "allied-genealogy",
   "metadata": {},
   "source": [
    "Reset drones (places drones at random positions within the start ring)."
   ]
  },
  {
   "cell_type": "code",
   "execution_count": null,
   "id": "reasonable-writer",
   "metadata": {},
   "outputs": [],
   "source": [
    "simulator.reset()"
   ]
  },
  {
   "cell_type": "markdown",
   "id": "strange-provision",
   "metadata": {},
   "source": [
    "Run simulation until `max_time` is reached or until all drones finish."
   ]
  },
  {
   "cell_type": "code",
   "execution_count": null,
   "id": "narrative-worse",
   "metadata": {},
   "outputs": [],
   "source": [
    "simulator.run(max_time=5.0)"
   ]
  },
  {
   "cell_type": "markdown",
   "id": "realistic-virgin",
   "metadata": {},
   "source": [
    "## Example of how to take a snapshot"
   ]
  },
  {
   "cell_type": "markdown",
   "id": "rough-rally",
   "metadata": {},
   "source": [
    "View from behind a particular drone."
   ]
  },
  {
   "cell_type": "code",
   "execution_count": null,
   "id": "described-yukon",
   "metadata": {},
   "outputs": [],
   "source": [
    "simulator.camera_droneview('template')"
   ]
  },
  {
   "cell_type": "markdown",
   "id": "instant-scott",
   "metadata": {},
   "source": [
    "Display a snapshot."
   ]
  },
  {
   "cell_type": "code",
   "execution_count": null,
   "id": "thrown-harvard",
   "metadata": {},
   "outputs": [],
   "source": [
    "# Get snapshot as 480 x 480 x 4 numpy array of RGBA values\n",
    "rgba = simulator.snapshot()\n",
    "\n",
    "# Display snapshot\n",
    "plt.figure(figsize=(9, 9))\n",
    "plt.imshow(rgba)"
   ]
  },
  {
   "cell_type": "markdown",
   "id": "frequent-housing",
   "metadata": {},
   "source": [
    "Save the snapshot."
   ]
  },
  {
   "cell_type": "code",
   "execution_count": null,
   "id": "serial-tampa",
   "metadata": {},
   "outputs": [],
   "source": [
    "plt.imsave('my_snapshot.png', rgba)"
   ]
  },
  {
   "cell_type": "markdown",
   "id": "preliminary-washington",
   "metadata": {},
   "source": [
    "## Example of how to record a movie"
   ]
  },
  {
   "cell_type": "markdown",
   "id": "universal-arrangement",
   "metadata": {},
   "source": [
    "You must install both [imageio](https://github.com/imageio/imageio) and [imageio-ffmpeg](https://github.com/imageio/imageio-ffmpeg) in order for this to work. You can do this from a terminal (in your `ae353-bullet` environment, for example) as follows:\n",
    "\n",
    "```\n",
    "pip install imageio\n",
    "pip install imageio-ffmpeg\n",
    "```"
   ]
  },
  {
   "cell_type": "markdown",
   "id": "missing-administrator",
   "metadata": {},
   "source": [
    "Reset drones (places drones at random positions within the start ring)."
   ]
  },
  {
   "cell_type": "code",
   "execution_count": null,
   "id": "economic-tribe",
   "metadata": {},
   "outputs": [],
   "source": [
    "simulator.reset()"
   ]
  },
  {
   "cell_type": "markdown",
   "id": "usual-retention",
   "metadata": {},
   "source": [
    "View from behind a particular drone."
   ]
  },
  {
   "cell_type": "code",
   "execution_count": null,
   "id": "dental-eight",
   "metadata": {},
   "outputs": [],
   "source": [
    "simulator.camera_droneview('template')"
   ]
  },
  {
   "cell_type": "markdown",
   "id": "cutting-guide",
   "metadata": {},
   "source": [
    "Run simulation until `max_time` is reached or until all drones finish, saving movie to `my_video.mp4`."
   ]
  },
  {
   "cell_type": "code",
   "execution_count": null,
   "id": "comprehensive-taxation",
   "metadata": {},
   "outputs": [],
   "source": [
    "simulator.run(max_time=1.0, video_filename='my_video.mp4')"
   ]
  }
 ],
 "metadata": {
  "kernelspec": {
   "name": "python391jvsc74a57bd03707160b982f1f10a85ea1c67ea35aa941c037d0e03bc0fc649503b13cc8856a",
   "display_name": "Python 3.9.1 64-bit ('ae353-bullet': conda)"
  },
  "language_info": {
   "codemirror_mode": {
    "name": "ipython",
    "version": 3
   },
   "file_extension": ".py",
   "mimetype": "text/x-python",
   "name": "python",
   "nbconvert_exporter": "python",
   "pygments_lexer": "ipython3",
   "version": "3.9.1"
  }
 },
 "nbformat": 4,
 "nbformat_minor": 5
}