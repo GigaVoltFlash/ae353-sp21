{
 "metadata": {
  "language_info": {
   "codemirror_mode": {
    "name": "ipython",
    "version": 3
   },
   "file_extension": ".py",
   "mimetype": "text/x-python",
   "name": "python",
   "nbconvert_exporter": "python",
   "pygments_lexer": "ipython3",
   "version": "3.9.1"
  },
  "orig_nbformat": 2,
  "kernelspec": {
   "name": "python391jvsc74a57bd03707160b982f1f10a85ea1c67ea35aa941c037d0e03bc0fc649503b13cc8856a",
   "display_name": "Python 3.9.1 64-bit ('ae353-bullet': conda)"
  }
 },
 "nbformat": 4,
 "nbformat_minor": 2,
 "cells": [
  {
   "cell_type": "code",
   "execution_count": 1,
   "metadata": {},
   "outputs": [],
   "source": [
    "import sympy as sym\n",
    "import numpy as np\n",
    "from scipy import linalg"
   ]
  },
  {
   "cell_type": "code",
   "execution_count": 2,
   "metadata": {},
   "outputs": [],
   "source": [
    "m = sym.nsimplify(0.5)\n",
    "J1 = sym.nsimplify(0.0023)\n",
    "J2 = sym.nsimplify(0.0023)\n",
    "J3 = sym.nsimplify(0.0040)\n",
    "l = sym.nsimplify(0.175)\n",
    "g = sym.nsimplify(9.81)"
   ]
  },
  {
   "cell_type": "code",
   "execution_count": 3,
   "metadata": {},
   "outputs": [],
   "source": [
    "# components of position (meters)\n",
    "p_x, p_y, p_z = sym.symbols('p_x, p_y, p_z')\n",
    "\n",
    "# roll, pitch, yaw angles (radians)\n",
    "phi, theta, psi = sym.symbols('phi, theta, psi')\n",
    "\n",
    "# components of linear velocity (meters / second)\n",
    "v_x, v_y, v_z = sym.symbols('v_x, v_y, v_z')\n",
    "\n",
    "# components of angular velocity (radians / second)\n",
    "w_x, w_y, w_z = sym.symbols('w_x, w_y, w_z')\n",
    "\n",
    "# components of net rotor torque\n",
    "tau_x, tau_y, tau_z = sym.symbols('tau_x, tau_y, tau_z')\n",
    "\n",
    "# net rotor force\n",
    "f_z = sym.symbols('f_z')\n",
    "\n",
    "# parameters\n",
    "m = sym.nsimplify(0.5)\n",
    "Jx = sym.nsimplify(0.0023)\n",
    "Jy = sym.nsimplify(0.0023)\n",
    "Jz = sym.nsimplify(0.0040)\n",
    "l = sym.nsimplify(0.175)\n",
    "g = sym.nsimplify(9.81)\n",
    "\n",
    "# rotation matrices\n",
    "Rx = sym.Matrix([[1, 0, 0], [0, sym.cos(phi), -sym.sin(phi)], [0, sym.sin(phi), sym.cos(phi)]])\n",
    "Ry = sym.Matrix([[sym.cos(theta), 0, sym.sin(theta)], [0, 1, 0], [-sym.sin(theta), 0, sym.cos(theta)]])\n",
    "Rz = sym.Matrix([[sym.cos(psi), -sym.sin(psi), 0], [sym.sin(psi), sym.cos(psi), 0], [0, 0, 1]])\n",
    "Rxyz = Rx * Ry * Rz\n",
    "\n",
    "# angular velocity to angular rates\n",
    "ex = sym.Matrix([[1], [0], [0]])\n",
    "ey = sym.Matrix([[0], [1], [0]])\n",
    "ez = sym.Matrix([[0], [0], [1]])\n",
    "M = sym.simplify(sym.Matrix.hstack((Ry * Rz).T * ex, Rz.T * ey, ez).inv(), full=True)\n",
    "\n",
    "# applied forces\n",
    "forces = sym.Matrix([[0], [0], [-m * g]]) + Rxyz * sym.Matrix([[0], [0], [f_z]])\n",
    "\n",
    "# euler's equations\n",
    "euler = sym.Matrix([[(1 / Jx) * (tau_x + (Jy - Jz) * w_y * w_z)],\n",
    "                   [(1 / Jy) * (tau_y + (Jz - Jx) * w_z * w_x)],\n",
    "                   [(1 / Jz) * (tau_z + (Jx - Jy) * w_x * w_y)]])\n",
    "\n",
    "# equations of motion\n",
    "f = sym.Matrix.vstack(sym.Matrix([[v_x], [v_y], [v_z]]),\n",
    "                      M * sym.Matrix([[w_x], [w_y], [w_z]]),\n",
    "                      (1 / m) * forces,\n",
    "                      euler)\n",
    "f = sym.simplify(f, full=True)"
   ]
  },
  {
   "cell_type": "code",
   "execution_count": 4,
   "metadata": {},
   "outputs": [
    {
     "output_type": "execute_result",
     "data": {
      "text/plain": [
       "Matrix([\n",
       "[                                                     v_x],\n",
       "[                                                     v_y],\n",
       "[                                                     v_z],\n",
       "[                (w_x*cos(psi) - w_y*sin(psi))/cos(theta)],\n",
       "[                             w_x*sin(psi) + w_y*cos(psi)],\n",
       "[-w_x*cos(psi)*tan(theta) + w_y*sin(psi)*tan(theta) + w_z],\n",
       "[                                        2*f_z*sin(theta)],\n",
       "[                              -2*f_z*sin(phi)*cos(theta)],\n",
       "[                     2*f_z*cos(phi)*cos(theta) - 981/100],\n",
       "[                          10000*tau_x/23 - 17*w_y*w_z/23],\n",
       "[                          10000*tau_y/23 + 17*w_x*w_z/23],\n",
       "[                                               250*tau_z]])"
      ],
      "text/latex": "$\\displaystyle \\left[\\begin{matrix}v_{x}\\\\v_{y}\\\\v_{z}\\\\\\frac{w_{x} \\cos{\\left(\\psi \\right)} - w_{y} \\sin{\\left(\\psi \\right)}}{\\cos{\\left(\\theta \\right)}}\\\\w_{x} \\sin{\\left(\\psi \\right)} + w_{y} \\cos{\\left(\\psi \\right)}\\\\- w_{x} \\cos{\\left(\\psi \\right)} \\tan{\\left(\\theta \\right)} + w_{y} \\sin{\\left(\\psi \\right)} \\tan{\\left(\\theta \\right)} + w_{z}\\\\2 f_{z} \\sin{\\left(\\theta \\right)}\\\\- 2 f_{z} \\sin{\\left(\\phi \\right)} \\cos{\\left(\\theta \\right)}\\\\2 f_{z} \\cos{\\left(\\phi \\right)} \\cos{\\left(\\theta \\right)} - \\frac{981}{100}\\\\\\frac{10000 \\tau_{x}}{23} - \\frac{17 w_{y} w_{z}}{23}\\\\\\frac{10000 \\tau_{y}}{23} + \\frac{17 w_{x} w_{z}}{23}\\\\250 \\tau_{z}\\end{matrix}\\right]$"
     },
     "metadata": {},
     "execution_count": 4
    }
   ],
   "source": [
    "f"
   ]
  },
  {
   "cell_type": "code",
   "execution_count": 5,
   "metadata": {},
   "outputs": [],
   "source": [
    "f_num = sym.lambdify((v_x, v_y, v_z,phi, theta, psi, w_x, w_y, w_z, tau_x, tau_y, tau_z, f_z), f)"
   ]
  },
  {
   "cell_type": "code",
   "execution_count": 6,
   "metadata": {},
   "outputs": [],
   "source": [
    "v_x_e = 0\n",
    "v_y_e = 0\n",
    "v_z_e = 0\n",
    "p_x_e = 0\n",
    "p_y_e = 0\n",
    "p_z_e = 0\n",
    "phi_e = 0\n",
    "theta_e = 0\n",
    "psi_e = 0\n",
    "w_x_e = 0\n",
    "w_y_e = 0\n",
    "w_z_e = 0\n",
    "tau_x_e = 0\n",
    "tau_y_e = 0\n",
    "tau_z_e = 0\n",
    "f_z_e = 9.81/2"
   ]
  },
  {
   "cell_type": "code",
   "execution_count": 7,
   "metadata": {},
   "outputs": [
    {
     "output_type": "execute_result",
     "data": {
      "text/plain": [
       "array([[ 0.],\n",
       "       [ 0.],\n",
       "       [ 0.],\n",
       "       [ 0.],\n",
       "       [ 0.],\n",
       "       [ 0.],\n",
       "       [ 0.],\n",
       "       [-0.],\n",
       "       [ 0.],\n",
       "       [ 0.],\n",
       "       [ 0.],\n",
       "       [ 0.]])"
      ]
     },
     "metadata": {},
     "execution_count": 7
    }
   ],
   "source": [
    "f_num(v_x_e, v_y_e, v_z_e, phi_e, theta_e, psi_e, w_x_e, w_y_e, w_z_e, tau_x_e, tau_y_e, tau_z_e, f_z_e)"
   ]
  },
  {
   "cell_type": "code",
   "execution_count": 8,
   "metadata": {},
   "outputs": [],
   "source": [
    "f_jacob_x = f.jacobian([p_x, p_y, p_z, phi, theta, psi, v_x, v_y, v_z, w_x, w_y, w_z])\n",
    "f_jacob_u = f.jacobian([tau_x, tau_y, tau_z, f_z])"
   ]
  },
  {
   "cell_type": "code",
   "execution_count": 9,
   "metadata": {},
   "outputs": [],
   "source": [
    "A_num = sym.lambdify((p_x, p_y, p_z, phi, theta, psi, v_x, v_y, v_z, w_x, w_y, w_z, tau_x, tau_y, tau_z, f_z),f_jacob_x)\n",
    "B_num = sym.lambdify((p_x, p_y, p_z, phi, theta, psi, v_x, v_y, v_z, w_x, w_y, w_z, tau_x, tau_y, tau_z, f_z),f_jacob_u)\n",
    "\n",
    "A = A_num(p_x_e, p_y_e, p_z_e, phi_e, theta_e, psi_e, v_x_e, v_y_e, v_z_e, w_x_e, w_y_e, w_z_e, tau_x_e, tau_y_e, tau_z_e, f_z_e)\n",
    "B = B_num(p_x_e, p_y_e, p_z_e, phi_e, theta_e, psi_e, v_x_e, v_y_e, v_z_e, w_x_e, w_y_e, w_z_e, tau_x_e, tau_y_e, tau_z_e, f_z_e)"
   ]
  },
  {
   "cell_type": "code",
   "execution_count": 10,
   "metadata": {},
   "outputs": [
    {
     "output_type": "execute_result",
     "data": {
      "text/plain": [
       "[[0.0, 0.0, 0.0, 0.0, 0.0, 0.0, 1.0, 0.0, 0.0, 0.0, 0.0, 0.0],\n",
       " [0.0, 0.0, 0.0, 0.0, 0.0, 0.0, 0.0, 1.0, 0.0, 0.0, 0.0, 0.0],\n",
       " [0.0, 0.0, 0.0, 0.0, 0.0, 0.0, 0.0, 0.0, 1.0, 0.0, 0.0, 0.0],\n",
       " [0.0, 0.0, 0.0, 0.0, 0.0, 0.0, 0.0, 0.0, 0.0, 1.0, -0.0, 0.0],\n",
       " [0.0, 0.0, 0.0, 0.0, 0.0, 0.0, 0.0, 0.0, 0.0, 0.0, 1.0, 0.0],\n",
       " [0.0, 0.0, 0.0, 0.0, 0.0, 0.0, 0.0, 0.0, 0.0, -0.0, 0.0, 1.0],\n",
       " [0.0, 0.0, 0.0, 0.0, 9.81, 0.0, 0.0, 0.0, 0.0, 0.0, 0.0, 0.0],\n",
       " [0.0, 0.0, 0.0, -9.81, 0.0, 0.0, 0.0, 0.0, 0.0, 0.0, 0.0, 0.0],\n",
       " [0.0, 0.0, 0.0, -0.0, -0.0, 0.0, 0.0, 0.0, 0.0, 0.0, 0.0, 0.0],\n",
       " [0.0, 0.0, 0.0, 0.0, 0.0, 0.0, 0.0, 0.0, 0.0, 0.0, -0.0, -0.0],\n",
       " [0.0, 0.0, 0.0, 0.0, 0.0, 0.0, 0.0, 0.0, 0.0, 0.0, 0.0, 0.0],\n",
       " [0.0, 0.0, 0.0, 0.0, 0.0, 0.0, 0.0, 0.0, 0.0, 0.0, 0.0, 0.0]]"
      ]
     },
     "metadata": {},
     "execution_count": 10
    }
   ],
   "source": [
    "A.tolist()"
   ]
  },
  {
   "cell_type": "code",
   "execution_count": 11,
   "metadata": {},
   "outputs": [
    {
     "output_type": "execute_result",
     "data": {
      "text/plain": [
       "[[0.0, 0.0, 0.0, 0.0],\n",
       " [0.0, 0.0, 0.0, 0.0],\n",
       " [0.0, 0.0, 0.0, 0.0],\n",
       " [0.0, 0.0, 0.0, 0.0],\n",
       " [0.0, 0.0, 0.0, 0.0],\n",
       " [0.0, 0.0, 0.0, 0.0],\n",
       " [0.0, 0.0, 0.0, 0.0],\n",
       " [0.0, 0.0, 0.0, -0.0],\n",
       " [0.0, 0.0, 0.0, 2.0],\n",
       " [434.7826086956522, 0.0, 0.0, 0.0],\n",
       " [0.0, 434.7826086956522, 0.0, 0.0],\n",
       " [0.0, 0.0, 250.0, 0.0]]"
      ]
     },
     "metadata": {},
     "execution_count": 11
    }
   ],
   "source": [
    "B.tolist()"
   ]
  },
  {
   "cell_type": "code",
   "execution_count": 12,
   "metadata": {},
   "outputs": [],
   "source": [
    "## Checking for controllability\n",
    "# Find the number of states\n",
    "n = A.shape[0]\n",
    "\n",
    "# Initialize W with its first column\n",
    "Wc = B\n",
    "\n",
    "# Create W one column at a time by iterating over i from 1 to n-1\n",
    "for i in range(1, n):\n",
    "    col = np.linalg.matrix_power(A, i) @ B\n",
    "    Wc = np.block([Wc, col])"
   ]
  },
  {
   "cell_type": "code",
   "execution_count": 13,
   "metadata": {},
   "outputs": [
    {
     "output_type": "execute_result",
     "data": {
      "text/plain": [
       "12"
      ]
     },
     "metadata": {},
     "execution_count": 13
    }
   ],
   "source": [
    "n"
   ]
  },
  {
   "cell_type": "code",
   "execution_count": 14,
   "metadata": {},
   "outputs": [
    {
     "output_type": "stream",
     "name": "stdout",
     "text": [
      "12\n"
     ]
    }
   ],
   "source": [
    "# What about the rank?\n",
    "print(np.linalg.matrix_rank(Wc))"
   ]
  },
  {
   "cell_type": "code",
   "execution_count": 15,
   "metadata": {},
   "outputs": [],
   "source": [
    "C = np.array([[1,0,0,0,0,0,0,0,0,0,0,0],\n",
    "              [0,1,0,0,0,0,0,0,0,0,0,0],\n",
    "              [0,0,1,0,0,0,0,0,0,0,0,0],\n",
    "              [0,0,0,1,0,0,0,0,0,0,0,0],\n",
    "              [0,0,0,0,1,0,0,0,0,0,0,0],\n",
    "              [0,0,0,0,0,1,0,0,0,0,0,0]])"
   ]
  },
  {
   "cell_type": "code",
   "execution_count": 16,
   "metadata": {},
   "outputs": [
    {
     "output_type": "stream",
     "name": "stdout",
     "text": [
      "12\n"
     ]
    }
   ],
   "source": [
    "# We can check for the observability of this system\n",
    "Wo = C\n",
    "for i in range(1,n):\n",
    "    row = C @ np.linalg.matrix_power(A,i)\n",
    "    Wo = np.block([[Wo],[row]])\n",
    "rank = np.linalg.matrix_rank(Wo)\n",
    "print(rank)\n",
    "# The rank of the system is the same as the number of states, so the system is observable."
   ]
  },
  {
   "cell_type": "code",
   "execution_count": 17,
   "metadata": {},
   "outputs": [],
   "source": [
    "Qc = np.diag([5.,25.,5.,24.,24.,24.,4.,8.,4.,8.,8.,8.]) \n",
    "Rc = np.diag([70.,70.,70.,2.])\n",
    "# We can also define an LQR function in the following way:\n",
    "def lqr(A,B,Q,R):\n",
    "    P = linalg.solve_continuous_are(A,B,Q,R)\n",
    "    K = linalg.inv(R) @ B.T @ P\n",
    "    return K\n",
    "# The function above can be used for both controller and observer design\n",
    "\n",
    "# Designing an optimal observer\n",
    "Qo = 100*np.diag(np.ones(6))\n",
    "Ro = np.diag(np.ones(12))\n",
    "\n",
    "L = lqr(A.T, C.T, linalg.inv(Ro), linalg.inv(Qo)).T\n",
    "\n",
    "K = lqr(A,B,Qc,Rc)"
   ]
  },
  {
   "cell_type": "code",
   "execution_count": 18,
   "metadata": {},
   "outputs": [
    {
     "output_type": "execute_result",
     "data": {
      "text/plain": [
       "[[11.3058803110068, 0.0, 0.0, 0.0, 0.4396776833728971, 0.0],\n",
       " [0.0, 11.3058803110068, 0.0, -0.4396776833728971, 0.0, 0.0],\n",
       " [0.0, 0.0, 10.954451150103324, 0.0, 0.0, 0.0],\n",
       " [0.0, -0.4396776833728971, 0.0, 10.945603950560619, 0.0, 0.0],\n",
       " [0.4396776833728971, 0.0, 0.0, 0.0, 10.945603950560619, 0.0],\n",
       " [0.0, 0.0, 0.0, 0.0, 0.0, 10.954451150103324],\n",
       " [14.00812303603352, 0.0, 0.0, 0.0, 9.717323102417483, 0.0],\n",
       " [0.0, 14.00812303603352, 0.0, -9.717323102417483, 0.0, 0.0],\n",
       " [0.0, 0.0, 10.0, 0.0, 0.0, 0.0],\n",
       " [0.0, -0.06615794931719185, 0.0, 9.999781153892402, 0.0, 0.0],\n",
       " [0.06615794931719185, 0.0, 0.0, 0.0, 9.999781153892402, 0.0],\n",
       " [0.0, 0.0, 0.0, 0.0, 0.0, 10.0]]"
      ]
     },
     "metadata": {},
     "execution_count": 18
    }
   ],
   "source": [
    "L.tolist()"
   ]
  },
  {
   "cell_type": "code",
   "execution_count": null,
   "metadata": {},
   "outputs": [],
   "source": []
  },
  {
   "cell_type": "code",
   "execution_count": 19,
   "metadata": {},
   "outputs": [
    {
     "output_type": "execute_result",
     "data": {
      "text/plain": [
       "[[-7.470103824860964e-16,\n",
       "  -0.597614304667193,\n",
       "  -2.534736450492715e-16,\n",
       "  2.131279246713305,\n",
       "  -2.2795088647501232e-15,\n",
       "  1.2174213473461131e-14,\n",
       "  -5.725766455299804e-16,\n",
       "  -0.6115194547658369,\n",
       "  2.1235858790732371e-16,\n",
       "  0.3522635360360125,\n",
       "  1.882304521121369e-17,\n",
       "  9.777282575744851e-17],\n",
       " [0.26726124191242473,\n",
       "  -2.9636468334901435e-17,\n",
       "  3.3383667491262037e-16,\n",
       "  -4.687289900146584e-16,\n",
       "  1.7324268494946549,\n",
       "  4.0340005770852824e-17,\n",
       "  0.3892794424612655,\n",
       "  4.4031235194257394e-16,\n",
       "  3.996567687509206e-18,\n",
       "  1.882304521121369e-17,\n",
       "  0.3496496500690224,\n",
       "  -3.7084882309639604e-17],\n",
       " [-2.4083942781012557e-16,\n",
       "  -9.452569554399674e-15,\n",
       "  -1.6235935707886185e-16,\n",
       "  9.560492828896679e-15,\n",
       "  7.267272416605851e-16,\n",
       "  0.5855400437691188,\n",
       "  1.0873236001454141e-16,\n",
       "  -3.634259171884253e-15,\n",
       "  -9.553253349797393e-17,\n",
       "  5.621937481053289e-17,\n",
       "  -2.1323807328042768e-17,\n",
       "  0.34492033085318],\n",
       " [-8.423703219100551e-17,\n",
       "  -1.1812055222399395e-15,\n",
       "  1.581138830084189,\n",
       "  1.754554067453382e-15,\n",
       "  -7.341405092272812e-16,\n",
       "  -7.782195460359621e-16,\n",
       "  -2.3199499377039327e-16,\n",
       "  -1.0143593903012036e-15,\n",
       "  1.8923897141139292,\n",
       "  3.418973265307912e-17,\n",
       "  6.434473976889822e-19,\n",
       "  -2.6749109379432702e-17]]"
      ]
     },
     "metadata": {},
     "execution_count": 19
    }
   ],
   "source": [
    "K.tolist()"
   ]
  },
  {
   "cell_type": "code",
   "execution_count": 23,
   "metadata": {},
   "outputs": [
    {
     "output_type": "execute_result",
     "data": {
      "text/plain": [
       "array([-4.09300073+0.j        , -2.131011  +1.84879596j,\n",
       "       -2.131011  -1.84879596j, -4.09300073+0.j        ,\n",
       "       -2.131011  +1.84879596j, -2.131011  -1.84879596j,\n",
       "       -1.00051096+0.j        , -1.00051096+0.j        ,\n",
       "       -2.97875534+0.j        , -2.97875534+0.j        ,\n",
       "       -1.06161041+0.j        , -1.06161041+0.j        ])"
      ]
     },
     "metadata": {},
     "execution_count": 23
    }
   ],
   "source": [
    "F = A - L@C\n",
    "s = linalg.eigvals(F)\n",
    "s"
   ]
  },
  {
   "cell_type": "code",
   "execution_count": null,
   "metadata": {},
   "outputs": [],
   "source": []
  },
  {
   "cell_type": "code",
   "execution_count": null,
   "metadata": {},
   "outputs": [],
   "source": []
  }
 ]
}