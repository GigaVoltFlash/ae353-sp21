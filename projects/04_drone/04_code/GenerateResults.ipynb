{
 "metadata": {
  "language_info": {
   "codemirror_mode": {
    "name": "ipython",
    "version": 3
   },
   "file_extension": ".py",
   "mimetype": "text/x-python",
   "name": "python",
   "nbconvert_exporter": "python",
   "pygments_lexer": "ipython3",
   "version": "3.9.1"
  },
  "orig_nbformat": 2,
  "kernelspec": {
   "name": "python391jvsc74a57bd03707160b982f1f10a85ea1c67ea35aa941c037d0e03bc0fc649503b13cc8856a",
   "display_name": "Python 3.9.1 64-bit ('ae353-bullet': conda)"
  }
 },
 "nbformat": 4,
 "nbformat_minor": 2,
 "cells": [
  {
   "source": [
    "# Design Project 4: Drone (Quadrotor)"
   ],
   "cell_type": "markdown",
   "metadata": {}
  },
  {
   "source": [
    "This is the notebook that contains the code used to design, implement and test the control system for the project."
   ],
   "cell_type": "markdown",
   "metadata": {}
  },
  {
   "cell_type": "code",
   "execution_count": null,
   "metadata": {},
   "outputs": [],
   "source": [
    "import os\n",
    "\n",
    "# This module is part of the python standard library\n",
    "import time\n",
    "\n",
    "# These modules are part of other existing libraries\n",
    "import numpy as np\n",
    "import matplotlib.pyplot as plt\n",
    "from scipy import linalg\n",
    "import sympy as sym\n",
    "\n",
    "# This is my own script (it is an interface to the pybullet simulator)\n",
    "import ae353_drone\n",
    "\n",
    "# I often go back and forth between making changes to my scripts and to\n",
    "# the notebook in which they are used. One \"gotcha\" is that notebooks only\n",
    "# import modules or scripts ONCE. Subsequent imports don't do anything, and\n",
    "# in particular won't reflect any changes I've made to my scripts. To make\n",
    "# sure that I'm working with the latest version of my code, I use this bit\n",
    "# of magic, which forces the notebook to \"reload\" my script:\n",
    "import importlib\n",
    "importlib.reload(ae353_drone)"
   ]
  },
  {
   "source": [
    "## Equations of Motion\n",
    "\n",
    "We first work on deriving the equations of motion (given in the problem statement)"
   ],
   "cell_type": "markdown",
   "metadata": {}
  },
  {
   "cell_type": "code",
   "execution_count": null,
   "metadata": {},
   "outputs": [],
   "source": [
    "# Constants\n",
    "m = sym.nsimplify(0.5)\n",
    "J1 = sym.nsimplify(0.0023)\n",
    "J2 = sym.nsimplify(0.0023)\n",
    "J3 = sym.nsimplify(0.0040)\n",
    "l = sym.nsimplify(0.175)\n",
    "g = sym.nsimplify(9.81)\n",
    "\n",
    "# components of position (meters)\n",
    "p_x, p_y, p_z = sym.symbols('p_x, p_y, p_z')\n",
    "\n",
    "# roll, pitch, yaw angles (radians)\n",
    "phi, theta, psi = sym.symbols('phi, theta, psi')\n",
    "\n",
    "# components of linear velocity (meters / second)\n",
    "v_x, v_y, v_z = sym.symbols('v_x, v_y, v_z')\n",
    "\n",
    "# components of angular velocity (radians / second)\n",
    "w_x, w_y, w_z = sym.symbols('w_x, w_y, w_z')\n",
    "\n",
    "# components of net rotor torque\n",
    "tau_x, tau_y, tau_z = sym.symbols('tau_x, tau_y, tau_z')\n",
    "\n",
    "# net rotor force\n",
    "f_z = sym.symbols('f_z')\n",
    "\n",
    "# parameters\n",
    "m = sym.nsimplify(0.5)\n",
    "Jx = sym.nsimplify(0.0023)\n",
    "Jy = sym.nsimplify(0.0023)\n",
    "Jz = sym.nsimplify(0.0040)\n",
    "l = sym.nsimplify(0.175)\n",
    "g = sym.nsimplify(9.81)\n",
    "\n",
    "# rotation matrices\n",
    "Rx = sym.Matrix([[1, 0, 0], [0, sym.cos(phi), -sym.sin(phi)], [0, sym.sin(phi), sym.cos(phi)]])\n",
    "Ry = sym.Matrix([[sym.cos(theta), 0, sym.sin(theta)], [0, 1, 0], [-sym.sin(theta), 0, sym.cos(theta)]])\n",
    "Rz = sym.Matrix([[sym.cos(psi), -sym.sin(psi), 0], [sym.sin(psi), sym.cos(psi), 0], [0, 0, 1]])\n",
    "Rxyz = Rx * Ry * Rz\n",
    "\n",
    "# angular velocity to angular rates\n",
    "ex = sym.Matrix([[1], [0], [0]])\n",
    "ey = sym.Matrix([[0], [1], [0]])\n",
    "ez = sym.Matrix([[0], [0], [1]])\n",
    "M = sym.simplify(sym.Matrix.hstack((Ry * Rz).T * ex, Rz.T * ey, ez).inv(), full=True)\n",
    "\n",
    "# applied forces\n",
    "forces = sym.Matrix([[0], [0], [-m * g]]) + Rxyz * sym.Matrix([[0], [0], [f_z]])\n",
    "\n",
    "# euler's equations\n",
    "euler = sym.Matrix([[(1 / Jx) * (tau_x + (Jy - Jz) * w_y * w_z)],\n",
    "                   [(1 / Jy) * (tau_y + (Jz - Jx) * w_z * w_x)],\n",
    "                   [(1 / Jz) * (tau_z + (Jx - Jy) * w_x * w_y)]])\n",
    "\n",
    "# equations of motion\n",
    "f = sym.Matrix.vstack(sym.Matrix([[v_x], [v_y], [v_z]]),\n",
    "                      M * sym.Matrix([[w_x], [w_y], [w_z]]),\n",
    "                      (1 / m) * forces,\n",
    "                      euler)\n",
    "f = sym.simplify(f, full=True)"
   ]
  },
  {
   "source": [
    "_f_ gives us the derivative of the state vector as a function of the states and the inputs\n",
    "$$f = \\dot{x}$$\n",
    "Here, the state is the following vector:\n",
    "\n",
    "$$\\begin{bmatrix} p_x \\\\ p_y \\\\ p_z \\\\ \\phi \\\\ \\theta \\\\ \\psi \\\\ v_x \\\\ v_y \\\\ v_z \\\\ w_x \\\\ w_y \\\\ w_z \\end $$"
   ],
   "cell_type": "markdown",
   "metadata": {}
  },
  {
   "cell_type": "code",
   "execution_count": null,
   "metadata": {},
   "outputs": [],
   "source": [
    "f"
   ]
  },
  {
   "source": [
    "We then create a numeric function for _f_ to check our equilibrium values"
   ],
   "cell_type": "markdown",
   "metadata": {}
  },
  {
   "cell_type": "code",
   "execution_count": null,
   "metadata": {},
   "outputs": [],
   "source": [
    "# Numeric function for f\n",
    "f_num = sym.lambdify((v_x, v_y, v_z,phi, theta, psi, w_x, w_y, w_z, tau_x, tau_y, tau_z, f_z), f)"
   ]
  },
  {
   "cell_type": "code",
   "execution_count": null,
   "metadata": {},
   "outputs": [],
   "source": [
    "# These are all the equilibrium values for the system. Note the non-zero value for the z force\n",
    "v_x_e = 0\n",
    "v_y_e = 0\n",
    "v_z_e = 0\n",
    "p_x_e = 0\n",
    "p_y_e = 0\n",
    "p_z_e = 0\n",
    "phi_e = 0\n",
    "theta_e = 0\n",
    "psi_e = 0\n",
    "w_x_e = 0\n",
    "w_y_e = 0\n",
    "w_z_e = 0\n",
    "tau_x_e = 0\n",
    "tau_y_e = 0\n",
    "tau_z_e = 0\n",
    "f_z_e = 9.81/2"
   ]
  },
  {
   "cell_type": "code",
   "execution_count": null,
   "metadata": {},
   "outputs": [],
   "source": [
    "# Now we can check if the equilibrium point works\n",
    "f_num(v_x_e, v_y_e, v_z_e, phi_e, theta_e, psi_e, w_x_e, w_y_e, w_z_e, tau_x_e, tau_y_e, tau_z_e, f_z_e) # == 0? Yes!"
   ]
  },
  {
   "source": [
    "## Linearizing the system\n",
    "\n",
    "We now linearize the system about the equilibrium point to find A and B. The Jacobian is taken with respect to the state for A and with respect to the inputs for B"
   ],
   "cell_type": "markdown",
   "metadata": {}
  },
  {
   "cell_type": "code",
   "execution_count": null,
   "metadata": {},
   "outputs": [],
   "source": [
    "## Jacobians\n",
    "f_jacob_x = f.jacobian([p_x, p_y, p_z, phi, theta, psi, v_x, v_y, v_z, w_x, w_y, w_z])\n",
    "f_jacob_u = f.jacobian([tau_x, tau_y, tau_z, f_z])\n",
    "\n",
    "# Lambda functions\n",
    "A_num = sym.lambdify((p_x, p_y, p_z, phi, theta, psi, v_x, v_y, v_z, w_x, w_y, w_z, tau_x, tau_y, tau_z, f_z),f_jacob_x)\n",
    "B_num = sym.lambdify((p_x, p_y, p_z, phi, theta, psi, v_x, v_y, v_z, w_x, w_y, w_z, tau_x, tau_y, tau_z, f_z),f_jacob_u)\n",
    "\n",
    "#Values at equilibrium\n",
    "A = A_num(p_x_e, p_y_e, p_z_e, phi_e, theta_e, psi_e, v_x_e, v_y_e, v_z_e, w_x_e, w_y_e, w_z_e, tau_x_e, tau_y_e, tau_z_e, f_z_e)\n",
    "B = B_num(p_x_e, p_y_e, p_z_e, phi_e, theta_e, psi_e, v_x_e, v_y_e, v_z_e, w_x_e, w_y_e, w_z_e, tau_x_e, tau_y_e, tau_z_e, f_z_e)\n"
   ]
  },
  {
   "cell_type": "code",
   "execution_count": null,
   "metadata": {},
   "outputs": [],
   "source": [
    "# See A\n",
    "A"
   ]
  },
  {
   "cell_type": "code",
   "execution_count": null,
   "metadata": {},
   "outputs": [],
   "source": [
    "# See B\n",
    "B"
   ]
  },
  {
   "cell_type": "code",
   "execution_count": null,
   "metadata": {},
   "outputs": [],
   "source": [
    "# Checking for controllability\n",
    "# Find the number of states\n",
    "n = A.shape[0]\n",
    "\n",
    "# Initialize W with its first column\n",
    "Wc = B\n",
    "\n",
    "# Create W one column at a time by iterating over i from 1 to n-1\n",
    "for i in range(1, n):\n",
    "    col = np.linalg.matrix_power(A, i) @ B\n",
    "    Wc = np.block([Wc, col])\n",
    "# What about the rank?\n",
    "print(np.linalg.matrix_rank(Wc))\n",
    "#Rank is 12, same as the number of variables. Nice!"
   ]
  },
  {
   "source": [
    "## Sensor Model\n",
    "We know that we are getting the position and orientation data from the sensors. This directly co-relates to our state variables. So, we can define the C matrix as shown below:"
   ],
   "cell_type": "markdown",
   "metadata": {}
  },
  {
   "cell_type": "code",
   "execution_count": null,
   "metadata": {},
   "outputs": [],
   "source": [
    "C = np.array([[1,0,0,0,0,0,0,0,0,0,0,0],\n",
    "              [0,1,0,0,0,0,0,0,0,0,0,0],\n",
    "              [0,0,1,0,0,0,0,0,0,0,0,0],\n",
    "              [0,0,0,1,0,0,0,0,0,0,0,0],\n",
    "              [0,0,0,0,1,0,0,0,0,0,0,0],\n",
    "              [0,0,0,0,0,1,0,0,0,0,0,0]])"
   ]
  },
  {
   "cell_type": "code",
   "execution_count": null,
   "metadata": {},
   "outputs": [],
   "source": [
    "# We can check for the observability of this system\n",
    "Wo = C\n",
    "for i in range(1,n):\n",
    "    row = C @ np.linalg.matrix_power(A,i)\n",
    "    Wo = np.block([[Wo],[row]])\n",
    "rank = np.linalg.matrix_rank(Wo)\n",
    "print(rank)\n",
    "# The rank of the system is the same as the number of states, so the system is observable."
   ]
  },
  {
   "source": [
    "## Optimal Controller and Observer\n",
    "\n",
    "With a linearized system, we can now find optimal controllers and observers. A lot of tuning went into developing this controller. Beyond this controller, additional conditionals are used in the controller design that can be seen in the main RobotController class. See the report for details about the choices."
   ],
   "cell_type": "markdown",
   "metadata": {}
  },
  {
   "cell_type": "code",
   "execution_count": null,
   "metadata": {},
   "outputs": [],
   "source": [
    "Qc = np.diag([5.,25.,5.,24.,24.,24.,4.,8.,4.,8.,8.,8.]) \n",
    "Rc = np.diag([70.,70.,70.,2.])\n",
    "# We can also define an LQR function in the following way:\n",
    "def lqr(A,B,Q,R):\n",
    "    P = linalg.solve_continuous_are(A,B,Q,R)\n",
    "    K = linalg.inv(R) @ B.T @ P\n",
    "    return K\n",
    "# The function above can be used for both controller and observer design\n",
    "\n",
    "# Designing an optimal observer\n",
    "Qo = 100*np.diag(np.ones(6))\n",
    "Ro = np.diag(np.ones(12))\n",
    "\n",
    "L = lqr(A.T, C.T, linalg.inv(Ro), linalg.inv(Qo)).T\n",
    "\n",
    "K = lqr(A,B,Qc,Rc)\n",
    "print(K)\n",
    "print(L)"
   ]
  },
  {
   "cell_type": "code",
   "execution_count": null,
   "metadata": {},
   "outputs": [],
   "source": [
    "# Check that both the controller and observer are stable\n",
    "Fo = A - L@C\n",
    "so = linalg.eigvals(Fo)\n",
    "if (so.real < 0).all():\n",
    "    print(\"Observer is stable\")\n",
    "    print(so)\n",
    "\n",
    "Fc = A - B@K\n",
    "sc = linalg.eigvals(Fc)\n",
    "if (sc.real < 0).all():\n",
    "    print(\"Controller is stable\")\n",
    "    print(sc)"
   ]
  },
  {
   "source": [
    "## Simulation"
   ],
   "cell_type": "markdown",
   "metadata": {}
  },
  {
   "cell_type": "code",
   "execution_count": null,
   "metadata": {},
   "outputs": [],
   "source": [
    "simulator = ae353_drone.Simulator(display=True, pos_noise = 0.1, rpy_noise = 0.1, seed = 42)"
   ]
  },
  {
   "source": [
    "## Defining the Controller\n",
    "\n",
    "The controller below is the large chunk of this project. It not only has the K and L gains used before, but it also implements its own logic for trajectory tracking."
   ],
   "cell_type": "markdown",
   "metadata": {}
  },
  {
   "cell_type": "code",
   "execution_count": null,
   "metadata": {},
   "outputs": [],
   "source": [
    "x_des_array = []"
   ]
  },
  {
   "cell_type": "code",
   "execution_count": null,
   "metadata": {},
   "outputs": [],
   "source": [
    "class RobotController:\n",
    "    def __init__(self, limiter=None):\n",
    "        self.dt = 0.01\n",
    "        self.limiter = limiter\n",
    "        self.A = A\n",
    "        self.B = B\n",
    "        self.C = C\n",
    "        self.K = K\n",
    "        self.L = L\n",
    "        self.f_z_e = f_z_e\n",
    "\n",
    "    def get_color(self):\n",
    "        return [1., 0., 0.]\n",
    "\n",
    "    def reset(self, pos):\n",
    "        self.xhat = np.array([[0.],[0.],[0.],[0.],[0.],[0.],[0.],[0.],[0.],[0.],[0.],[0.]])\n",
    "\n",
    "\n",
    "    def run(self, pos, rpy, pos_ring, is_last_ring, pos_others):\n",
    "        offset = -0.4 # The offset to prevent collisions with the ring\n",
    "        y = np.array([[pos[0]], [pos[1]], [pos[2]], [rpy[0]], [rpy[1]], [rpy[2]]]) #Sensor data\n",
    "        dist = linalg.norm([[pos_ring[0] + offset - pos[0]], [pos_ring[1] - pos[1]], [pos_ring[2] - pos[2]]]) #Distance between current and desired\n",
    "        displace_vec = ([[pos_ring[0] + offset - pos[0]], [pos_ring[1] - pos[1]], [pos_ring[2] - pos[2]]])/dist #Unit displacement vector\n",
    "        if dist < 1.:\n",
    "            v_vect = np.array([[1.2], [0.], [0.]]) #That push through the hoop\n",
    "        else:\n",
    "            v_vect = displace_vec * (dist)**2 * 0.06 #Variable velocity vector\n",
    "    \n",
    "        x_des = np.array([[pos_ring[0] + offset],[pos_ring[1]],[pos_ring[2]],[0.],[0.],[0.],[v_vect[0,0]],[v_vect[1,0]],[v_vect[2,0]],[0.],[0.],[0.]]) # Setting the desired state\n",
    "        if is_last_ring:\n",
    "            x_des[2,0] += 0.4 #To ensure that it doesn't hit the wall of the ending ring\n",
    "\n",
    "        max_error = 1.4 #error control\n",
    "\n",
    "        for i in range(12):\n",
    "            if np.abs(x_des[i,0] - self.xhat[i,0]) > max_error:\n",
    "                x_des[i,0] = self.xhat[i,0] + max_error * ((x_des[i,0] - self.xhat[i,0]) / linalg.norm(x_des[i,0] - self.xhat[i,0]))\n",
    "        \n",
    "        x_des_array.append(x_des) #For debugging purposes\n",
    "\n",
    "        u = -self.K @ (self.xhat - x_des)\n",
    "        tau_x = u[0,0]\n",
    "        tau_y = u[1,0]\n",
    "        tau_z = u[2,0]\n",
    "        if y[2,0] <= 0.5:\n",
    "            u[3,0] = 2.5\n",
    "        if is_last_ring: #Turning off upward force to make the drone fall into the ring\n",
    "            if abs(pos_ring[0] - pos[0]) < 0.6 and abs(pos_ring[1] - pos[1]) < 0.6:\n",
    "                u[3,0] = -100.\n",
    "        f_z = u[3,0] + self.f_z_e\n",
    "        if self.limiter is not None:\n",
    "            tau_x, tau_y, tau_z, f_z = self.limiter(tau_x, tau_y, tau_z, f_z)\n",
    "        u[3,0] = f_z - self.f_z_e\n",
    "        self.xhat += self.dt * (self.A @ self.xhat + self.B @ u - self.L @ (self.C @ self.xhat - y)) #State estimation\n",
    "\n",
    "        return tau_x, tau_y, tau_z, f_z"
   ]
  },
  {
   "source": [
    "### Running the simulation once\n",
    "Running the simulation just one time can get us quick data and good plots that describe how our controller and observer are performing. The display can also be turned on, as was done often, to get a visual understanding of the errors occuring."
   ],
   "cell_type": "markdown",
   "metadata": {}
  },
  {
   "cell_type": "code",
   "execution_count": null,
   "metadata": {},
   "outputs": [],
   "source": [
    "simulator.clear_drones()\n",
    "simulator.add_drone(RobotController, 'anshukc2', 'anshukc2.png')"
   ]
  },
  {
   "cell_type": "code",
   "execution_count": null,
   "metadata": {},
   "outputs": [],
   "source": [
    "simulator.camera_droneview('anshukc2')\n",
    "simulator.move_rings()\n",
    "simulator.reset()\n",
    "simulator.run(max_time=30.0)\n",
    "drone_name = 'anshukc2'\n",
    "drone = simulator.get_drone_by_name(drone_name)\n",
    "data = drone['data'].copy()\n",
    "for key in data.keys():\n",
    "    data[key] = np.array(data[key]).T\n",
    "x_des_array = np.array(x_des_array)"
   ]
  },
  {
   "source": [
    "### Plotting Data\n",
    "The plots shown below are all the different ones used when analyzing the system. Not all of these are included in the report as it would take up a lot of space"
   ],
   "cell_type": "markdown",
   "metadata": {}
  },
  {
   "cell_type": "code",
   "execution_count": null,
   "metadata": {},
   "outputs": [],
   "source": [
    "# Create a figure with subplots that all share the same x-axis\n",
    "fig, (ax_pos, ax_d, ax_d2, ax_v, ax_rpy, ax_taus, ax_fz) = plt.subplots(7, 1, figsize=(16, 30), sharex=True)\n",
    "\n",
    "# Position\n",
    "ax_pos.plot(data['t'], data['pos'][0, :], label='x (m)', linewidth=4)\n",
    "ax_pos.plot(data['t'], data['pos'][1, :], label='y (m)', linewidth=4)\n",
    "ax_pos.plot(data['t'], data['pos'][2, :], label='z (m)', linewidth=4)\n",
    "ax_pos.plot(data['t'], data['xhat'][0, :], '--', label='x_est (m)', linewidth=4)\n",
    "ax_pos.plot(data['t'], data['xhat'][1, :], '--', label='y_est (m)', linewidth=4)\n",
    "ax_pos.plot(data['t'], data['xhat'][2, :], '--', label='z_est (m)', linewidth=4)\n",
    "ax_pos.grid()\n",
    "ax_pos.legend(fontsize=16)\n",
    "ax_pos.tick_params(labelsize=14)\n",
    "\n",
    "\n",
    "# Desired\n",
    "ax_d.plot(data['t'], data['pos'][0, :], label='x (m)', linewidth=4)\n",
    "ax_d.plot(data['t'], data['pos'][1, :], label='y (m)', linewidth=4)\n",
    "ax_d.plot(data['t'], data['pos'][2, :], label='z (m)', linewidth=4)\n",
    "ax_d.plot(data['t'], x_des_array[:,0,0], '--', label='x_des (m)', linewidth=4)\n",
    "ax_d.plot(data['t'], x_des_array[:,1,0], '--', label='y_des (m)', linewidth=4)\n",
    "ax_d.plot(data['t'], x_des_array[:,2,0], '--', label='z_des (m)', linewidth=4)\n",
    "ax_d.grid()\n",
    "ax_d.legend(fontsize=16)\n",
    "ax_d.tick_params(labelsize=14)\n",
    "\n",
    "# Desired vs Estimate\n",
    "ax_d2.plot(data['t'], data['xhat'][0, :], '*', label='x_est (m)', linewidth=4)\n",
    "ax_d2.plot(data['t'], data['xhat'][1, :], '*', label='y_est (m)', linewidth=4)\n",
    "ax_d2.plot(data['t'], data['xhat'][2, :], '*', label='z_est (m)', linewidth=4)\n",
    "ax_d2.plot(data['t'], x_des_array[:,0,0], '--', label='x_des (m)', linewidth=4)\n",
    "ax_d2.plot(data['t'], x_des_array[:,1,0], '--', label='y_des (m)', linewidth=4)\n",
    "ax_d2.plot(data['t'], x_des_array[:,2,0], '--', label='z_des (m)', linewidth=4)\n",
    "ax_d2.grid()\n",
    "ax_d2.legend(fontsize=16)\n",
    "ax_d2.tick_params(labelsize=14)\n",
    "\n",
    "\n",
    "#Velocity\n",
    "ax_v.plot(data['t'], data['linvel'][0, :], label='vx (m)', linewidth=4)\n",
    "ax_v.plot(data['t'], data['linvel'][1, :], label='vy (m)', linewidth=4)\n",
    "ax_v.plot(data['t'], data['linvel'][2, :], label='vz (m)', linewidth=4)\n",
    "ax_v.plot(data['t'], data['xhat'][6, :], '--', label='vx_est (m)', linewidth=4)\n",
    "ax_v.plot(data['t'], data['xhat'][7, :], '--', label='vy_est (m)', linewidth=4)\n",
    "ax_v.plot(data['t'], data['xhat'][8, :], '--', label='vz_est (m)', linewidth=4)\n",
    "ax_v.grid()\n",
    "ax_v.legend(fontsize=16)\n",
    "ax_v.tick_params(labelsize=14)\n",
    "\n",
    "\n",
    "# Roll, pitch, and yaw angles\n",
    "ax_rpy.plot(data['t'], data['rpy'][0, :], label='roll (rad)', linewidth=4)\n",
    "ax_rpy.plot(data['t'], data['rpy'][1, :], label='pitch (rad)', linewidth=4)\n",
    "ax_rpy.plot(data['t'], data['rpy'][2, :], label='yaw (rad)', linewidth=4)\n",
    "ax_rpy.grid()\n",
    "ax_rpy.legend(fontsize=16)\n",
    "ax_rpy.tick_params(labelsize=14)\n",
    "\n",
    "# Actuator commands\n",
    "ax_taus.plot(data['t'], data['tau_x'], label='tau_x (N-m)', linewidth=4)\n",
    "ax_taus.plot(data['t'], data['tau_y'], label='tau_y (N-m)', linewidth=4)\n",
    "ax_taus.plot(data['t'], data['tau_z'], label='tau_z (N-m)', linewidth=4)\n",
    "ax_taus.grid()\n",
    "ax_taus.legend(fontsize=16)\n",
    "ax_taus.tick_params(labelsize=14)\n",
    "\n",
    "# Force command \n",
    "ax_fz.plot(data['t'], data['f_z'], label='f_z (N)', linewidth=4)\n",
    "ax_fz.grid()\n",
    "ax_fz.legend(fontsize=16)\n",
    "ax_fz.tick_params(labelsize=14)\n",
    "\n",
    "# Set shared x-axis properties\n",
    "ax_fz.set_xlabel('time (s)', fontsize=20)\n",
    "ax_fz.set_xlim([data['t'][0], data['t'][-1]])\n",
    "\n",
    "# Make the arrangement of subplots look nice\n",
    "fig.tight_layout()"
   ]
  },
  {
   "source": [
    "### Plots for the report\n",
    "These are the plots that are actually used in the report\n"
   ],
   "cell_type": "markdown",
   "metadata": {}
  },
  {
   "cell_type": "code",
   "execution_count": null,
   "metadata": {},
   "outputs": [],
   "source": [
    "#Plot for the position vs desired position\n",
    "plt.figure(figsize=(13,5))\n",
    "plt.plot(data['t'], data['pos'][0, :], label='x (m)', linewidth=2)\n",
    "plt.plot(data['t'], x_des_array[:,0,0], '--', label='x_des (m)', linewidth=2)\n",
    "plt.grid()\n",
    "plt.legend(fontsize=16)\n",
    "plt.tick_params(labelsize=14)\n",
    "plt.xlabel(\"Time (s)\", fontsize=14)\n",
    "plt.ylabel(\"x-position (m)\", fontsize=14)\n",
    "plt.title(\"Desired vs. Actual\", fontsize=14)\n",
    "plt.show()"
   ]
  },
  {
   "cell_type": "code",
   "execution_count": null,
   "metadata": {},
   "outputs": [],
   "source": [
    "# Plot for the velocity vs estimate\n",
    "plt.figure(figsize=(13,5))\n",
    "plt.plot(data['t'], data['linvel'][0, :], label='vx (m/s)', linewidth=2)\n",
    "plt.plot(data['t'], data['xhat'][6, :], '--', label='vx_est (m/s)', linewidth=2)\n",
    "plt.grid()\n",
    "plt.legend(fontsize=16)\n",
    "plt.tick_params(labelsize=14)\n",
    "plt.xlabel(\"Time (s)\", fontsize=14)\n",
    "plt.ylabel(\"x-velocity (m/s)\", fontsize=14)\n",
    "plt.title(\"Actual vs Estimate\", fontsize=14)\n",
    "plt.show()"
   ]
  },
  {
   "source": [
    "### Running the Simulation many times\n",
    "With the controller defined, we can now run the simulation as many times as we want. To get aggregate results, we reset the simulator, and move the rings to get a new simulation."
   ],
   "cell_type": "markdown",
   "metadata": {}
  },
  {
   "cell_type": "code",
   "execution_count": null,
   "metadata": {
    "tags": []
   },
   "outputs": [],
   "source": [
    "num_iters = 500\n",
    "finished = 0\n",
    "failed = 0\n",
    "finish_times = np.zeros(num_iters) - np.ones(num_iters)\n",
    "print(\"-------Starting Simulations!--------\")\n",
    "for i in range(num_iters):\n",
    "    simulator.clear_drones()\n",
    "    simulator.add_drone(RobotController, 'anshukc2', 'anshukc2.png')\n",
    "    simulator.camera_droneview('anshukc2')\n",
    "    simulator.move_rings()\n",
    "    simulator.reset()\n",
    "    x_des_array = []\n",
    "    simulator.run(max_time=70.0)\n",
    "    drone_name = 'anshukc2'\n",
    "    drone = simulator.get_drone_by_name(drone_name)\n",
    "    if drone['finish_time'] is None:\n",
    "        failed += 1\n",
    "    else:\n",
    "        finished += 1\n",
    "        finish_times[i] = drone['finish_time']\n",
    "    if i%10 == 0:\n",
    "        print(f\"{i} /\", num_iters)\n",
    "print(num_iters, f\" /\", num_iters)\n",
    "print(\"---------Simulations Complete!-------\")"
   ]
  },
  {
   "source": [
    "### Extracting Finish Data and Report"
   ],
   "cell_type": "markdown",
   "metadata": {}
  },
  {
   "cell_type": "code",
   "execution_count": null,
   "metadata": {},
   "outputs": [],
   "source": [
    "actual_finish_times = []\n",
    "for i in range(len(finish_times)):\n",
    "    if finish_times[i] >= 0:\n",
    "         actual_finish_times.append(finish_times[i])\n",
    "actual_finish_times = np.array(actual_finish_times)"
   ]
  },
  {
   "cell_type": "code",
   "execution_count": null,
   "metadata": {},
   "outputs": [],
   "source": [
    "# A nicely formatted report, inspired by Alan Hong's even nicer formatted report\n",
    "print(\"------------------Report----------------\")\n",
    "print(f\"Total number of runs:          \", num_iters)\n",
    "print(f\"No. of successful runs:        \", finished)\n",
    "print(f\"No. of failed runs:            \", failed)\n",
    "print(f\"Success rate:                  \", finished/num_iters * 100)\n",
    "print(f\"Mean finish time:              \", np.mean(actual_finish_times))\n",
    "print(f\"Median finish time:            \",np.median(actual_finish_times))\n",
    "print(f\"Standard Deviation:            \", np.std(actual_finish_times))\n",
    "print(f\"\\n\\n-----Histogram of all finish times------\\n\")\n",
    "plt.hist(actual_finish_times, bins= 40)\n",
    "plt.xlabel(\"Finishing time (s)\")\n",
    "plt.title(\"Histogram of finishing times\")\n",
    "plt.show()"
   ]
  },
  {
   "source": [
    "## Conclusion\n",
    "From the report above we see that the results are not as useful as wanted by the requirement. This is discussed in greater detail in the report, but the idea is that using desired velocities in the way used in this controller leads to a large amount of momentum that often results in hitting the hoops or overshooting. Although preventive measures were taken, the error still persists."
   ],
   "cell_type": "markdown",
   "metadata": {}
  }
 ]
}