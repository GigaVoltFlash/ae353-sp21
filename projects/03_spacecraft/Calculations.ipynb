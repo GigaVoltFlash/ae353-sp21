{
 "metadata": {
  "language_info": {
   "codemirror_mode": {
    "name": "ipython",
    "version": 3
   },
   "file_extension": ".py",
   "mimetype": "text/x-python",
   "name": "python",
   "nbconvert_exporter": "python",
   "pygments_lexer": "ipython3",
   "version": "3.9.1-final"
  },
  "orig_nbformat": 2,
  "kernelspec": {
   "name": "python391jvsc74a57bd03707160b982f1f10a85ea1c67ea35aa941c037d0e03bc0fc649503b13cc8856a",
   "display_name": "Python 3.9.1 64-bit ('ae353-bullet': conda)"
  }
 },
 "nbformat": 4,
 "nbformat_minor": 2,
 "cells": [
  {
   "cell_type": "code",
   "execution_count": null,
   "metadata": {},
   "outputs": [],
   "source": [
    "import sympy as sym\n",
    "import numpy as np\n",
    "from scipy import linalg"
   ]
  },
  {
   "cell_type": "code",
   "execution_count": null,
   "metadata": {},
   "outputs": [],
   "source": [
    "mb = 6.\n",
    "Jxb = 10.\n",
    "Jyb = 10.\n",
    "Jzb = 16.\n",
    "\n",
    "mw = 1.\n",
    "Jxw = 0.075\n",
    "Jyw = 0.075\n",
    "Jzw = 0.125\n",
    "lw = 1.1\n",
    "\n",
    "# roll, pitch, yaw angles\n",
    "phi, theta, psi = sym.symbols('phi, theta, psi')\n",
    "\n",
    "# angular velocities\n",
    "w_x, w_y, w_z = sym.symbols('w_x, w_y, w_z')\n",
    "\n",
    "# torques\n",
    "tau_1, tau_2, tau_3, tau_4 = sym.symbols('tau_1, tau_2, tau_3, tau_4')\n",
    "\n",
    "# resultant torques\n",
    "lt = sym.nsimplify(lw) * sym.sqrt(2) / 2\n",
    "T1 = - tau_1 * sym.Matrix([[lt], [0], [lt]])\n",
    "T2 = - tau_2 * sym.Matrix([[-lt], [0], [lt]])\n",
    "T3 = - tau_3 * sym.Matrix([[0], [lt], [lt]])\n",
    "T4 = - tau_4 * sym.Matrix([[0], [-lt], [lt]])\n",
    "T = T1 + T2 + T3 + T4\n",
    "\n",
    "# parameters\n",
    "Jx = sym.nsimplify(Jxb + 4 * mw * lw**2)\n",
    "Jy = sym.nsimplify(Jyb + 4 * mw * lw**2)\n",
    "Jz = sym.nsimplify(Jzb + 4 * mw * lw**2)\n",
    "\n",
    "# rotation matrices\n",
    "Rx = sym.Matrix([[1, 0, 0], [0, sym.cos(phi), -sym.sin(phi)], [0, sym.sin(phi), sym.cos(phi)]])\n",
    "Ry = sym.Matrix([[sym.cos(theta), 0, sym.sin(theta)], [0, 1, 0], [-sym.sin(theta), 0, sym.cos(theta)]])\n",
    "Rz = sym.Matrix([[sym.cos(psi), -sym.sin(psi), 0], [sym.sin(psi), sym.cos(psi), 0], [0, 0, 1]])\n",
    "\n",
    "# angular velocity to angular rates\n",
    "ex = sym.Matrix([[1], [0], [0]])\n",
    "ey = sym.Matrix([[0], [1], [0]])\n",
    "ez = sym.Matrix([[0], [0], [1]])\n",
    "M = sym.simplify(sym.Matrix.hstack((Ry * Rz).T * ex, Rz.T * ey, ez).inv(), full=True)\n",
    "\n",
    "# euler's equations\n",
    "euler = sym.Matrix([[(1 / Jx) * (T[0] + (Jy - Jz) * w_y * w_z)],\n",
    "                   [(1 / Jy) * (T[1] + (Jz - Jx) * w_z * w_x)],\n",
    "                   [(1 / Jz) * (T[2] + (Jx - Jy) * w_x * w_y)]])\n",
    "\n",
    "# equations of motion\n",
    "f = sym.simplify(sym.Matrix.vstack(M * sym.Matrix([[w_x], [w_y], [w_z]]), euler), full=True)"
   ]
  },
  {
   "cell_type": "code",
   "execution_count": null,
   "metadata": {},
   "outputs": [],
   "source": [
    "f"
   ]
  },
  {
   "cell_type": "code",
   "execution_count": null,
   "metadata": {},
   "outputs": [],
   "source": [
    "# Make f an executable function\n",
    "f_num = sym.lambdify((phi, theta, psi, w_x, w_y, w_z,tau_1, tau_2, tau_3, tau_4),f)"
   ]
  },
  {
   "cell_type": "code",
   "execution_count": null,
   "metadata": {},
   "outputs": [],
   "source": [
    "#Equilibrium values\n",
    "\n",
    "phi_e = 0\n",
    "theta_e = 0\n",
    "psi_e = 0\n",
    "w_x_e = 0\n",
    "w_y_e = 0\n",
    "w_z_e = 0\n",
    "tau_1_e = 0\n",
    "tau_2_e = 0\n",
    "tau_3_e = 0\n",
    "tau_4_e = 0"
   ]
  },
  {
   "cell_type": "code",
   "execution_count": null,
   "metadata": {},
   "outputs": [],
   "source": [
    "feq = f_num(phi_e, theta_e\n",
    ", psi_e\n",
    ", w_x_e\n",
    ", w_y_e\n",
    ", w_z_e\n",
    ", tau_1_e\n",
    ", tau_2_e\n",
    ", tau_3_e\n",
    ", tau_4_e)"
   ]
  },
  {
   "cell_type": "code",
   "execution_count": null,
   "metadata": {},
   "outputs": [],
   "source": [
    "feq #Works perfectly"
   ]
  },
  {
   "cell_type": "code",
   "execution_count": null,
   "metadata": {},
   "outputs": [],
   "source": []
  },
  {
   "cell_type": "code",
   "execution_count": null,
   "metadata": {},
   "outputs": [],
   "source": [
    "# Now we linearize our system about the equilibrium point\n",
    "# Linearizing the system\n",
    "\n",
    "#Now we find the Jacobians\n",
    "f_jacob_x = f.jacobian([phi, theta, psi, w_x, w_y, w_z])\n",
    "f_jacob_u = f.jacobian([tau_1, tau_2, tau_3, tau_4])\n",
    "\n",
    "#And then we find functions for A and B using this jacobian\n",
    "A_num = sym.lambdify((phi, theta, psi, w_x, w_y, w_z,tau_1, tau_2, tau_3, tau_4),f_jacob_x)\n",
    "B_num = sym.lambdify((phi, theta, psi, w_x, w_y, w_z,tau_1, tau_2, tau_3, tau_4),f_jacob_u)\n",
    "\n",
    "#Finally, we find the linearized state space model by evaluating A_num and B_num at the equilibrium points\n",
    "A = A_num(phi_e, theta_e, psi_e, w_x_e, w_y_e, w_z_e,tau_1_e, tau_2_e, tau_3_e, tau_4_e).astype(float)\n",
    "B = B_num(phi_e, theta_e, psi_e, w_x_e, w_y_e, w_z_e,tau_1_e, tau_2_e, tau_3_e, tau_4_e).astype(float)"
   ]
  },
  {
   "cell_type": "code",
   "execution_count": null,
   "metadata": {},
   "outputs": [],
   "source": [
    "A.tolist()"
   ]
  },
  {
   "cell_type": "code",
   "execution_count": null,
   "metadata": {},
   "outputs": [],
   "source": [
    "B.tolist()"
   ]
  },
  {
   "cell_type": "code",
   "execution_count": null,
   "metadata": {},
   "outputs": [],
   "source": [
    "## Checking for controllability\n",
    "# Find the number of states\n",
    "n = A.shape[0]\n",
    "\n",
    "# Initialize W with its first column\n",
    "W = B\n",
    "\n",
    "# Create W one column at a time by iterating over i from 1 to n-1\n",
    "for i in range(1, n):\n",
    "    col = np.linalg.matrix_power(A, i) @ B\n",
    "    W = np.block([W, col])"
   ]
  },
  {
   "cell_type": "code",
   "execution_count": null,
   "metadata": {},
   "outputs": [],
   "source": [
    "# What about the rank?\n",
    "print(np.linalg.matrix_rank(W))\n",
    "print(W.shape)\n",
    "#The rank is six, so the system is controllable!"
   ]
  },
  {
   "cell_type": "code",
   "execution_count": null,
   "metadata": {},
   "outputs": [],
   "source": [
    "Qc = np.diag([0.005,1.,1.,0.075,0.4,0.4]) #Roll, pitch, yaw, omegax, omegay, omegaz\n",
    "Rc = np.diag([1.,1.,1.,1.]) #Tau 1 to tau 4\n",
    "# We can also define an LQR function in the following way:\n",
    "def lqr(A,B,Q,R):\n",
    "    P = linalg.solve_continuous_are(A,B,Q,R)\n",
    "    K = linalg.inv(R) @ B.T @ P\n",
    "    return K\n",
    "# The function above can be used for both controller and observer design\n",
    "K = lqr(A,B,Qc,Rc)\n",
    "K.tolist()"
   ]
  },
  {
   "cell_type": "code",
   "execution_count": null,
   "metadata": {
    "tags": []
   },
   "outputs": [],
   "source": [
    "# We can directly start designing an LQR controller for the system. It is independent of the observer\n",
    "s = np.array([1.0j, -1.0j,1.0j, -1.0j,1.0j, -1.0j])\n",
    "while (s.imag != 0).all(): \n",
    "    angweight = np.random.rand()\n",
    "    velweight = np.random.rand()\n",
    "    Qc = 10*np.diag([angweight,angweight,angweight,velweight,velweight,velweight]) #Roll, pitch, yaw, omegax, omegay, omegaz\n",
    "    Rc = np.diag([1.,1.,1.,1.]) #Tau 1 to tau 4\n",
    "    # We can also define an LQR function in the following way:\n",
    "    def lqr(A,B,Q,R):\n",
    "        P = linalg.solve_continuous_are(A,B,Q,R)\n",
    "        K = linalg.inv(R) @ B.T @ P\n",
    "        return K\n",
    "    # The function above can be used for both controller and observer design\n",
    "    K = lqr(A,B,Qc,Rc)\n",
    "    K.tolist()\n",
    "    F = A - B@K\n",
    "    s = linalg.eigvals(F)\n",
    "K.tolist()\n",
    "s"
   ]
  },
  {
   "cell_type": "code",
   "execution_count": null,
   "metadata": {},
   "outputs": [],
   "source": [
    "# Now we work on the Observer\n",
    "alpha, delta = sym.symbols('alpha, delta')\n",
    "# Scope radius\n",
    "r = 0.8 / 2.1\n",
    "# Position of star in space frame\n",
    "p_star_in_space = sym.Matrix([[sym.cos(alpha) * sym.cos(delta)],\n",
    "                              [sym.sin(alpha) * sym.cos(delta)],\n",
    "                              [sym.sin(delta)]])\n",
    "\n",
    "# Orientation of body frame in space frame\n",
    "R_body_in_space = Rx * Ry * Rz\n",
    "\n",
    "# Position of star in body frame (assuming origin of body and space frames are the same)\n",
    "p_star_in_body = R_body_in_space.T * p_star_in_space\n",
    "\n",
    "# Position of star in image frame\n",
    "p_star_in_image = (1 / sym.nsimplify(r)) * sym.Matrix([[p_star_in_body[1] / p_star_in_body[0]],\n",
    "                                                       [p_star_in_body[2] / p_star_in_body[0]]])\n",
    "\n",
    "# Sensor model for each star\n",
    "g = sym.simplify(p_star_in_image, full=True)\n",
    "\n",
    "#This is the output equation: y = Cx, where x is the state vector and y is the position of the star given in y-pos and z-pos vars per star\n",
    "#The following line is taken from the Day30 in-class code"
   ]
  },
  {
   "cell_type": "code",
   "execution_count": null,
   "metadata": {},
   "outputs": [],
   "source": [
    "g"
   ]
  },
  {
   "cell_type": "code",
   "execution_count": null,
   "metadata": {},
   "outputs": [],
   "source": [
    "#Make G a combination of 3 stars with set position data\n",
    "alpha1 = 0.\n",
    "alpha2 = 0.15\n",
    "alpha3 = 0.\n",
    "alpha4 = -0.2\n",
    "alpha5 = 0.\n",
    "delta1 = 0.\n",
    "delta2 = 0.\n",
    "delta3 = 0.15\n",
    "delta4 = 0.\n",
    "delta5 = -0.2\n",
    "\n",
    "G = np.block([[g.subs([(alpha, alpha1), (delta, delta1)])],[g.subs([(alpha, alpha2), (delta, delta2)])],[g.subs([(alpha, alpha3), (delta, delta3)])],[g.subs([(alpha, alpha4), (delta, delta4)])],[g.subs([(alpha, alpha5), (delta, delta5)])]])\n",
    "G = sym.Matrix(G)\n",
    "G"
   ]
  },
  {
   "cell_type": "code",
   "execution_count": null,
   "metadata": {},
   "outputs": [],
   "source": [
    "# We also need to find the equilibrium value of this system and subtract that from z to get y\n",
    "G_num = sym.lambdify((phi, theta, psi),G)\n",
    "Geq = G_num(phi_e, theta_e, psi_e)\n",
    "Geq.tolist()"
   ]
  },
  {
   "cell_type": "code",
   "execution_count": null,
   "metadata": {},
   "outputs": [],
   "source": [
    "#We now create a numerical function for C, that will then be evaluated at the equilibrium point\n",
    "C_num = sym.lambdify((phi, theta, psi), G.jacobian([phi, theta, psi, w_x, w_y, w_z]))\n",
    "C = C_num(phi_e, theta_e, psi_e)\n",
    "C.tolist()"
   ]
  },
  {
   "cell_type": "code",
   "execution_count": null,
   "metadata": {},
   "outputs": [],
   "source": [
    "# We can check for the observability of this system\n",
    "Wo = C\n",
    "for i in range(1,n):\n",
    "    row = C @ np.linalg.matrix_power(A,i)\n",
    "    Wo = np.block([[Wo],[row]])\n",
    "rank = np.linalg.matrix_rank(Wo)\n",
    "rank\n",
    "# The rank of the system is the same as the number of states, so the system is observable.\n"
   ]
  },
  {
   "cell_type": "code",
   "execution_count": null,
   "metadata": {},
   "outputs": [],
   "source": [
    "# Designing an optimal controller\n",
    "Qo = np.diag(np.ones(2*5)) # (2n)x(2n) for an n star system\n",
    "Ro = np.diag([1.,1.,1.,1.,1.,1.])\n",
    "\n",
    "L = lqr(A.T, C.T, linalg.inv(Ro), linalg.inv(Qo)).T\n",
    "L.tolist()"
   ]
  },
  {
   "cell_type": "code",
   "execution_count": null,
   "metadata": {},
   "outputs": [],
   "source": []
  },
  {
   "cell_type": "code",
   "execution_count": null,
   "metadata": {},
   "outputs": [],
   "source": [
    "p = [0.0, 1.0, 2.0, 3.0, 4.0, 5.0]\n",
    "z = np.array([p]).T\n",
    "z"
   ]
  }
 ]
}