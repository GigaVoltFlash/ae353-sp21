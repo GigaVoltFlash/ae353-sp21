{
 "metadata": {
  "language_info": {
   "codemirror_mode": {
    "name": "ipython",
    "version": 3
   },
   "file_extension": ".py",
   "mimetype": "text/x-python",
   "name": "python",
   "nbconvert_exporter": "python",
   "pygments_lexer": "ipython3",
   "version": "3.9.1-final"
  },
  "orig_nbformat": 2,
  "kernelspec": {
   "name": "python391jvsc74a57bd03707160b982f1f10a85ea1c67ea35aa941c037d0e03bc0fc649503b13cc8856a",
   "display_name": "Python 3.9.1 64-bit ('ae353-bullet': conda)"
  }
 },
 "nbformat": 4,
 "nbformat_minor": 2,
 "cells": [
  {
   "cell_type": "code",
   "execution_count": 1,
   "metadata": {},
   "outputs": [],
   "source": [
    "import sympy as sym\n",
    "import numpy as np\n",
    "from scipy import linalg"
   ]
  },
  {
   "cell_type": "code",
   "execution_count": 2,
   "metadata": {},
   "outputs": [],
   "source": [
    "mb = 6.\n",
    "Jxb = 10.\n",
    "Jyb = 10.\n",
    "Jzb = 16.\n",
    "\n",
    "mw = 1.\n",
    "Jxw = 0.075\n",
    "Jyw = 0.075\n",
    "Jzw = 0.125\n",
    "lw = 1.1\n",
    "\n",
    "# roll, pitch, yaw angles\n",
    "phi, theta, psi = sym.symbols('phi, theta, psi')\n",
    "\n",
    "# angular velocities\n",
    "w_x, w_y, w_z = sym.symbols('w_x, w_y, w_z')\n",
    "\n",
    "# torques\n",
    "tau_1, tau_2, tau_3, tau_4 = sym.symbols('tau_1, tau_2, tau_3, tau_4')\n",
    "\n",
    "# resultant torques\n",
    "lt = sym.nsimplify(lw) * sym.sqrt(2) / 2\n",
    "T1 = - tau_1 * sym.Matrix([[lt], [0], [lt]])\n",
    "T2 = - tau_2 * sym.Matrix([[-lt], [0], [lt]])\n",
    "T3 = - tau_3 * sym.Matrix([[0], [lt], [lt]])\n",
    "T4 = - tau_4 * sym.Matrix([[0], [-lt], [lt]])\n",
    "T = T1 + T2 + T3 + T4\n",
    "\n",
    "# parameters\n",
    "Jx = sym.nsimplify(Jxb + 4 * mw * lw**2)\n",
    "Jy = sym.nsimplify(Jyb + 4 * mw * lw**2)\n",
    "Jz = sym.nsimplify(Jzb + 4 * mw * lw**2)\n",
    "\n",
    "# rotation matrices\n",
    "Rx = sym.Matrix([[1, 0, 0], [0, sym.cos(phi), -sym.sin(phi)], [0, sym.sin(phi), sym.cos(phi)]])\n",
    "Ry = sym.Matrix([[sym.cos(theta), 0, sym.sin(theta)], [0, 1, 0], [-sym.sin(theta), 0, sym.cos(theta)]])\n",
    "Rz = sym.Matrix([[sym.cos(psi), -sym.sin(psi), 0], [sym.sin(psi), sym.cos(psi), 0], [0, 0, 1]])\n",
    "\n",
    "# angular velocity to angular rates\n",
    "ex = sym.Matrix([[1], [0], [0]])\n",
    "ey = sym.Matrix([[0], [1], [0]])\n",
    "ez = sym.Matrix([[0], [0], [1]])\n",
    "M = sym.simplify(sym.Matrix.hstack((Ry * Rz).T * ex, Rz.T * ey, ez).inv(), full=True)\n",
    "\n",
    "# euler's equations\n",
    "euler = sym.Matrix([[(1 / Jx) * (T[0] + (Jy - Jz) * w_y * w_z)],\n",
    "                   [(1 / Jy) * (T[1] + (Jz - Jx) * w_z * w_x)],\n",
    "                   [(1 / Jz) * (T[2] + (Jx - Jy) * w_x * w_y)]])\n",
    "\n",
    "# equations of motion\n",
    "f = sym.simplify(sym.Matrix.vstack(M * sym.Matrix([[w_x], [w_y], [w_z]]), euler), full=True)"
   ]
  },
  {
   "cell_type": "code",
   "execution_count": 3,
   "metadata": {},
   "outputs": [
    {
     "output_type": "execute_result",
     "data": {
      "text/plain": [
       "Matrix([\n",
       "[                        (w_x*cos(psi) - w_y*sin(psi))/cos(theta)],\n",
       "[                                     w_x*sin(psi) + w_y*cos(psi)],\n",
       "[        -w_x*cos(psi)*tan(theta) + w_y*sin(psi)*tan(theta) + w_z],\n",
       "[-55*sqrt(2)*tau_1/1484 + 55*sqrt(2)*tau_2/1484 - 150*w_y*w_z/371],\n",
       "[-55*sqrt(2)*tau_3/1484 + 55*sqrt(2)*tau_4/1484 + 150*w_x*w_z/371],\n",
       "[                -55*sqrt(2)*(tau_1 + tau_2 + tau_3 + tau_4)/2084]])"
      ],
      "text/latex": "$\\displaystyle \\left[\\begin{matrix}\\frac{w_{x} \\cos{\\left(\\psi \\right)} - w_{y} \\sin{\\left(\\psi \\right)}}{\\cos{\\left(\\theta \\right)}}\\\\w_{x} \\sin{\\left(\\psi \\right)} + w_{y} \\cos{\\left(\\psi \\right)}\\\\- w_{x} \\cos{\\left(\\psi \\right)} \\tan{\\left(\\theta \\right)} + w_{y} \\sin{\\left(\\psi \\right)} \\tan{\\left(\\theta \\right)} + w_{z}\\\\- \\frac{55 \\sqrt{2} \\tau_{1}}{1484} + \\frac{55 \\sqrt{2} \\tau_{2}}{1484} - \\frac{150 w_{y} w_{z}}{371}\\\\- \\frac{55 \\sqrt{2} \\tau_{3}}{1484} + \\frac{55 \\sqrt{2} \\tau_{4}}{1484} + \\frac{150 w_{x} w_{z}}{371}\\\\- \\frac{55 \\sqrt{2} \\left(\\tau_{1} + \\tau_{2} + \\tau_{3} + \\tau_{4}\\right)}{2084}\\end{matrix}\\right]$"
     },
     "metadata": {},
     "execution_count": 3
    }
   ],
   "source": [
    "f"
   ]
  },
  {
   "cell_type": "code",
   "execution_count": 4,
   "metadata": {},
   "outputs": [],
   "source": [
    "# Make f an executable function\n",
    "f_num = sym.lambdify((phi, theta, psi, w_x, w_y, w_z,tau_1, tau_2, tau_3, tau_4),f)"
   ]
  },
  {
   "cell_type": "code",
   "execution_count": 5,
   "metadata": {},
   "outputs": [],
   "source": [
    "#Equilibrium values\n",
    "\n",
    "phi_e = 0\n",
    "theta_e = 0\n",
    "psi_e = 0\n",
    "w_x_e = 0\n",
    "w_y_e = 0\n",
    "w_z_e = 0\n",
    "tau_1_e = 0\n",
    "tau_2_e = 0\n",
    "tau_3_e = 0\n",
    "tau_4_e = 0"
   ]
  },
  {
   "cell_type": "code",
   "execution_count": 6,
   "metadata": {},
   "outputs": [],
   "source": [
    "feq = f_num(phi_e, theta_e\n",
    ", psi_e\n",
    ", w_x_e\n",
    ", w_y_e\n",
    ", w_z_e\n",
    ", tau_1_e\n",
    ", tau_2_e\n",
    ", tau_3_e\n",
    ", tau_4_e)"
   ]
  },
  {
   "cell_type": "code",
   "execution_count": 7,
   "metadata": {},
   "outputs": [
    {
     "output_type": "execute_result",
     "data": {
      "text/plain": [
       "array([[ 0.],\n",
       "       [ 0.],\n",
       "       [ 0.],\n",
       "       [ 0.],\n",
       "       [ 0.],\n",
       "       [-0.]])"
      ]
     },
     "metadata": {},
     "execution_count": 7
    }
   ],
   "source": [
    "feq #Works perfectly"
   ]
  },
  {
   "cell_type": "code",
   "execution_count": null,
   "metadata": {},
   "outputs": [],
   "source": []
  },
  {
   "cell_type": "code",
   "execution_count": 8,
   "metadata": {},
   "outputs": [],
   "source": [
    "# Now we linearize our system about the equilibrium point\n",
    "# Linearizing the system\n",
    "\n",
    "#Now we find the Jacobians\n",
    "f_jacob_x = f.jacobian([phi, theta, psi, w_x, w_y, w_z])\n",
    "f_jacob_u = f.jacobian([tau_1, tau_2, tau_3, tau_4])\n",
    "\n",
    "#And then we find functions for A and B using this jacobian\n",
    "A_num = sym.lambdify((phi, theta, psi, w_x, w_y, w_z,tau_1, tau_2, tau_3, tau_4),f_jacob_x)\n",
    "B_num = sym.lambdify((phi, theta, psi, w_x, w_y, w_z,tau_1, tau_2, tau_3, tau_4),f_jacob_u)\n",
    "\n",
    "#Finally, we find the linearized state space model by evaluating A_num and B_num at the equilibrium points\n",
    "A = A_num(phi_e, theta_e, psi_e, w_x_e, w_y_e, w_z_e,tau_1_e, tau_2_e, tau_3_e, tau_4_e).astype(float)\n",
    "B = B_num(phi_e, theta_e, psi_e, w_x_e, w_y_e, w_z_e,tau_1_e, tau_2_e, tau_3_e, tau_4_e).astype(float)"
   ]
  },
  {
   "cell_type": "code",
   "execution_count": 9,
   "metadata": {},
   "outputs": [
    {
     "output_type": "execute_result",
     "data": {
      "text/plain": [
       "[[0.0, 0.0, 0.0, 1.0, -0.0, 0.0],\n",
       " [0.0, 0.0, 0.0, 0.0, 1.0, 0.0],\n",
       " [0.0, 0.0, 0.0, -0.0, 0.0, 1.0],\n",
       " [0.0, 0.0, 0.0, 0.0, -0.0, -0.0],\n",
       " [0.0, 0.0, 0.0, 0.0, 0.0, 0.0],\n",
       " [0.0, 0.0, 0.0, 0.0, 0.0, 0.0]]"
      ]
     },
     "metadata": {},
     "execution_count": 9
    }
   ],
   "source": [
    "A.tolist()"
   ]
  },
  {
   "cell_type": "code",
   "execution_count": 10,
   "metadata": {},
   "outputs": [
    {
     "output_type": "execute_result",
     "data": {
      "text/plain": [
       "[[0.0, 0.0, 0.0, 0.0],\n",
       " [0.0, 0.0, 0.0, 0.0],\n",
       " [0.0, 0.0, 0.0, 0.0],\n",
       " [-0.052413575424878865, 0.052413575424878865, 0.0, 0.0],\n",
       " [0.0, 0.0, -0.052413575424878865, 0.052413575424878865],\n",
       " [-0.03732329459238015,\n",
       "  -0.03732329459238015,\n",
       "  -0.03732329459238015,\n",
       "  -0.03732329459238015]]"
      ]
     },
     "metadata": {},
     "execution_count": 10
    }
   ],
   "source": [
    "B.tolist()"
   ]
  },
  {
   "cell_type": "code",
   "execution_count": 11,
   "metadata": {},
   "outputs": [],
   "source": [
    "## Checking for controllability\n",
    "# Find the number of states\n",
    "n = A.shape[0]\n",
    "\n",
    "# Initialize W with its first column\n",
    "W = B\n",
    "\n",
    "# Create W one column at a time by iterating over i from 1 to n-1\n",
    "for i in range(1, n):\n",
    "    col = np.linalg.matrix_power(A, i) @ B\n",
    "    W = np.block([W, col])"
   ]
  },
  {
   "cell_type": "code",
   "execution_count": 12,
   "metadata": {},
   "outputs": [
    {
     "output_type": "stream",
     "name": "stdout",
     "text": [
      "6\n"
     ]
    }
   ],
   "source": [
    "# What about the rank?\n",
    "print(np.linalg.matrix_rank(W))\n",
    "#The rank is six, so the system is controllable!"
   ]
  },
  {
   "cell_type": "code",
   "execution_count": 23,
   "metadata": {},
   "outputs": [
    {
     "output_type": "execute_result",
     "data": {
      "text/plain": [
       "[[-4.472135954999583,\n",
       "  -2.6633170001054275e-15,\n",
       "  -2.236067977499786,\n",
       "  -10.016186942499067,\n",
       "  -3.415143604229942e-15,\n",
       "  -6.017091808790448],\n",
       " [4.472135954999583,\n",
       "  -2.3056071713205627e-15,\n",
       "  -2.236067977499785,\n",
       "  10.016186942499067,\n",
       "  -2.7307011801662124e-15,\n",
       "  -6.017091808790448],\n",
       " [1.1572690410922678e-15,\n",
       "  -3.162277660168382,\n",
       "  -2.2360679774997867,\n",
       "  -5.759584258290038e-16,\n",
       "  -8.53423573678893,\n",
       "  -6.017091808790452],\n",
       " [-6.028587380819639e-16,\n",
       "  3.162277660168377,\n",
       "  -2.236067977499784,\n",
       "  1.0848399823472568e-16,\n",
       "  8.534235736788922,\n",
       "  -6.017091808790443]]"
      ]
     },
     "metadata": {},
     "execution_count": 23
    }
   ],
   "source": [
    "# We can directly start designing an LQR controller for the system. It is independent of the observer\n",
    "Qc = np.diag([40.,20.,20.,30.,25.,25.]) #Roll, pitch, yaw, omegax, omegay, omegaz\n",
    "Rc = np.diag([1.,1.,1.,1.]) #Tau 1 to tau 4\n",
    "\n",
    "# We can also define an LQR function in the following way:\n",
    "def lqr(A,B,Q,R):\n",
    "    P = linalg.solve_continuous_are(A,B,Q,R)\n",
    "    K = linalg.inv(R) @ B.T @ P\n",
    "    return K\n",
    "# The function above can be used for both controller and observer design\n",
    "K = lqr(A,B,Qc,Rc)\n",
    "K.tolist()"
   ]
  },
  {
   "cell_type": "code",
   "execution_count": 14,
   "metadata": {},
   "outputs": [],
   "source": [
    "# Now we work on the Observer\n",
    "alpha, delta = sym.symbols('alpha, delta')\n",
    "# Scope radius\n",
    "r = 0.8 / 2.1\n",
    "# Position of star in space frame\n",
    "p_star_in_space = sym.Matrix([[sym.cos(alpha) * sym.cos(delta)],\n",
    "                              [sym.sin(alpha) * sym.cos(delta)],\n",
    "                              [sym.sin(delta)]])\n",
    "\n",
    "# Orientation of body frame in space frame\n",
    "R_body_in_space = Rx * Ry * Rz\n",
    "\n",
    "# Position of star in body frame (assuming origin of body and space frames are the same)\n",
    "p_star_in_body = R_body_in_space.T * p_star_in_space\n",
    "\n",
    "# Position of star in image frame\n",
    "p_star_in_image = (1 / sym.nsimplify(r)) * sym.Matrix([[p_star_in_body[1] / p_star_in_body[0]],\n",
    "                                                       [p_star_in_body[2] / p_star_in_body[0]]])\n",
    "\n",
    "# Sensor model for each star\n",
    "g = sym.simplify(p_star_in_image, full=True)\n",
    "\n",
    "#This is the output equation: y = Cx, where x is the state vector and y is the position of the star given in y-pos and z-pos vars per star\n",
    "#The following line is taken from the Day30 in-class code"
   ]
  },
  {
   "cell_type": "code",
   "execution_count": 15,
   "metadata": {},
   "outputs": [
    {
     "output_type": "execute_result",
     "data": {
      "text/plain": [
       "Matrix([\n",
       "[21*((sin(phi)*cos(psi) + sin(psi)*sin(theta)*cos(phi))*sin(delta) - (sin(phi)*sin(psi)*sin(theta) - cos(phi)*cos(psi))*sin(alpha)*cos(delta) - sin(psi)*cos(alpha)*cos(delta)*cos(theta))/(8*((sin(phi)*sin(psi) - sin(theta)*cos(phi)*cos(psi))*sin(delta) + (sin(phi)*sin(theta)*cos(psi) + sin(psi)*cos(phi))*sin(alpha)*cos(delta) + cos(alpha)*cos(delta)*cos(psi)*cos(theta)))],\n",
       "[                                                                      21*(-sin(alpha)*sin(phi)*cos(delta)*cos(theta) + sin(delta)*cos(phi)*cos(theta) + sin(theta)*cos(alpha)*cos(delta))/(8*((sin(phi)*sin(psi) - sin(theta)*cos(phi)*cos(psi))*sin(delta) + (sin(phi)*sin(theta)*cos(psi) + sin(psi)*cos(phi))*sin(alpha)*cos(delta) + cos(alpha)*cos(delta)*cos(psi)*cos(theta)))]])"
      ],
      "text/latex": "$\\displaystyle \\left[\\begin{matrix}\\frac{21 \\left(\\left(\\sin{\\left(\\phi \\right)} \\cos{\\left(\\psi \\right)} + \\sin{\\left(\\psi \\right)} \\sin{\\left(\\theta \\right)} \\cos{\\left(\\phi \\right)}\\right) \\sin{\\left(\\delta \\right)} - \\left(\\sin{\\left(\\phi \\right)} \\sin{\\left(\\psi \\right)} \\sin{\\left(\\theta \\right)} - \\cos{\\left(\\phi \\right)} \\cos{\\left(\\psi \\right)}\\right) \\sin{\\left(\\alpha \\right)} \\cos{\\left(\\delta \\right)} - \\sin{\\left(\\psi \\right)} \\cos{\\left(\\alpha \\right)} \\cos{\\left(\\delta \\right)} \\cos{\\left(\\theta \\right)}\\right)}{8 \\left(\\left(\\sin{\\left(\\phi \\right)} \\sin{\\left(\\psi \\right)} - \\sin{\\left(\\theta \\right)} \\cos{\\left(\\phi \\right)} \\cos{\\left(\\psi \\right)}\\right) \\sin{\\left(\\delta \\right)} + \\left(\\sin{\\left(\\phi \\right)} \\sin{\\left(\\theta \\right)} \\cos{\\left(\\psi \\right)} + \\sin{\\left(\\psi \\right)} \\cos{\\left(\\phi \\right)}\\right) \\sin{\\left(\\alpha \\right)} \\cos{\\left(\\delta \\right)} + \\cos{\\left(\\alpha \\right)} \\cos{\\left(\\delta \\right)} \\cos{\\left(\\psi \\right)} \\cos{\\left(\\theta \\right)}\\right)}\\\\\\frac{21 \\left(- \\sin{\\left(\\alpha \\right)} \\sin{\\left(\\phi \\right)} \\cos{\\left(\\delta \\right)} \\cos{\\left(\\theta \\right)} + \\sin{\\left(\\delta \\right)} \\cos{\\left(\\phi \\right)} \\cos{\\left(\\theta \\right)} + \\sin{\\left(\\theta \\right)} \\cos{\\left(\\alpha \\right)} \\cos{\\left(\\delta \\right)}\\right)}{8 \\left(\\left(\\sin{\\left(\\phi \\right)} \\sin{\\left(\\psi \\right)} - \\sin{\\left(\\theta \\right)} \\cos{\\left(\\phi \\right)} \\cos{\\left(\\psi \\right)}\\right) \\sin{\\left(\\delta \\right)} + \\left(\\sin{\\left(\\phi \\right)} \\sin{\\left(\\theta \\right)} \\cos{\\left(\\psi \\right)} + \\sin{\\left(\\psi \\right)} \\cos{\\left(\\phi \\right)}\\right) \\sin{\\left(\\alpha \\right)} \\cos{\\left(\\delta \\right)} + \\cos{\\left(\\alpha \\right)} \\cos{\\left(\\delta \\right)} \\cos{\\left(\\psi \\right)} \\cos{\\left(\\theta \\right)}\\right)}\\end{matrix}\\right]$"
     },
     "metadata": {},
     "execution_count": 15
    }
   ],
   "source": [
    "g"
   ]
  },
  {
   "cell_type": "code",
   "execution_count": 16,
   "metadata": {},
   "outputs": [
    {
     "output_type": "execute_result",
     "data": {
      "text/plain": [
       "Matrix([\n",
       "[                                                                                                                                                                                                                                             -21*sin(psi)/(8*cos(psi))],\n",
       "[                                                                                                                                                                                                                                 21*sin(theta)/(8*cos(psi)*cos(theta))],\n",
       "[ 21*(-0.149438132473599*sin(phi)*sin(psi)*sin(theta) - 0.988771077936042*sin(psi)*cos(theta) + 0.149438132473599*cos(phi)*cos(psi))/(8*(0.149438132473599*sin(phi)*sin(theta)*cos(psi) + 0.149438132473599*sin(psi)*cos(phi) + 0.988771077936042*cos(psi)*cos(theta)))],\n",
       "[                                                         21*(-0.149438132473599*sin(phi)*cos(theta) + 0.988771077936042*sin(theta))/(8*(0.149438132473599*sin(phi)*sin(theta)*cos(psi) + 0.149438132473599*sin(psi)*cos(phi) + 0.988771077936042*cos(psi)*cos(theta)))],\n",
       "[  21*(0.149438132473599*sin(phi)*cos(psi) + 0.149438132473599*sin(psi)*sin(theta)*cos(phi) - 0.988771077936042*sin(psi)*cos(theta))/(8*(0.149438132473599*sin(phi)*sin(psi) - 0.149438132473599*sin(theta)*cos(phi)*cos(psi) + 0.988771077936042*cos(psi)*cos(theta)))],\n",
       "[                                                          21*(0.988771077936042*sin(theta) + 0.149438132473599*cos(phi)*cos(theta))/(8*(0.149438132473599*sin(phi)*sin(psi) - 0.149438132473599*sin(theta)*cos(phi)*cos(psi) + 0.988771077936042*cos(psi)*cos(theta)))],\n",
       "[ 21*(0.198669330795061*sin(phi)*sin(psi)*sin(theta) - 0.980066577841242*sin(psi)*cos(theta) - 0.198669330795061*cos(phi)*cos(psi))/(8*(-0.198669330795061*sin(phi)*sin(theta)*cos(psi) - 0.198669330795061*sin(psi)*cos(phi) + 0.980066577841242*cos(psi)*cos(theta)))],\n",
       "[                                                         21*(0.198669330795061*sin(phi)*cos(theta) + 0.980066577841242*sin(theta))/(8*(-0.198669330795061*sin(phi)*sin(theta)*cos(psi) - 0.198669330795061*sin(psi)*cos(phi) + 0.980066577841242*cos(psi)*cos(theta)))],\n",
       "[21*(-0.198669330795061*sin(phi)*cos(psi) - 0.198669330795061*sin(psi)*sin(theta)*cos(phi) - 0.980066577841242*sin(psi)*cos(theta))/(8*(-0.198669330795061*sin(phi)*sin(psi) + 0.198669330795061*sin(theta)*cos(phi)*cos(psi) + 0.980066577841242*cos(psi)*cos(theta)))],\n",
       "[                                                         21*(0.980066577841242*sin(theta) - 0.198669330795061*cos(phi)*cos(theta))/(8*(-0.198669330795061*sin(phi)*sin(psi) + 0.198669330795061*sin(theta)*cos(phi)*cos(psi) + 0.980066577841242*cos(psi)*cos(theta)))]])"
      ],
      "text/latex": "$\\displaystyle \\left[\\begin{matrix}- \\frac{21 \\sin{\\left(\\psi \\right)}}{8 \\cos{\\left(\\psi \\right)}}\\\\\\frac{21 \\sin{\\left(\\theta \\right)}}{8 \\cos{\\left(\\psi \\right)} \\cos{\\left(\\theta \\right)}}\\\\\\frac{21 \\left(- 0.149438132473599 \\sin{\\left(\\phi \\right)} \\sin{\\left(\\psi \\right)} \\sin{\\left(\\theta \\right)} - 0.988771077936042 \\sin{\\left(\\psi \\right)} \\cos{\\left(\\theta \\right)} + 0.149438132473599 \\cos{\\left(\\phi \\right)} \\cos{\\left(\\psi \\right)}\\right)}{8 \\left(0.149438132473599 \\sin{\\left(\\phi \\right)} \\sin{\\left(\\theta \\right)} \\cos{\\left(\\psi \\right)} + 0.149438132473599 \\sin{\\left(\\psi \\right)} \\cos{\\left(\\phi \\right)} + 0.988771077936042 \\cos{\\left(\\psi \\right)} \\cos{\\left(\\theta \\right)}\\right)}\\\\\\frac{21 \\left(- 0.149438132473599 \\sin{\\left(\\phi \\right)} \\cos{\\left(\\theta \\right)} + 0.988771077936042 \\sin{\\left(\\theta \\right)}\\right)}{8 \\left(0.149438132473599 \\sin{\\left(\\phi \\right)} \\sin{\\left(\\theta \\right)} \\cos{\\left(\\psi \\right)} + 0.149438132473599 \\sin{\\left(\\psi \\right)} \\cos{\\left(\\phi \\right)} + 0.988771077936042 \\cos{\\left(\\psi \\right)} \\cos{\\left(\\theta \\right)}\\right)}\\\\\\frac{21 \\left(0.149438132473599 \\sin{\\left(\\phi \\right)} \\cos{\\left(\\psi \\right)} + 0.149438132473599 \\sin{\\left(\\psi \\right)} \\sin{\\left(\\theta \\right)} \\cos{\\left(\\phi \\right)} - 0.988771077936042 \\sin{\\left(\\psi \\right)} \\cos{\\left(\\theta \\right)}\\right)}{8 \\left(0.149438132473599 \\sin{\\left(\\phi \\right)} \\sin{\\left(\\psi \\right)} - 0.149438132473599 \\sin{\\left(\\theta \\right)} \\cos{\\left(\\phi \\right)} \\cos{\\left(\\psi \\right)} + 0.988771077936042 \\cos{\\left(\\psi \\right)} \\cos{\\left(\\theta \\right)}\\right)}\\\\\\frac{21 \\left(0.988771077936042 \\sin{\\left(\\theta \\right)} + 0.149438132473599 \\cos{\\left(\\phi \\right)} \\cos{\\left(\\theta \\right)}\\right)}{8 \\left(0.149438132473599 \\sin{\\left(\\phi \\right)} \\sin{\\left(\\psi \\right)} - 0.149438132473599 \\sin{\\left(\\theta \\right)} \\cos{\\left(\\phi \\right)} \\cos{\\left(\\psi \\right)} + 0.988771077936042 \\cos{\\left(\\psi \\right)} \\cos{\\left(\\theta \\right)}\\right)}\\\\\\frac{21 \\left(0.198669330795061 \\sin{\\left(\\phi \\right)} \\sin{\\left(\\psi \\right)} \\sin{\\left(\\theta \\right)} - 0.980066577841242 \\sin{\\left(\\psi \\right)} \\cos{\\left(\\theta \\right)} - 0.198669330795061 \\cos{\\left(\\phi \\right)} \\cos{\\left(\\psi \\right)}\\right)}{8 \\left(- 0.198669330795061 \\sin{\\left(\\phi \\right)} \\sin{\\left(\\theta \\right)} \\cos{\\left(\\psi \\right)} - 0.198669330795061 \\sin{\\left(\\psi \\right)} \\cos{\\left(\\phi \\right)} + 0.980066577841242 \\cos{\\left(\\psi \\right)} \\cos{\\left(\\theta \\right)}\\right)}\\\\\\frac{21 \\left(0.198669330795061 \\sin{\\left(\\phi \\right)} \\cos{\\left(\\theta \\right)} + 0.980066577841242 \\sin{\\left(\\theta \\right)}\\right)}{8 \\left(- 0.198669330795061 \\sin{\\left(\\phi \\right)} \\sin{\\left(\\theta \\right)} \\cos{\\left(\\psi \\right)} - 0.198669330795061 \\sin{\\left(\\psi \\right)} \\cos{\\left(\\phi \\right)} + 0.980066577841242 \\cos{\\left(\\psi \\right)} \\cos{\\left(\\theta \\right)}\\right)}\\\\\\frac{21 \\left(- 0.198669330795061 \\sin{\\left(\\phi \\right)} \\cos{\\left(\\psi \\right)} - 0.198669330795061 \\sin{\\left(\\psi \\right)} \\sin{\\left(\\theta \\right)} \\cos{\\left(\\phi \\right)} - 0.980066577841242 \\sin{\\left(\\psi \\right)} \\cos{\\left(\\theta \\right)}\\right)}{8 \\left(- 0.198669330795061 \\sin{\\left(\\phi \\right)} \\sin{\\left(\\psi \\right)} + 0.198669330795061 \\sin{\\left(\\theta \\right)} \\cos{\\left(\\phi \\right)} \\cos{\\left(\\psi \\right)} + 0.980066577841242 \\cos{\\left(\\psi \\right)} \\cos{\\left(\\theta \\right)}\\right)}\\\\\\frac{21 \\left(0.980066577841242 \\sin{\\left(\\theta \\right)} - 0.198669330795061 \\cos{\\left(\\phi \\right)} \\cos{\\left(\\theta \\right)}\\right)}{8 \\left(- 0.198669330795061 \\sin{\\left(\\phi \\right)} \\sin{\\left(\\psi \\right)} + 0.198669330795061 \\sin{\\left(\\theta \\right)} \\cos{\\left(\\phi \\right)} \\cos{\\left(\\psi \\right)} + 0.980066577841242 \\cos{\\left(\\psi \\right)} \\cos{\\left(\\theta \\right)}\\right)}\\end{matrix}\\right]$"
     },
     "metadata": {},
     "execution_count": 16
    }
   ],
   "source": [
    "#Make G a combination of 3 stars with set position data\n",
    "alpha1 = 0.\n",
    "alpha2 = 0.15\n",
    "alpha3 = 0.\n",
    "alpha4 = -0.2\n",
    "alpha5 = 0.\n",
    "delta1 = 0.\n",
    "delta2 = 0.\n",
    "delta3 = 0.15\n",
    "delta4 = 0.\n",
    "delta5 = -0.2\n",
    "\n",
    "G = np.block([[g.subs([(alpha, alpha1), (delta, delta1)])],[g.subs([(alpha, alpha2), (delta, delta2)])],[g.subs([(alpha, alpha3), (delta, delta3)])],[g.subs([(alpha, alpha4), (delta, delta4)])],[g.subs([(alpha, alpha5), (delta, delta5)])]])\n",
    "G = sym.Matrix(G)\n",
    "G"
   ]
  },
  {
   "cell_type": "code",
   "execution_count": 17,
   "metadata": {},
   "outputs": [
    {
     "output_type": "execute_result",
     "data": {
      "text/plain": [
       "[[-0.0],\n",
       " [0.0],\n",
       " [0.3967299474030241],\n",
       " [0.0],\n",
       " [0.0],\n",
       " [0.3967299474030241],\n",
       " [-0.5321138432102644],\n",
       " [0.0],\n",
       " [-0.0],\n",
       " [-0.5321138432102644]]"
      ]
     },
     "metadata": {},
     "execution_count": 17
    }
   ],
   "source": [
    "# We also need to find the equilibrium value of this system and subtract that from z to get y\n",
    "G_num = sym.lambdify((phi, theta, psi),G)\n",
    "Geq = G_num(phi_e, theta_e, psi_e)\n",
    "Geq.tolist()"
   ]
  },
  {
   "cell_type": "code",
   "execution_count": 18,
   "metadata": {},
   "outputs": [
    {
     "output_type": "execute_result",
     "data": {
      "text/plain": [
       "[[0.0, 0.0, -2.625, 0.0, 0.0, 0.0],\n",
       " [0.0, 2.625, 0.0, 0.0, 0.0, 0.0],\n",
       " [0.0, 0.0, -2.684959867111012, 0.0, 0.0, 0.0],\n",
       " [-0.39672994740302475, 2.625, -0.0, 0.0, 0.0, 0.0],\n",
       " [0.3967299474030241, 0.0, -2.625, 0.0, 0.0, 0.0],\n",
       " [-0.0, 2.684959867111012, 0.0, 0.0, 0.0, 0.0],\n",
       " [0.0, 0.0, -2.732864816051809, 0.0, 0.0, 0.0],\n",
       " [0.5321138432102653, 2.625, 0.0, 0.0, 0.0, 0.0],\n",
       " [-0.5321138432102644, 0.0, -2.625, 0.0, 0.0, 0.0],\n",
       " [0.0, 2.732864816051809, -0.0, 0.0, 0.0, 0.0]]"
      ]
     },
     "metadata": {},
     "execution_count": 18
    }
   ],
   "source": [
    "#We now create a numerical function for C, that will then be evaluated at the equilibrium point\n",
    "C_num = sym.lambdify((phi, theta, psi), G.jacobian([phi, theta, psi, w_x, w_y, w_z]))\n",
    "C = C_num(phi_e, theta_e, psi_e)\n",
    "C.tolist()"
   ]
  },
  {
   "cell_type": "code",
   "execution_count": 19,
   "metadata": {},
   "outputs": [
    {
     "output_type": "execute_result",
     "data": {
      "text/plain": [
       "6"
      ]
     },
     "metadata": {},
     "execution_count": 19
    }
   ],
   "source": [
    "# We can check for the observability of this system\n",
    "Wo = C\n",
    "for i in range(1,n):\n",
    "    row = C @ np.linalg.matrix_power(A,i)\n",
    "    Wo = np.block([[Wo],[row]])\n",
    "rank = np.linalg.matrix_rank(Wo)\n",
    "rank\n",
    "# The rank of the system is the same as the number of states, so the system is observable.\n"
   ]
  },
  {
   "cell_type": "code",
   "execution_count": 20,
   "metadata": {},
   "outputs": [
    {
     "output_type": "execute_result",
     "data": {
      "text/plain": [
       "[[0.046022430575676704,\n",
       "  -0.04602243057567631,\n",
       "  0.04707366822194083,\n",
       "  -0.7979154886672061,\n",
       "  0.7979154886672052,\n",
       "  -0.04707366822194044,\n",
       "  0.047913554769315754,\n",
       "  0.9624537569246393,\n",
       "  -0.9624537569246373,\n",
       "  -0.04791355476931535],\n",
       " [-0.00044463884960331334,\n",
       "  0.5108369662979904,\n",
       "  -0.0004547952253498306,\n",
       "  0.517792576378618,\n",
       "  -0.0074002489302308905,\n",
       "  0.5225054297702266,\n",
       "  -0.00046290966397357974,\n",
       "  0.5015077577617996,\n",
       "  0.008884569686587431,\n",
       "  0.531827951213113],\n",
       " [-0.5108369662979906,\n",
       "  0.00044463884960331334,\n",
       "  -0.5225054297702267,\n",
       "  0.007400248930230962,\n",
       "  -0.5177925763786182,\n",
       "  0.0004547952253498306,\n",
       "  -0.5318279512131132,\n",
       "  -0.008884569686587527,\n",
       "  -0.5015077577617998,\n",
       "  0.00046290966397357974],\n",
       " [0.024392126532005717,\n",
       "  -0.024392126532005644,\n",
       "  0.02494928792835393,\n",
       "  -0.44874085148696674,\n",
       "  0.44874085148696613,\n",
       "  -0.024949287928353853,\n",
       "  0.025394432147810383,\n",
       "  0.5447653882340163,\n",
       "  -0.5447653882340153,\n",
       "  -0.025394432147810307],\n",
       " [-0.00022856549920162683,\n",
       "  0.4417360517141522,\n",
       "  -0.00023378635899526175,\n",
       "  0.4454225610764723,\n",
       "  -0.00391507486152177,\n",
       "  0.4518261221746946,\n",
       "  -0.00023795756606912144,\n",
       "  0.43679152287871736,\n",
       "  0.004715963336233194,\n",
       "  0.4598875861757139],\n",
       " [-0.4417360517141519,\n",
       "  0.00022856549920139327,\n",
       "  -0.45182612217469426,\n",
       "  0.003915074861521616,\n",
       "  -0.44542256107647216,\n",
       "  0.00023378635899502285,\n",
       "  -0.45988758617571357,\n",
       "  -0.004715963336233535,\n",
       "  -0.436791522878717,\n",
       "  0.00023795756606887828]]"
      ]
     },
     "metadata": {},
     "execution_count": 20
    }
   ],
   "source": [
    "# Designing an optimal controller\n",
    "Qo = np.diag(2*np.ones(2*5)) # (2n)x(2n) for an n star system\n",
    "Ro = np.diag([1.,1.,1.,1.,1.,1.])\n",
    "\n",
    "L = lqr(A.T, C.T, linalg.inv(Ro), linalg.inv(Qo)).T\n",
    "L.tolist()"
   ]
  },
  {
   "cell_type": "code",
   "execution_count": 21,
   "metadata": {},
   "outputs": [
    {
     "output_type": "execute_result",
     "data": {
      "text/plain": [
       "(6, 1)"
      ]
     },
     "metadata": {},
     "execution_count": 21
    }
   ],
   "source": [
    "#Testing dimensions:\n",
    "xhat = np.array([[1.],[1.],[1.],[1.],[1.],[1.]])\n",
    "u = -K@xhat\n",
    "y = np.array([[1.],[1.],[1.],[1.],[1.],[1.]])\n",
    "dt = 0.01\n",
    "K = np.array([[-0.7071067811865472,-1.4320649817540778e-17,-0.5000000000000002,-3.7404423656713486,1.1761215787852632e-15,-2.635949485645772],\n",
    " [0.7071067811865474,1.9075460782530832e-16,-0.5000000000000004,3.7404423656713495,1.8131019980329334e-15,-2.635949485645773],\n",
    " [-8.784652695069288e-17,-0.7071067811865496,-0.49999999999999983,-4.6119312947957745e-17,-3.740442365671356,-2.6359494856457704],\n",
    " [1.582246864518315e-16,0.7071067811865498,-0.5000000000000008,5.908611062997123e-16,3.740442365671359,-2.635949485645775]])\n",
    "L = np.array([[-0.6265409212125154,0.6265409212125155,-0.6408522775460442,-1.3663913490000046, 1.3663913490000013,  0.6408522775460445], [-0.030420579222051578,0.7171391895243168,-0.03111544165542081,0.6224467907744181,0.06427181952784691,0.7335199782877365], [-0.7171391895243172,0.030420579222051578,-0.733519978287737,-0.06427181952784705,-0.6224467907744188,0.03111544165542081],[-0.2568689610310343, 0.2568689610310346,-0.2627363243713636,-0.6041423348141238,0.6041423348141227,0.262736324371364],[-0.012163724509962885,0.5851185797352603,-0.012441566530988536,0.5462966332974272,0.026658221927870183,0.5984837729867308],[-0.5851185797352606,0.01216372450996261,-0.5984837729867313,-0.026658221927870353,-0.5462966332974277,0.012441566530988254]])\n",
    "A = np.array([[0.0, 0.0, 0.0, 1.0, -0.0, 0.0],[0.0, 0.0, 0.0, 0.0, 1.0, 0.0],[0.0, 0.0, 0.0, -0.0, 0.0, 1.0],[0.0, 0.0, 0.0, 0.0, -0.0, -0.0], [0.0, 0.0, 0.0, 0.0, 0.0, 0.0], [0.0, 0.0, 0.0, 0.0, 0.0, 0.0]])\n",
    "C = np.array([[0.0, 0.0, -2.625, 0.0, 0.0, 0.0],[0.0, 2.625, 0.0, 0.0, 0.0, 0.0],[0.0, 0.0, -2.684959867111012, 0.0, 0.0, 0.0],\n",
    " [-0.39672994740302475, 2.625, -0.0, 0.0, 0.0, 0.0],[0.3967299474030241, 0.0, -2.625, 0.0, 0.0, 0.0],[-0.0, 2.684959867111012, 0.0, 0.0, 0.0, 0.0]])\n",
    "B = np.array([[0.0, 0.0, 0.0, 0.0],[0.0, 0.0, 0.0, 0.0],[0.0, 0.0, 0.0, 0.0],[-0.052413575424878865, 0.052413575424878865, 0.0, 0.0],[0.0, 0.0,-0.052413575424878865,0.052413575424878865],[-0.03732329459238015,-0.03732329459238015,-0.03732329459238015,-0.03732329459238015]])\n",
    "Geq = np.array([[-0.0], [0.0], [0.3967299474030241], [0.0], [0.0], [0.3967299474030241]])\n",
    "p = [[0.0, 1.0, 2.0, 3.0, 4.0, 5.0]]\n",
    "z = np.array(p).T\n",
    "y = np.array(z - Geq)\n",
    "#Test += dt * (A @ xhat + B @ u - L @ (C@xhat  - y))\n",
    "#Test\n",
    "y.shape"
   ]
  },
  {
   "cell_type": "code",
   "execution_count": 22,
   "metadata": {},
   "outputs": [
    {
     "output_type": "execute_result",
     "data": {
      "text/plain": [
       "array([[0.],\n",
       "       [1.],\n",
       "       [2.],\n",
       "       [3.],\n",
       "       [4.],\n",
       "       [5.]])"
      ]
     },
     "metadata": {},
     "execution_count": 22
    }
   ],
   "source": [
    "p = [0.0, 1.0, 2.0, 3.0, 4.0, 5.0]\n",
    "z = np.array([p]).T\n",
    "z"
   ]
  }
 ]
}