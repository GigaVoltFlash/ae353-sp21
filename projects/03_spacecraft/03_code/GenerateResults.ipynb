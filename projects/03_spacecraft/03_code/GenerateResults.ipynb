{
 "metadata": {
  "language_info": {
   "codemirror_mode": {
    "name": "ipython",
    "version": 3
   },
   "file_extension": ".py",
   "mimetype": "text/x-python",
   "name": "python",
   "nbconvert_exporter": "python",
   "pygments_lexer": "ipython3",
   "version": "3.9.1-final"
  },
  "orig_nbformat": 2,
  "kernelspec": {
   "name": "python391jvsc74a57bd03707160b982f1f10a85ea1c67ea35aa941c037d0e03bc0fc649503b13cc8856a",
   "display_name": "Python 3.9.1 64-bit ('ae353-bullet': conda)"
  }
 },
 "nbformat": 4,
 "nbformat_minor": 2,
 "cells": [
  {
   "source": [
    "# Spacecraft with reaction wheels and star tracker"
   ],
   "cell_type": "markdown",
   "metadata": {}
  },
  {
   "source": [
    "Abstract: The goal of this project is to design, implement and test a controller that controls the four reaction wheels of a satellite to maintain its initial attitude, and an observer that collects data on the position of stars and estimates the state vector of the system. This report will discuss the design process, features and shortcomings of the controller and the observer. All the simulations are designed and run in this Jupyter notebook environment."
   ],
   "cell_type": "markdown",
   "metadata": {}
  },
  {
   "source": [
    "Import modules and configure the notebook."
   ],
   "cell_type": "markdown",
   "metadata": {}
  },
  {
   "cell_type": "code",
   "execution_count": 1,
   "metadata": {},
   "outputs": [
    {
     "output_type": "execute_result",
     "data": {
      "text/plain": [
       "<module 'ae353_spacecraft' from 'c:\\\\Users\\\\anshu\\\\Desktop\\\\Class Materials\\\\AE 353 Git\\\\ae353-sp21\\\\projects\\\\03_spacecraft\\\\03_code\\\\ae353_spacecraft.py'>"
      ]
     },
     "metadata": {},
     "execution_count": 1
    }
   ],
   "source": [
    "# This module is part of the python standard library\n",
    "import time\n",
    "\n",
    "# These modules are part of other existing libraries\n",
    "import numpy as np\n",
    "import matplotlib.pyplot as plt\n",
    "from scipy import linalg\n",
    "import sympy as sym\n",
    "\n",
    "# This is my own script (it is an interface to the pybullet simulator)\n",
    "import ae353_spacecraft\n",
    "\n",
    "# I often go back and forth between making changes to my scripts and to\n",
    "# the notebook in which they are used. One \"gotcha\" is that notebooks only\n",
    "# import modules or scripts ONCE. Subsequent imports don't do anything, and\n",
    "# in particular won't reflect any changes I've made to my scripts. To make\n",
    "# sure that I'm working with the latest version of my code, I use this bit\n",
    "# of magic, which forces the notebook to \"reload\" my script:\n",
    "import importlib\n",
    "importlib.reload(ae353_spacecraft)"
   ]
  },
  {
   "source": [
    "## Deriving the equations of motion of the controller\n",
    "\n",
    "First, we work on the controller design. The next few cells derive the equations of motion using symbolic math. This can slow down the notebook as a whole, and so these sections are commented out unless necessary."
   ],
   "cell_type": "markdown",
   "metadata": {}
  },
  {
   "cell_type": "code",
   "execution_count": 2,
   "metadata": {},
   "outputs": [],
   "source": [
    "mb = 6.\n",
    "Jxb = 10.\n",
    "Jyb = 10.\n",
    "Jzb = 16.\n",
    "\n",
    "mw = 1.\n",
    "Jxw = 0.075\n",
    "Jyw = 0.075\n",
    "Jzw = 0.125\n",
    "lw = 1.1\n",
    "\n",
    "# roll, pitch, yaw angles\n",
    "phi, theta, psi = sym.symbols('phi, theta, psi')\n",
    "\n",
    "# angular velocities\n",
    "w_x, w_y, w_z = sym.symbols('w_x, w_y, w_z')\n",
    "\n",
    "# torques\n",
    "tau_1, tau_2, tau_3, tau_4 = sym.symbols('tau_1, tau_2, tau_3, tau_4')\n",
    "\n",
    "# resultant torques\n",
    "lt = sym.nsimplify(lw) * sym.sqrt(2) / 2\n",
    "T1 = - tau_1 * sym.Matrix([[lt], [0], [lt]])\n",
    "T2 = - tau_2 * sym.Matrix([[-lt], [0], [lt]])\n",
    "T3 = - tau_3 * sym.Matrix([[0], [lt], [lt]])\n",
    "T4 = - tau_4 * sym.Matrix([[0], [-lt], [lt]])\n",
    "T = T1 + T2 + T3 + T4\n",
    "\n",
    "# parameters\n",
    "Jx = sym.nsimplify(Jxb + 4 * mw * lw**2)\n",
    "Jy = sym.nsimplify(Jyb + 4 * mw * lw**2)\n",
    "Jz = sym.nsimplify(Jzb + 4 * mw * lw**2)\n",
    "\n",
    "# rotation matrices\n",
    "Rx = sym.Matrix([[1, 0, 0], [0, sym.cos(phi), -sym.sin(phi)], [0, sym.sin(phi), sym.cos(phi)]])\n",
    "Ry = sym.Matrix([[sym.cos(theta), 0, sym.sin(theta)], [0, 1, 0], [-sym.sin(theta), 0, sym.cos(theta)]])\n",
    "Rz = sym.Matrix([[sym.cos(psi), -sym.sin(psi), 0], [sym.sin(psi), sym.cos(psi), 0], [0, 0, 1]])\n",
    "\n",
    "# angular velocity to angular rates\n",
    "ex = sym.Matrix([[1], [0], [0]])\n",
    "ey = sym.Matrix([[0], [1], [0]])\n",
    "ez = sym.Matrix([[0], [0], [1]])\n",
    "M = sym.simplify(sym.Matrix.hstack((Ry * Rz).T * ex, Rz.T * ey, ez).inv(), full=True)\n",
    "\n",
    "# euler's equations\n",
    "euler = sym.Matrix([[(1 / Jx) * (T[0] + (Jy - Jz) * w_y * w_z)],\n",
    "                   [(1 / Jy) * (T[1] + (Jz - Jx) * w_z * w_x)],\n",
    "                   [(1 / Jz) * (T[2] + (Jx - Jy) * w_x * w_y)]])\n",
    "\n",
    "# equations of motion\n",
    "f = sym.simplify(sym.Matrix.vstack(M * sym.Matrix([[w_x], [w_y], [w_z]]), euler), full=True)"
   ]
  },
  {
   "cell_type": "code",
   "execution_count": 3,
   "metadata": {},
   "outputs": [
    {
     "output_type": "execute_result",
     "data": {
      "text/plain": [
       "Matrix([\n",
       "[                        (w_x*cos(psi) - w_y*sin(psi))/cos(theta)],\n",
       "[                                     w_x*sin(psi) + w_y*cos(psi)],\n",
       "[        -w_x*cos(psi)*tan(theta) + w_y*sin(psi)*tan(theta) + w_z],\n",
       "[-55*sqrt(2)*tau_1/1484 + 55*sqrt(2)*tau_2/1484 - 150*w_y*w_z/371],\n",
       "[-55*sqrt(2)*tau_3/1484 + 55*sqrt(2)*tau_4/1484 + 150*w_x*w_z/371],\n",
       "[                -55*sqrt(2)*(tau_1 + tau_2 + tau_3 + tau_4)/2084]])"
      ],
      "text/latex": "$\\displaystyle \\left[\\begin{matrix}\\frac{w_{x} \\cos{\\left(\\psi \\right)} - w_{y} \\sin{\\left(\\psi \\right)}}{\\cos{\\left(\\theta \\right)}}\\\\w_{x} \\sin{\\left(\\psi \\right)} + w_{y} \\cos{\\left(\\psi \\right)}\\\\- w_{x} \\cos{\\left(\\psi \\right)} \\tan{\\left(\\theta \\right)} + w_{y} \\sin{\\left(\\psi \\right)} \\tan{\\left(\\theta \\right)} + w_{z}\\\\- \\frac{55 \\sqrt{2} \\tau_{1}}{1484} + \\frac{55 \\sqrt{2} \\tau_{2}}{1484} - \\frac{150 w_{y} w_{z}}{371}\\\\- \\frac{55 \\sqrt{2} \\tau_{3}}{1484} + \\frac{55 \\sqrt{2} \\tau_{4}}{1484} + \\frac{150 w_{x} w_{z}}{371}\\\\- \\frac{55 \\sqrt{2} \\left(\\tau_{1} + \\tau_{2} + \\tau_{3} + \\tau_{4}\\right)}{2084}\\end{matrix}\\right]$"
     },
     "metadata": {},
     "execution_count": 3
    }
   ],
   "source": [
    "f"
   ]
  },
  {
   "cell_type": "code",
   "execution_count": 4,
   "metadata": {},
   "outputs": [],
   "source": [
    "# Make f an executable function\n",
    "f_num = sym.lambdify((phi, theta, psi, w_x, w_y, w_z,tau_1, tau_2, tau_3, tau_4),f)"
   ]
  },
  {
   "cell_type": "code",
   "execution_count": 5,
   "metadata": {},
   "outputs": [],
   "source": [
    "#Equilibrium values. For our system, these are all zero\n",
    "\n",
    "phi_e = 0\n",
    "theta_e = 0\n",
    "psi_e = 0\n",
    "w_x_e = 0\n",
    "w_y_e = 0\n",
    "w_z_e = 0\n",
    "tau_1_e = 0\n",
    "tau_2_e = 0\n",
    "tau_3_e = 0\n",
    "tau_4_e = 0"
   ]
  },
  {
   "cell_type": "code",
   "execution_count": 6,
   "metadata": {},
   "outputs": [],
   "source": [
    "# We can then check the equilibrium value of the \n",
    "feq = f_num(phi_e, theta_e\n",
    ", psi_e\n",
    ", w_x_e\n",
    ", w_y_e\n",
    ", w_z_e\n",
    ", tau_1_e\n",
    ", tau_2_e\n",
    ", tau_3_e\n",
    ", tau_4_e)"
   ]
  },
  {
   "source": [
    "## Linearizing the system\n",
    "This is mainly for the first equation in the state space model. The second equation we'll get to when designing the observer\n",
    "$$\\dot{x} = Ax + Bu$$"
   ],
   "cell_type": "markdown",
   "metadata": {}
  },
  {
   "cell_type": "code",
   "execution_count": 7,
   "metadata": {},
   "outputs": [],
   "source": [
    "# Now we linearize our system about the equilibrium point\n",
    "# Linearizing the system\n",
    "\n",
    "#Now we find the Jacobians\n",
    "f_jacob_x = f.jacobian([phi, theta, psi, w_x, w_y, w_z])\n",
    "f_jacob_u = f.jacobian([tau_1, tau_2, tau_3, tau_4])\n",
    "\n",
    "#And then we find functions for A and B using this jacobian\n",
    "A_num = sym.lambdify((phi, theta, psi, w_x, w_y, w_z,tau_1, tau_2, tau_3, tau_4),f_jacob_x)\n",
    "B_num = sym.lambdify((phi, theta, psi, w_x, w_y, w_z,tau_1, tau_2, tau_3, tau_4),f_jacob_u)\n",
    "\n",
    "#Finally, we find the linearized state space model by evaluating A_num and B_num at the equilibrium points\n",
    "A = A_num(phi_e, theta_e, psi_e, w_x_e, w_y_e, w_z_e,tau_1_e, tau_2_e, tau_3_e, tau_4_e).astype(float)\n",
    "B = B_num(phi_e, theta_e, psi_e, w_x_e, w_y_e, w_z_e,tau_1_e, tau_2_e, tau_3_e, tau_4_e).astype(float)\n"
   ]
  },
  {
   "cell_type": "code",
   "execution_count": 8,
   "metadata": {},
   "outputs": [
    {
     "output_type": "execute_result",
     "data": {
      "text/plain": [
       "array([[ 0.,  0.,  0.,  1., -0.,  0.],\n",
       "       [ 0.,  0.,  0.,  0.,  1.,  0.],\n",
       "       [ 0.,  0.,  0., -0.,  0.,  1.],\n",
       "       [ 0.,  0.,  0.,  0., -0., -0.],\n",
       "       [ 0.,  0.,  0.,  0.,  0.,  0.],\n",
       "       [ 0.,  0.,  0.,  0.,  0.,  0.]])"
      ]
     },
     "metadata": {},
     "execution_count": 8
    }
   ],
   "source": [
    "A"
   ]
  },
  {
   "cell_type": "code",
   "execution_count": 9,
   "metadata": {},
   "outputs": [
    {
     "output_type": "execute_result",
     "data": {
      "text/plain": [
       "array([[ 0.        ,  0.        ,  0.        ,  0.        ],\n",
       "       [ 0.        ,  0.        ,  0.        ,  0.        ],\n",
       "       [ 0.        ,  0.        ,  0.        ,  0.        ],\n",
       "       [-0.05241358,  0.05241358,  0.        ,  0.        ],\n",
       "       [ 0.        ,  0.        , -0.05241358,  0.05241358],\n",
       "       [-0.03732329, -0.03732329, -0.03732329, -0.03732329]])"
      ]
     },
     "metadata": {},
     "execution_count": 9
    }
   ],
   "source": [
    "B"
   ]
  },
  {
   "source": [
    "## Checking for controllability\n",
    "We need to make sure that this system we've chosen is controllable. To do this, we calculate the controllability matrix $W$"
   ],
   "cell_type": "markdown",
   "metadata": {}
  },
  {
   "cell_type": "code",
   "execution_count": 10,
   "metadata": {},
   "outputs": [],
   "source": [
    "## Checking for controllability\n",
    "# Find the number of states\n",
    "n = A.shape[0]\n",
    "\n",
    "# Initialize W with its first column\n",
    "Wc = B\n",
    "\n",
    "# Create W one column at a time by iterating over i from 1 to n-1\n",
    "for i in range(1, n):\n",
    "    col = np.linalg.matrix_power(A, i) @ B\n",
    "    Wc = np.block([Wc, col])"
   ]
  },
  {
   "cell_type": "code",
   "execution_count": 11,
   "metadata": {},
   "outputs": [
    {
     "output_type": "stream",
     "name": "stdout",
     "text": [
      "6\n(6, 24)\n"
     ]
    }
   ],
   "source": [
    "# What about the rank?\n",
    "print(np.linalg.matrix_rank(Wc))\n",
    "print(Wc.shape)"
   ]
  },
  {
   "source": [
    "The controllability matrix is full rank, so the system is controllable"
   ],
   "cell_type": "markdown",
   "metadata": {}
  },
  {
   "source": [
    "## LQR design for the controller"
   ],
   "cell_type": "markdown",
   "metadata": {}
  },
  {
   "cell_type": "code",
   "execution_count": 12,
   "metadata": {},
   "outputs": [],
   "source": [
    "Qc = np.diag([0.5,1.,1.,0.25,0.4,0.4]) #Roll, pitch, yaw, omegax, omegay, omegaz\n",
    "Rc = np.diag([1.,1.,1.,1.]) #Tau 1 to tau 4\n",
    "# We can also define an LQR function in the following way:\n",
    "def lqr(A,B,Q,R):\n",
    "    P = linalg.solve_continuous_are(A,B,Q,R)\n",
    "    K = linalg.inv(R) @ B.T @ P\n",
    "    return K\n",
    "# The function above can be used for both controller and observer design\n",
    "K = lqr(A,B,Qc,Rc)"
   ]
  },
  {
   "cell_type": "code",
   "execution_count": 13,
   "metadata": {},
   "outputs": [
    {
     "output_type": "stream",
     "name": "stdout",
     "text": [
      "[ True  True  True  True  True  True]\n"
     ]
    }
   ],
   "source": [
    "F = A - B@K\n",
    "s = linalg.eigvals(F)\n",
    "print(s.real < 0) ## Stable"
   ]
  },
  {
   "source": [
    "## Deriving Equations of Motion for Observer\n",
    "\n",
    "Now that the controller is designed, we need to work on the design of the observer. This depends on the number of stars used. For now, we'll use 5 stars. "
   ],
   "cell_type": "markdown",
   "metadata": {}
  },
  {
   "cell_type": "code",
   "execution_count": 14,
   "metadata": {},
   "outputs": [],
   "source": [
    "# Now we work on the Observer\n",
    "alpha, delta = sym.symbols('alpha, delta')\n",
    "# Scope radius\n",
    "r = 0.8 / 2.1\n",
    "# Position of star in space frame\n",
    "p_star_in_space = sym.Matrix([[sym.cos(alpha) * sym.cos(delta)],\n",
    "                              [sym.sin(alpha) * sym.cos(delta)],\n",
    "                              [sym.sin(delta)]])\n",
    "\n",
    "# Orientation of body frame in space frame\n",
    "R_body_in_space = Rx * Ry * Rz\n",
    "\n",
    "# Position of star in body frame (assuming origin of body and space frames are the same)\n",
    "p_star_in_body = R_body_in_space.T * p_star_in_space\n",
    "\n",
    "# Position of star in image frame\n",
    "p_star_in_image = (1 / sym.nsimplify(r)) * sym.Matrix([[p_star_in_body[1] / p_star_in_body[0]],\n",
    "                                                       [p_star_in_body[2] / p_star_in_body[0]]])\n",
    "\n",
    "# Sensor model for each star\n",
    "g = sym.simplify(p_star_in_image, full=True)"
   ]
  },
  {
   "source": [
    "Below we can see how the equations of motion look for a single star"
   ],
   "cell_type": "markdown",
   "metadata": {}
  },
  {
   "cell_type": "code",
   "execution_count": 15,
   "metadata": {},
   "outputs": [
    {
     "output_type": "execute_result",
     "data": {
      "text/plain": [
       "Matrix([\n",
       "[21*((sin(phi)*cos(psi) + sin(psi)*sin(theta)*cos(phi))*sin(delta) - (sin(phi)*sin(psi)*sin(theta) - cos(phi)*cos(psi))*sin(alpha)*cos(delta) - sin(psi)*cos(alpha)*cos(delta)*cos(theta))/(8*((sin(phi)*sin(psi) - sin(theta)*cos(phi)*cos(psi))*sin(delta) + (sin(phi)*sin(theta)*cos(psi) + sin(psi)*cos(phi))*sin(alpha)*cos(delta) + cos(alpha)*cos(delta)*cos(psi)*cos(theta)))],\n",
       "[                                                                      21*(-sin(alpha)*sin(phi)*cos(delta)*cos(theta) + sin(delta)*cos(phi)*cos(theta) + sin(theta)*cos(alpha)*cos(delta))/(8*((sin(phi)*sin(psi) - sin(theta)*cos(phi)*cos(psi))*sin(delta) + (sin(phi)*sin(theta)*cos(psi) + sin(psi)*cos(phi))*sin(alpha)*cos(delta) + cos(alpha)*cos(delta)*cos(psi)*cos(theta)))]])"
      ],
      "text/latex": "$\\displaystyle \\left[\\begin{matrix}\\frac{21 \\left(\\left(\\sin{\\left(\\phi \\right)} \\cos{\\left(\\psi \\right)} + \\sin{\\left(\\psi \\right)} \\sin{\\left(\\theta \\right)} \\cos{\\left(\\phi \\right)}\\right) \\sin{\\left(\\delta \\right)} - \\left(\\sin{\\left(\\phi \\right)} \\sin{\\left(\\psi \\right)} \\sin{\\left(\\theta \\right)} - \\cos{\\left(\\phi \\right)} \\cos{\\left(\\psi \\right)}\\right) \\sin{\\left(\\alpha \\right)} \\cos{\\left(\\delta \\right)} - \\sin{\\left(\\psi \\right)} \\cos{\\left(\\alpha \\right)} \\cos{\\left(\\delta \\right)} \\cos{\\left(\\theta \\right)}\\right)}{8 \\left(\\left(\\sin{\\left(\\phi \\right)} \\sin{\\left(\\psi \\right)} - \\sin{\\left(\\theta \\right)} \\cos{\\left(\\phi \\right)} \\cos{\\left(\\psi \\right)}\\right) \\sin{\\left(\\delta \\right)} + \\left(\\sin{\\left(\\phi \\right)} \\sin{\\left(\\theta \\right)} \\cos{\\left(\\psi \\right)} + \\sin{\\left(\\psi \\right)} \\cos{\\left(\\phi \\right)}\\right) \\sin{\\left(\\alpha \\right)} \\cos{\\left(\\delta \\right)} + \\cos{\\left(\\alpha \\right)} \\cos{\\left(\\delta \\right)} \\cos{\\left(\\psi \\right)} \\cos{\\left(\\theta \\right)}\\right)}\\\\\\frac{21 \\left(- \\sin{\\left(\\alpha \\right)} \\sin{\\left(\\phi \\right)} \\cos{\\left(\\delta \\right)} \\cos{\\left(\\theta \\right)} + \\sin{\\left(\\delta \\right)} \\cos{\\left(\\phi \\right)} \\cos{\\left(\\theta \\right)} + \\sin{\\left(\\theta \\right)} \\cos{\\left(\\alpha \\right)} \\cos{\\left(\\delta \\right)}\\right)}{8 \\left(\\left(\\sin{\\left(\\phi \\right)} \\sin{\\left(\\psi \\right)} - \\sin{\\left(\\theta \\right)} \\cos{\\left(\\phi \\right)} \\cos{\\left(\\psi \\right)}\\right) \\sin{\\left(\\delta \\right)} + \\left(\\sin{\\left(\\phi \\right)} \\sin{\\left(\\theta \\right)} \\cos{\\left(\\psi \\right)} + \\sin{\\left(\\psi \\right)} \\cos{\\left(\\phi \\right)}\\right) \\sin{\\left(\\alpha \\right)} \\cos{\\left(\\delta \\right)} + \\cos{\\left(\\alpha \\right)} \\cos{\\left(\\delta \\right)} \\cos{\\left(\\psi \\right)} \\cos{\\left(\\theta \\right)}\\right)}\\end{matrix}\\right]$"
     },
     "metadata": {},
     "execution_count": 15
    }
   ],
   "source": [
    "g"
   ]
  },
  {
   "source": [
    "Now we can have multiple copies of these equations of motion to get the full set.\n"
   ],
   "cell_type": "markdown",
   "metadata": {}
  },
  {
   "cell_type": "code",
   "execution_count": 16,
   "metadata": {},
   "outputs": [
    {
     "output_type": "execute_result",
     "data": {
      "text/plain": [
       "Matrix([\n",
       "[                                                                                                                                                                                                                                                                                                                                                                                                                           -21*sin(psi)/(8*cos(psi))],\n",
       "[                                                                                                                                                                                                                                                                                                                                                                                                               21*sin(theta)/(8*cos(psi)*cos(theta))],\n",
       "[                                                                                                                                                                               21*(-0.149438132473599*sin(phi)*sin(psi)*sin(theta) - 0.988771077936042*sin(psi)*cos(theta) + 0.149438132473599*cos(phi)*cos(psi))/(8*(0.149438132473599*sin(phi)*sin(theta)*cos(psi) + 0.149438132473599*sin(psi)*cos(phi) + 0.988771077936042*cos(psi)*cos(theta)))],\n",
       "[                                                                                                                                                                                                                                       21*(-0.149438132473599*sin(phi)*cos(theta) + 0.988771077936042*sin(theta))/(8*(0.149438132473599*sin(phi)*sin(theta)*cos(psi) + 0.149438132473599*sin(psi)*cos(phi) + 0.988771077936042*cos(psi)*cos(theta)))],\n",
       "[                                                                                                                                                                                21*(0.149438132473599*sin(phi)*cos(psi) + 0.149438132473599*sin(psi)*sin(theta)*cos(phi) - 0.988771077936042*sin(psi)*cos(theta))/(8*(0.149438132473599*sin(phi)*sin(psi) - 0.149438132473599*sin(theta)*cos(phi)*cos(psi) + 0.988771077936042*cos(psi)*cos(theta)))],\n",
       "[                                                                                                                                                                                                                                        21*(0.988771077936042*sin(theta) + 0.149438132473599*cos(phi)*cos(theta))/(8*(0.149438132473599*sin(phi)*sin(psi) - 0.149438132473599*sin(theta)*cos(phi)*cos(psi) + 0.988771077936042*cos(psi)*cos(theta)))],\n",
       "[                                                                                                                                                                               21*(0.198669330795061*sin(phi)*sin(psi)*sin(theta) - 0.980066577841242*sin(psi)*cos(theta) - 0.198669330795061*cos(phi)*cos(psi))/(8*(-0.198669330795061*sin(phi)*sin(theta)*cos(psi) - 0.198669330795061*sin(psi)*cos(phi) + 0.980066577841242*cos(psi)*cos(theta)))],\n",
       "[                                                                                                                                                                                                                                       21*(0.198669330795061*sin(phi)*cos(theta) + 0.980066577841242*sin(theta))/(8*(-0.198669330795061*sin(phi)*sin(theta)*cos(psi) - 0.198669330795061*sin(psi)*cos(phi) + 0.980066577841242*cos(psi)*cos(theta)))],\n",
       "[21*(-0.289629477625516*sin(phi)*sin(psi)*sin(theta) - 0.198669330795061*sin(phi)*cos(psi) - 0.198669330795061*sin(psi)*sin(theta)*cos(phi) - 0.936293363584199*sin(psi)*cos(theta) + 0.289629477625516*cos(phi)*cos(psi))/(8*(-0.198669330795061*sin(phi)*sin(psi) + 0.289629477625516*sin(phi)*sin(theta)*cos(psi) + 0.289629477625516*sin(psi)*cos(phi) + 0.198669330795061*sin(theta)*cos(phi)*cos(psi) + 0.936293363584199*cos(psi)*cos(theta)))],\n",
       "[                                                                                                       21*(-0.289629477625516*sin(phi)*cos(theta) + 0.936293363584199*sin(theta) - 0.198669330795061*cos(phi)*cos(theta))/(8*(-0.198669330795061*sin(phi)*sin(psi) + 0.289629477625516*sin(phi)*sin(theta)*cos(psi) + 0.289629477625516*sin(psi)*cos(phi) + 0.198669330795061*sin(theta)*cos(phi)*cos(psi) + 0.936293363584199*cos(psi)*cos(theta)))]])"
      ],
      "text/latex": "$\\displaystyle \\left[\\begin{matrix}- \\frac{21 \\sin{\\left(\\psi \\right)}}{8 \\cos{\\left(\\psi \\right)}}\\\\\\frac{21 \\sin{\\left(\\theta \\right)}}{8 \\cos{\\left(\\psi \\right)} \\cos{\\left(\\theta \\right)}}\\\\\\frac{21 \\left(- 0.149438132473599 \\sin{\\left(\\phi \\right)} \\sin{\\left(\\psi \\right)} \\sin{\\left(\\theta \\right)} - 0.988771077936042 \\sin{\\left(\\psi \\right)} \\cos{\\left(\\theta \\right)} + 0.149438132473599 \\cos{\\left(\\phi \\right)} \\cos{\\left(\\psi \\right)}\\right)}{8 \\left(0.149438132473599 \\sin{\\left(\\phi \\right)} \\sin{\\left(\\theta \\right)} \\cos{\\left(\\psi \\right)} + 0.149438132473599 \\sin{\\left(\\psi \\right)} \\cos{\\left(\\phi \\right)} + 0.988771077936042 \\cos{\\left(\\psi \\right)} \\cos{\\left(\\theta \\right)}\\right)}\\\\\\frac{21 \\left(- 0.149438132473599 \\sin{\\left(\\phi \\right)} \\cos{\\left(\\theta \\right)} + 0.988771077936042 \\sin{\\left(\\theta \\right)}\\right)}{8 \\left(0.149438132473599 \\sin{\\left(\\phi \\right)} \\sin{\\left(\\theta \\right)} \\cos{\\left(\\psi \\right)} + 0.149438132473599 \\sin{\\left(\\psi \\right)} \\cos{\\left(\\phi \\right)} + 0.988771077936042 \\cos{\\left(\\psi \\right)} \\cos{\\left(\\theta \\right)}\\right)}\\\\\\frac{21 \\left(0.149438132473599 \\sin{\\left(\\phi \\right)} \\cos{\\left(\\psi \\right)} + 0.149438132473599 \\sin{\\left(\\psi \\right)} \\sin{\\left(\\theta \\right)} \\cos{\\left(\\phi \\right)} - 0.988771077936042 \\sin{\\left(\\psi \\right)} \\cos{\\left(\\theta \\right)}\\right)}{8 \\left(0.149438132473599 \\sin{\\left(\\phi \\right)} \\sin{\\left(\\psi \\right)} - 0.149438132473599 \\sin{\\left(\\theta \\right)} \\cos{\\left(\\phi \\right)} \\cos{\\left(\\psi \\right)} + 0.988771077936042 \\cos{\\left(\\psi \\right)} \\cos{\\left(\\theta \\right)}\\right)}\\\\\\frac{21 \\left(0.988771077936042 \\sin{\\left(\\theta \\right)} + 0.149438132473599 \\cos{\\left(\\phi \\right)} \\cos{\\left(\\theta \\right)}\\right)}{8 \\left(0.149438132473599 \\sin{\\left(\\phi \\right)} \\sin{\\left(\\psi \\right)} - 0.149438132473599 \\sin{\\left(\\theta \\right)} \\cos{\\left(\\phi \\right)} \\cos{\\left(\\psi \\right)} + 0.988771077936042 \\cos{\\left(\\psi \\right)} \\cos{\\left(\\theta \\right)}\\right)}\\\\\\frac{21 \\left(0.198669330795061 \\sin{\\left(\\phi \\right)} \\sin{\\left(\\psi \\right)} \\sin{\\left(\\theta \\right)} - 0.980066577841242 \\sin{\\left(\\psi \\right)} \\cos{\\left(\\theta \\right)} - 0.198669330795061 \\cos{\\left(\\phi \\right)} \\cos{\\left(\\psi \\right)}\\right)}{8 \\left(- 0.198669330795061 \\sin{\\left(\\phi \\right)} \\sin{\\left(\\theta \\right)} \\cos{\\left(\\psi \\right)} - 0.198669330795061 \\sin{\\left(\\psi \\right)} \\cos{\\left(\\phi \\right)} + 0.980066577841242 \\cos{\\left(\\psi \\right)} \\cos{\\left(\\theta \\right)}\\right)}\\\\\\frac{21 \\left(0.198669330795061 \\sin{\\left(\\phi \\right)} \\cos{\\left(\\theta \\right)} + 0.980066577841242 \\sin{\\left(\\theta \\right)}\\right)}{8 \\left(- 0.198669330795061 \\sin{\\left(\\phi \\right)} \\sin{\\left(\\theta \\right)} \\cos{\\left(\\psi \\right)} - 0.198669330795061 \\sin{\\left(\\psi \\right)} \\cos{\\left(\\phi \\right)} + 0.980066577841242 \\cos{\\left(\\psi \\right)} \\cos{\\left(\\theta \\right)}\\right)}\\\\\\frac{21 \\left(- 0.289629477625516 \\sin{\\left(\\phi \\right)} \\sin{\\left(\\psi \\right)} \\sin{\\left(\\theta \\right)} - 0.198669330795061 \\sin{\\left(\\phi \\right)} \\cos{\\left(\\psi \\right)} - 0.198669330795061 \\sin{\\left(\\psi \\right)} \\sin{\\left(\\theta \\right)} \\cos{\\left(\\phi \\right)} - 0.936293363584199 \\sin{\\left(\\psi \\right)} \\cos{\\left(\\theta \\right)} + 0.289629477625516 \\cos{\\left(\\phi \\right)} \\cos{\\left(\\psi \\right)}\\right)}{8 \\left(- 0.198669330795061 \\sin{\\left(\\phi \\right)} \\sin{\\left(\\psi \\right)} + 0.289629477625516 \\sin{\\left(\\phi \\right)} \\sin{\\left(\\theta \\right)} \\cos{\\left(\\psi \\right)} + 0.289629477625516 \\sin{\\left(\\psi \\right)} \\cos{\\left(\\phi \\right)} + 0.198669330795061 \\sin{\\left(\\theta \\right)} \\cos{\\left(\\phi \\right)} \\cos{\\left(\\psi \\right)} + 0.936293363584199 \\cos{\\left(\\psi \\right)} \\cos{\\left(\\theta \\right)}\\right)}\\\\\\frac{21 \\left(- 0.289629477625516 \\sin{\\left(\\phi \\right)} \\cos{\\left(\\theta \\right)} + 0.936293363584199 \\sin{\\left(\\theta \\right)} - 0.198669330795061 \\cos{\\left(\\phi \\right)} \\cos{\\left(\\theta \\right)}\\right)}{8 \\left(- 0.198669330795061 \\sin{\\left(\\phi \\right)} \\sin{\\left(\\psi \\right)} + 0.289629477625516 \\sin{\\left(\\phi \\right)} \\sin{\\left(\\theta \\right)} \\cos{\\left(\\psi \\right)} + 0.289629477625516 \\sin{\\left(\\psi \\right)} \\cos{\\left(\\phi \\right)} + 0.198669330795061 \\sin{\\left(\\theta \\right)} \\cos{\\left(\\phi \\right)} \\cos{\\left(\\psi \\right)} + 0.936293363584199 \\cos{\\left(\\psi \\right)} \\cos{\\left(\\theta \\right)}\\right)}\\end{matrix}\\right]$"
     },
     "metadata": {},
     "execution_count": 16
    }
   ],
   "source": [
    "#Make G a combination of 5 stars with set position data\n",
    "alpha1 = 0.\n",
    "delta1 = 0.\n",
    "alpha2 = 0.15\n",
    "delta2 = 0.\n",
    "alpha3 = 0\n",
    "delta3 = 0.15\n",
    "alpha4 = -0.2\n",
    "delta4 = 0\n",
    "alpha5 = 0.3\n",
    "delta5 = -0.2\n",
    "\n",
    "G = np.block([[g.subs([(alpha, alpha1), (delta, delta1)])],[g.subs([(alpha, alpha2), (delta, delta2)])],[g.subs([(alpha, alpha3), (delta, delta3)])],[g.subs([(alpha, alpha4), (delta, delta4)])],[g.subs([(alpha, alpha5), (delta, delta5)])]])\n",
    "G = sym.Matrix(G)\n",
    "G"
   ]
  },
  {
   "cell_type": "code",
   "execution_count": 17,
   "metadata": {},
   "outputs": [
    {
     "output_type": "execute_result",
     "data": {
      "text/plain": [
       "[[-0.0],\n",
       " [0.0],\n",
       " [0.3967299474030241],\n",
       " [0.0],\n",
       " [0.0],\n",
       " [0.3967299474030241],\n",
       " [-0.5321138432102644],\n",
       " [0.0],\n",
       " [0.8120076552252624],\n",
       " [-0.5569910175809305]]"
      ]
     },
     "metadata": {},
     "execution_count": 17
    }
   ],
   "source": [
    "# We also need to find the equilibrium value of this system and subtract that from the sensor measurements to get y\n",
    "G_num = sym.lambdify((phi, theta, psi),G)\n",
    "Geq = G_num(phi_e, theta_e, psi_e)\n",
    "Geq.tolist()"
   ]
  },
  {
   "source": [
    "## Linearizing and Observability"
   ],
   "cell_type": "markdown",
   "metadata": {}
  },
  {
   "source": [
    "We now linearize this system to get the $C$ matrix"
   ],
   "cell_type": "markdown",
   "metadata": {}
  },
  {
   "cell_type": "code",
   "execution_count": 18,
   "metadata": {},
   "outputs": [
    {
     "output_type": "execute_result",
     "data": {
      "text/plain": [
       "array([[ 0.        ,  0.        , -2.625     ,  0.        ,  0.        ,\n",
       "         0.        ],\n",
       "       [ 0.        ,  2.625     ,  0.        ,  0.        ,  0.        ,\n",
       "         0.        ],\n",
       "       [ 0.        ,  0.        , -2.68495987,  0.        ,  0.        ,\n",
       "         0.        ],\n",
       "       [-0.39672995,  2.625     , -0.        ,  0.        ,  0.        ,\n",
       "         0.        ],\n",
       "       [ 0.39672995,  0.        , -2.625     ,  0.        ,  0.        ,\n",
       "         0.        ],\n",
       "       [-0.        ,  2.68495987,  0.        ,  0.        ,  0.        ,\n",
       "         0.        ],\n",
       "       [ 0.        ,  0.        , -2.73286482,  0.        ,  0.        ,\n",
       "         0.        ],\n",
       "       [ 0.53211384,  2.625     ,  0.        ,  0.        ,  0.        ,\n",
       "         0.        ],\n",
       "       [-0.55699102, -0.17229751, -2.8761834 ,  0.        ,  0.        ,\n",
       "         0.        ],\n",
       "       [-0.81200766,  2.74318628,  0.17229751,  0.        ,  0.        ,\n",
       "         0.        ]])"
      ]
     },
     "metadata": {},
     "execution_count": 18
    }
   ],
   "source": [
    "#We now create a numerical function for C, that will then be evaluated at the equilibrium point\n",
    "C_num = sym.lambdify((phi, theta, psi), G.jacobian([phi, theta, psi, w_x, w_y, w_z]))\n",
    "C = C_num(phi_e, theta_e, psi_e)\n",
    "C"
   ]
  },
  {
   "cell_type": "code",
   "execution_count": 19,
   "metadata": {},
   "outputs": [
    {
     "output_type": "stream",
     "name": "stdout",
     "text": [
      "6\n"
     ]
    }
   ],
   "source": [
    "# We can check for the observability of this system\n",
    "Wo = C\n",
    "for i in range(1,n):\n",
    "    row = C @ np.linalg.matrix_power(A,i)\n",
    "    Wo = np.block([[Wo],[row]])\n",
    "rank = np.linalg.matrix_rank(Wo)\n",
    "print(rank)\n",
    "# The rank of the system is the same as the number of states, so the system is observable."
   ]
  },
  {
   "source": [
    "## Optimal Observer Design\n",
    "Since the system is observable, we can use LQR to find the optimal observer."
   ],
   "cell_type": "markdown",
   "metadata": {}
  },
  {
   "cell_type": "code",
   "execution_count": 20,
   "metadata": {},
   "outputs": [],
   "source": [
    "# Designing an optimal controller\n",
    "Qo = np.diag(np.ones(2*5)) # (2n)x(2n) for an n star system\n",
    "Ro = 0.05*np.diag([1.,1.,1.,1.,1.,1.])\n",
    "\n",
    "L = lqr(A.T, C.T, linalg.inv(Ro), linalg.inv(Qo)).T"
   ]
  },
  {
   "cell_type": "code",
   "execution_count": 21,
   "metadata": {},
   "outputs": [
    {
     "output_type": "stream",
     "name": "stdout",
     "text": [
      "[ True  True  True  True  True  True]\n"
     ]
    }
   ],
   "source": [
    "H  = A - L@C\n",
    "so = linalg.eigvals(H)\n",
    "print(so.real < 0)"
   ]
  },
  {
   "source": [
    "# Simulation\n",
    "With all the values set in place, we can run the simulation and find the results"
   ],
   "cell_type": "markdown",
   "metadata": {}
  },
  {
   "cell_type": "code",
   "execution_count": 22,
   "metadata": {},
   "outputs": [],
   "source": [
    "class RobotController:\n",
    "    def __init__(self, A, B, C, K, L, Geq):\n",
    "        self.dt = 0.01\n",
    "        self.K = K\n",
    "        self.L = L\n",
    "        self.A = A\n",
    "        self.C = C\n",
    "        self.B = B\n",
    "        self.Geq = Geq \n",
    "        # All the equilibrium values were chosen to be 0, so they are not defined here\n",
    "        self.reset()\n",
    "    \n",
    "    def reset(self):\n",
    "        self.xhat = np.zeros((6, 1))\n",
    "    \n",
    "    def run(self, p, v):\n",
    "        z = np.array([p]).T\n",
    "        y = np.array(z - self.Geq)\n",
    "        u = -self.K @ self.xhat\n",
    "        tau = np.array([u[0,0], u[1,0], u[2,0], u[3,0]])\n",
    "        xhatold = self.xhat\n",
    "        for i in range(self.xhat.shape[0]):\n",
    "            if np.isnan(self.xhat[i,0]):\n",
    "                self.xhat[i,0] = xhatold[i,0]\n",
    "        self.xhat += self.dt * (self.A @ self.xhat + self.B @ u - self.L @ (self.C@self.xhat  - y))\n",
    "        return tau\n",
    "\n",
    "controller = RobotController(A, B, C, K, L, Geq)"
   ]
  },
  {
   "source": [
    "Now we can create an instance of the simulation"
   ],
   "cell_type": "markdown",
   "metadata": {}
  },
  {
   "cell_type": "code",
   "execution_count": null,
   "metadata": {},
   "outputs": [],
   "source": [
    "robot = ae353_spacecraft.RobotSimulator(display=True, shootingstar = True, stars = np.array([[alpha1,delta1],[alpha2,delta2],[alpha3,delta3],[alpha4,delta4],[alpha5,delta5]]), scope_noise=0.1)"
   ]
  },
  {
   "source": [
    "We can create a snapshot to see the arrangement of the stars"
   ],
   "cell_type": "markdown",
   "metadata": {}
  },
  {
   "cell_type": "code",
   "execution_count": null,
   "metadata": {},
   "outputs": [],
   "source": [
    "# Get snapshot as 480 x 480 x 4 numpy array of RGBA values\n",
    "rgba = robot.snapshot()\n",
    "\n",
    "# Display snapshot\n",
    "plt.figure(figsize=(9, 9))\n",
    "plt.imshow(rgba)"
   ]
  },
  {
   "cell_type": "code",
   "execution_count": null,
   "metadata": {},
   "outputs": [],
   "source": [
    "plt.imsave('my_snapshot.png', rgba)"
   ]
  },
  {
   "cell_type": "code",
   "execution_count": null,
   "metadata": {},
   "outputs": [],
   "source": [
    "# Restore the simulation to its initial state\n",
    "robot.reset()\n",
    "\n",
    "# Restore the controller to its initial state\n",
    "controller.reset()\n",
    "\n",
    "# Choose how long we want to run the simulation, and\n",
    "# compute the corresponding number of time steps\n",
    "run_time =  30\n",
    "num_steps = int(run_time/robot.dt)\n",
    "\n",
    "# Create a dictionary in which to store results\n",
    "data = {\n",
    "    't': np.empty(num_steps, dtype=float),\n",
    "    'v': np.empty((4, num_steps), dtype=float),\n",
    "    'p': np.empty((2 * len(robot.stars), num_steps), dtype=float),\n",
    "    'tau': np.empty((4, num_steps), dtype=float),\n",
    "    'rpy': np.empty((3, num_steps), dtype=float),\n",
    "    'angvel': np.empty((3, num_steps), dtype=float),\n",
    "    'xhat': np.empty((6, num_steps), dtype=float),\n",
    "}\n",
    "\n",
    "p = np.zeros(10) #CHANGE this when changing no. of stars\n",
    "v = np.zeros(4)\n",
    "# Run the simulation loop\n",
    "start_time = time.time()\n",
    "for step in range(num_steps):\n",
    "    # Get the current time\n",
    "    t = robot.dt * step\n",
    "    pold = p\n",
    "    vold = v\n",
    "    # Get the sensor measurements\n",
    "    p, v = robot.get_sensor_measurements()\n",
    "    # Ensuring we don't get nan values\n",
    "    for i in range(p.shape[0]):\n",
    "        if np.isnan(p[i]):\n",
    "            p[i] = pold[i]\n",
    "    # Choose the actuator command (by running the controller)\n",
    "    tau = controller.run(p, v)\n",
    "    if tau.shape != (4, ):\n",
    "        raise Exception(f'invalid desired torques: {tau}')\n",
    "    \n",
    "    # Get orientation and angular velocity as ground truth\n",
    "    rpy, angvel = robot.get_rpy_and_angvel()\n",
    "        \n",
    "    # Log the data from this time step\n",
    "    data['t'][step] = t\n",
    "    data['v'][:, step] = v\n",
    "    data['p'][:, step] = p\n",
    "    data['tau'][:, step] = tau\n",
    "    data['rpy'][:, step] = rpy\n",
    "    data['angvel'][:, step] = angvel\n",
    "    data['xhat'][:, step] = controller.xhat.flatten()\n",
    "    \n",
    "    # Send the actuator commands to robot and go forward one time step\n",
    "    robot.set_actuator_commands(tau)\n",
    "    robot.step(t=(start_time + (robot.dt * (step + 1))))\n",
    "    \n",
    "print(f'elapsed time: {time.time() - start_time:.1f}')"
   ]
  },
  {
   "source": [
    "Plot the results"
   ],
   "cell_type": "markdown",
   "metadata": {}
  },
  {
   "cell_type": "code",
   "execution_count": null,
   "metadata": {},
   "outputs": [],
   "source": [
    "# Create a figure with subplots that all share the same x-axis\n",
    "fig, (ax_r,ax_p, ax_y, ax_tau, ax_v) = plt.subplots(5, 1, figsize=(9, 12), sharex=True)\n",
    "\n",
    "# Roll, pitch, and yaw angles\n",
    "ax_r.plot(data['t'], data['rpy'][0, :], label='roll (rad)', linewidth=4)\n",
    "ax_r.plot(data['t'], data['xhat'][0, :], label='roll estimate', linewidth=3)\n",
    "\n",
    "ax_p.plot(data['t'], data['rpy'][1, :], label='pitch (rad)', linewidth=4)\n",
    "ax_p.plot(data['t'], data['xhat'][1, :], label='pitch estimate', linewidth=3)\n",
    "\n",
    "ax_y.plot(data['t'], data['rpy'][2, :], label='yaw (rad)', linewidth=4)\n",
    "ax_y.plot(data['t'], data['xhat'][2, :], label='yaw estimate', linewidth=3)\n",
    "\n",
    "ax_r.grid()\n",
    "ax_r.legend(fontsize=16)\n",
    "ax_r.tick_params(labelsize=14)\n",
    "ax_p.grid()\n",
    "ax_p.legend(fontsize=16)\n",
    "ax_p.tick_params(labelsize=14)\n",
    "ax_y.grid()\n",
    "ax_y.legend(fontsize=16)\n",
    "ax_y.tick_params(labelsize=14)\n",
    "\n",
    "# Wheel torques\n",
    "for i in range(4):\n",
    "    ax_tau.plot(data['t'], data['tau'][i, :], label=f'torque {i} command (N-m)', linewidth=4)\n",
    "ax_tau.plot(data['t'], np.ones_like(data['t']) * robot.tau_max, '--', label='max joint torque', linewidth=4, color='C2')\n",
    "ax_tau.plot(data['t'], -np.ones_like(data['t']) * robot.tau_max, '--', linewidth=4, color='C2')\n",
    "ax_tau.grid()\n",
    "ax_tau.legend(fontsize=16)\n",
    "ax_tau.tick_params(labelsize=14)\n",
    "ax_tau.set_ylim(-1.2 * robot.tau_max, 1.2 * robot.tau_max)\n",
    "\n",
    "# Wheel speeds\n",
    "for i in range(4):\n",
    "    ax_v.plot(data['t'], data['v'][i, :], label=f'wheel {i} speed (rad/s)', linewidth=4)\n",
    "ax_v.plot(data['t'], np.ones_like(data['t']) * robot.v_max, '--', label='max wheel speed', linewidth=4, color='C2')\n",
    "ax_v.plot(data['t'], -np.ones_like(data['t']) * robot.v_max, '--', linewidth=4, color='C2')\n",
    "ax_v.grid()\n",
    "ax_v.legend(fontsize=16)\n",
    "ax_v.tick_params(labelsize=14)\n",
    "ax_v.set_ylim(-1.2 * robot.v_max, 1.2 * robot.v_max)\n",
    "\n",
    "# Set shared x-axis properties\n",
    "ax_v.set_xlabel('time (s)', fontsize=20)\n",
    "ax_v.set_xlim([data['t'][0], data['t'][-1]])\n",
    "\n",
    "# Make the arrangement of subplots look nice\n",
    "fig.tight_layout()"
   ]
  },
  {
   "cell_type": "code",
   "execution_count": null,
   "metadata": {},
   "outputs": [],
   "source": [
    "# We can plot the error in the estimate with time\n",
    "# Create a figure with subplots that all share the same x-axis\n",
    "# Roll, pitch, and yaw angles\n",
    "plt.figure(figsize=(10,7))\n",
    "plt.plot(data['t'], data['xhat'][0, :] - data['rpy'][0, :], label='roll error', linewidth=4)\n",
    "plt.plot(data['t'], data['xhat'][1, :] - data['rpy'][1, :], label='pitch error', linewidth=4)\n",
    "plt.plot(data['t'], data['xhat'][2, :] - data['rpy'][2, :], label='yaw error', linewidth=4)\n",
    "plt.xlabel(\"Time\", fontsize = 15)\n",
    "plt.ylabel(\"Error in state estimate\", fontsize = 15)\n",
    "plt.grid()\n",
    "plt.legend(fontsize=16)\n",
    "plt.tick_params(labelsize=14)"
   ]
  },
  {
   "source": [
    "We can also plot the star positions. This wasn't used in the report"
   ],
   "cell_type": "markdown",
   "metadata": {}
  },
  {
   "cell_type": "code",
   "execution_count": null,
   "metadata": {},
   "outputs": [],
   "source": [
    "fig, ax = plt.subplots(1, 1, figsize=(9, 9))\n",
    "for i in range(len(robot.stars)):\n",
    "    y = data['p'][2 * i, :]\n",
    "    z = data['p'][2 * i + 1, :]\n",
    "    ax.plot(-y, z, label=f'star {i}', linewidth=0.5, marker='.', markersize=10)\n",
    "ax.grid()\n",
    "ax.legend(fontsize=16)\n",
    "ax.tick_params(labelsize=14)\n",
    "ax.set_xlim(-1., 1.)\n",
    "ax.set_ylim(-1., 1.)"
   ]
  },
  {
   "source": [
    "## Multiple Runs\n",
    "\n",
    "We can now work run this simulation many times to get an aggregate result, as each simulation has random factors that lead to different results each time."
   ],
   "cell_type": "markdown",
   "metadata": {}
  },
  {
   "source": [
    "Note for all the data after this point: The notebook was run again after the data from it was collected and placed in the report. This means that the data below  many not exactly match the in the report because of the randomness. However, since the simulation results are aggregated over 500 results, the diffence is likely to be small"
   ],
   "cell_type": "markdown",
   "metadata": {}
  },
  {
   "cell_type": "code",
   "execution_count": null,
   "metadata": {},
   "outputs": [],
   "source": [
    "# Run the simulation a hundred times\n",
    "num_sims = 500\n",
    "rpy_err = np.zeros((num_sims,3))\n",
    "for j in range(num_sims):\n",
    "    # Restore the simulation to its initial state\n",
    "    robot.reset()\n",
    "    # Restore the controller to its initial state\n",
    "    controller.reset()\n",
    "\n",
    "    # Choose how long we want to run the simulation, and\n",
    "    # compute the corresponding number of time steps\n",
    "    run_time = 30.0\n",
    "    num_steps = int(run_time/robot.dt)\n",
    "\n",
    "    # Create a dictionary in which to store results\n",
    "    data = {\n",
    "        't': np.empty(num_steps, dtype=float),\n",
    "        'v': np.empty((4, num_steps), dtype=float),\n",
    "        'p': np.empty((2 * len(robot.stars), num_steps), dtype=float),\n",
    "        'tau': np.empty((4, num_steps), dtype=float),\n",
    "        'rpy': np.empty((3, num_steps), dtype=float),\n",
    "        'angvel': np.empty((3, num_steps), dtype=float),\n",
    "        'xhat': np.empty((6, num_steps), dtype=float),\n",
    "    }\n",
    "\n",
    "    p = np.zeros(10) #CHANGE this when changing no. of stars\n",
    "    v = np.zeros(4)\n",
    "    # Run the simulation loop\n",
    "    start_time = time.time()\n",
    "    for step in range(num_steps):\n",
    "        # Get the current time\n",
    "        t = robot.dt * step\n",
    "        pold = p\n",
    "        vold = v\n",
    "        # Get the sensor measurements\n",
    "        p, v = robot.get_sensor_measurements()\n",
    "        # Ensuring we don't get nan values\n",
    "        for i in range(p.shape[0]):\n",
    "            if np.isnan(p[i]):\n",
    "                p[i] = pold[i]\n",
    "        # Choose the actuator command (by running the controller)\n",
    "        tau = controller.run(p, v)\n",
    "        if tau.shape != (4, ):\n",
    "            raise Exception(f'invalid desired torques: {tau}')\n",
    "        \n",
    "        # Get orientation and angular velocity as ground truth\n",
    "        rpy, angvel = robot.get_rpy_and_angvel()\n",
    "            \n",
    "        # Log the data from this time step\n",
    "        data['t'][step] = t\n",
    "        data['v'][:, step] = v\n",
    "        data['p'][:, step] = p\n",
    "        data['tau'][:, step] = tau\n",
    "        data['rpy'][:, step] = rpy\n",
    "        data['angvel'][:, step] = angvel\n",
    "        data['xhat'][:, step] = controller.xhat.flatten()\n",
    "        \n",
    "        # Send the actuator commands to robot and go forward one time step\n",
    "        robot.set_actuator_commands(tau)\n",
    "        robot.step(t=(start_time + (robot.dt * (step + 1))))\n",
    "    rpy_err[j,0] += np.mean((data['rpy'][0, :])**2)\n",
    "    rpy_err[j,1] += np.mean((data['rpy'][1, :])**2)\n",
    "    rpy_err[j,2] += np.mean((data['rpy'][2, :])**2)\n",
    "    if j%10 == 0:\n",
    "        print(f'{j}/{num_sims}')\n",
    "print(f'{num_sims}/{num_sims}')"
   ]
  },
  {
   "source": [
    "Plotting the histogram results"
   ],
   "cell_type": "markdown",
   "metadata": {}
  },
  {
   "cell_type": "code",
   "execution_count": null,
   "metadata": {},
   "outputs": [],
   "source": [
    "fig, (ax_rerr,ax_perr,ax_yerr) = plt.subplots(3, 1, figsize=(9, 12), sharex=False)\n",
    "\n",
    "q_75_r = np.quantile(rpy_err[:,0], 0.75)\n",
    "q_75_p = np.quantile(rpy_err[:,1], 0.75)\n",
    "q_75_y = np.quantile(rpy_err[:,2], 0.75)\n",
    "\n",
    "ax_rerr.vlines(q_75_r, 0, 25, \"r\")\n",
    "ax_rerr.text(q_75_r - 0.07, 25+0.5, \"75th percentile\")\n",
    "ax_rerr.hist(rpy_err[:,0], bins=50, range=(0,1.5))\n",
    "ax_rerr.set_xlabel(\"Mean Square Error of Roll\")\n",
    "\n",
    "ax_perr.hist(rpy_err[:,1],bins=40, range=(0,0.2))\n",
    "ax_yerr.text(q_75_p-0.004, 415, \"75th percentile\")\n",
    "ax_perr.vlines(q_75_p, 0, 50, 'r')\n",
    "ax_perr.set_xlabel(\"Mean Square Error of Pitch\")\n",
    "\n",
    "\n",
    "ax_yerr.hist(rpy_err[:,2],bins=40, range=(0,0.2))\n",
    "ax_yerr.text(q_75_y, 160+2, \"75th percentile\")\n",
    "ax_yerr.vlines(q_75_y, 0, 160, 'r')\n",
    "ax_yerr.set_xlabel(\"Mean Square Error of Yaw\")"
   ]
  },
  {
   "source": [
    "## Additional Statistics\n"
   ],
   "cell_type": "markdown",
   "metadata": {}
  },
  {
   "cell_type": "code",
   "execution_count": null,
   "metadata": {},
   "outputs": [],
   "source": [
    "print(f'Means: {np.mean(rpy_err[:,0])} , {np.mean(rpy_err[:,1])}, {np.mean(rpy_err[:,2])}')\n",
    "print(f'Medians: {np.median(rpy_err[:,0])} , {np.median(rpy_err[:,1])}, {np.median(rpy_err[:,2])}')\n",
    "print(f'Max: {np.max(rpy_err[:,0])} , {np.max(rpy_err[:,1])}, {np.max(rpy_err[:,2])}')\n",
    "print(f'Min: {np.min(rpy_err[:,0])} , {np.min(rpy_err[:,1])}, {np.min(rpy_err[:,2])}')\n",
    "print(f'Standard deviations: {np.std(rpy_err[:,0])} , {np.std(rpy_err[:,1])}, {np.std(rpy_err[:,2])}')\n",
    "print(f'75th percentiles: {q_75_r}, {q_75_p}, {q_75_y}')"
   ]
  },
  {
   "cell_type": "code",
   "execution_count": null,
   "metadata": {},
   "outputs": [],
   "source": [
    "# Amazing results, how many times did we do really well?\n",
    "count = 0\n",
    "for i in range(num_sims):\n",
    "    if ((rpy_err[i,0] < 0.05 and rpy_err[i,1] < 0.005) and rpy_err[i,2] < 0.005):\n",
    "        count += 1\n",
    "\n",
    "print(count)"
   ]
  },
  {
   "source": [
    "## Large Scope Noise\n",
    "This is a further test into how the system behaves if the scope has a lot more noise. The number of sims can be set to 1 with display=True if only one run is required."
   ],
   "cell_type": "markdown",
   "metadata": {}
  },
  {
   "cell_type": "code",
   "execution_count": null,
   "metadata": {},
   "outputs": [],
   "source": [
    "robot = ae353_spacecraft.RobotSimulator(display=True, shootingstar = True, stars = np.array([[alpha1,delta1],[alpha2,delta2],[alpha3,delta3],[alpha4,delta4],[alpha5,delta5]]), scope_noise = 0.3)"
   ]
  },
  {
   "cell_type": "code",
   "execution_count": null,
   "metadata": {},
   "outputs": [],
   "source": [
    "# Run the simulation a hundred times\n",
    "num_sims = 500\n",
    "rpy_err_noisy = np.zeros((num_sims,3))\n",
    "for j in range(num_sims):\n",
    "    # Restore the simulation to its initial state\n",
    "    robot.reset()\n",
    "    # Restore the controller to its initial state\n",
    "    controller.reset()\n",
    "\n",
    "    # Choose how long we want to run the simulation, and\n",
    "    # compute the corresponding number of time steps\n",
    "    run_time = 30.0\n",
    "    num_steps = int(run_time/robot.dt)\n",
    "\n",
    "    # Create a dictionary in which to store results\n",
    "    data = {\n",
    "        't': np.empty(num_steps, dtype=float),\n",
    "        'v': np.empty((4, num_steps), dtype=float),\n",
    "        'p': np.empty((2 * len(robot.stars), num_steps), dtype=float),\n",
    "        'tau': np.empty((4, num_steps), dtype=float),\n",
    "        'rpy': np.empty((3, num_steps), dtype=float),\n",
    "        'angvel': np.empty((3, num_steps), dtype=float),\n",
    "        'xhat': np.empty((6, num_steps), dtype=float),\n",
    "    }\n",
    "\n",
    "    p = np.zeros(10) #CHANGE this when changing no. of stars\n",
    "    v = np.zeros(4)\n",
    "    # Run the simulation loop\n",
    "    start_time = time.time()\n",
    "    for step in range(num_steps):\n",
    "        # Get the current time\n",
    "        t = robot.dt * step\n",
    "        pold = p\n",
    "        vold = v\n",
    "        # Get the sensor measurements\n",
    "        p, v = robot.get_sensor_measurements()\n",
    "        # Ensuring we don't get nan values\n",
    "        for i in range(p.shape[0]):\n",
    "            if np.isnan(p[i]):\n",
    "                p[i] = pold[i]\n",
    "        # Choose the actuator command (by running the controller)\n",
    "        tau = controller.run(p, v)\n",
    "        if tau.shape != (4, ):\n",
    "            raise Exception(f'invalid desired torques: {tau}')\n",
    "        \n",
    "        # Get orientation and angular velocity as ground truth\n",
    "        rpy, angvel = robot.get_rpy_and_angvel()\n",
    "            \n",
    "        # Log the data from this time step\n",
    "        data['t'][step] = t\n",
    "        data['v'][:, step] = v\n",
    "        data['p'][:, step] = p\n",
    "        data['tau'][:, step] = tau\n",
    "        data['rpy'][:, step] = rpy\n",
    "        data['angvel'][:, step] = angvel\n",
    "        data['xhat'][:, step] = controller.xhat.flatten()\n",
    "        \n",
    "        # Send the actuator commands to robot and go forward one time step\n",
    "        robot.set_actuator_commands(tau)\n",
    "        robot.step(t=(start_time + (robot.dt * (step + 1))))\n",
    "    rpy_err_noisy[j,0] += np.mean((data['rpy'][0, :])**2)\n",
    "    rpy_err_noisy[j,1] += np.mean((data['rpy'][1, :])**2)\n",
    "    rpy_err_noisy[j,2] += np.mean((data['rpy'][2, :])**2)\n",
    "    if j%10 == 0:\n",
    "        print(f'{j}/{num_sims}')\n",
    "print(f'{num_sims}/{num_sims}')"
   ]
  },
  {
   "cell_type": "code",
   "execution_count": null,
   "metadata": {},
   "outputs": [],
   "source": [
    "fig, (ax_rerr,ax_perr,ax_yerr) = plt.subplots(3, 1, figsize=(9, 12), sharex=False)\n",
    "\n",
    "q_75_r_n = np.quantile(rpy_err_noisy[:,0], 0.75)\n",
    "q_75_p_n = np.quantile(rpy_err_noisy[:,1], 0.75)\n",
    "q_75_y_n = np.quantile(rpy_err_noisy[:,2], 0.75)\n",
    "\n",
    "ax_rerr.vlines(q_75_r_n, 0, 25, \"r\")\n",
    "ax_rerr.text(q_75_r_n - 0.07, 25+3, \"75th percentile\")\n",
    "ax_rerr.hist(rpy_err_noisy[:,0], bins=50,range = (0,2))\n",
    "ax_rerr.set_xlabel(\"Mean Square Error of Roll (with noise)\")\n",
    "\n",
    "ax_perr.hist(rpy_err_noisy[:,1],bins=40, range=(0,0.2))\n",
    "ax_yerr.text(q_75_p_n - 0.007, 340, \"75th percentile\")\n",
    "ax_perr.vlines(q_75_p_n, 0, 50, 'r')\n",
    "ax_perr.set_xlabel(\"Mean Square Error of Pitch (with noise)\")\n",
    "\n",
    "\n",
    "ax_yerr.hist(rpy_err_noisy[:,2],bins=40, range=(0,0.2))\n",
    "ax_yerr.text(q_75_y_n, 75, \"75th percentile\")\n",
    "ax_yerr.vlines(q_75_y_n, 0, 70, 'r')\n",
    "ax_yerr.set_xlabel(\"Mean Square Error of Yaw (with noise)\")\n",
    "\n"
   ]
  },
  {
   "source": [
    "## Additional Statistics"
   ],
   "cell_type": "markdown",
   "metadata": {}
  },
  {
   "cell_type": "code",
   "execution_count": null,
   "metadata": {},
   "outputs": [],
   "source": [
    "print(f'Means: {np.mean(rpy_err_noisy[:,0])} , {np.mean(rpy_err_noisy[:,1])}, {np.mean(rpy_err_noisy[:,2])}')\n",
    "print(f'Medians: {np.median(rpy_err_noisy[:,0])} , {np.median(rpy_err_noisy[:,1])}, {np.median(rpy_err_noisy[:,2])}')\n",
    "print(f'Max: {np.max(rpy_err_noisy[:,0])} , {np.max(rpy_err_noisy[:,1])}, {np.max(rpy_err_noisy[:,2])}')\n",
    "print(f'Min: {np.min(rpy_err_noisy[:,0])} , {np.min(rpy_err_noisy[:,1])}, {np.min(rpy_err_noisy[:,2])}')\n",
    "print(f'Standard deviations: {np.std(rpy_err_noisy[:,0])} , {np.std(rpy_err_noisy[:,1])}, {np.std(rpy_err_noisy[:,2])}')\n",
    "print(f'75th percentiles: {q_75_r_n}, {q_75_p_n}, {q_75_y_n}')"
   ]
  }
 ]
}