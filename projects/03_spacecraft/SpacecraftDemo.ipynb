{
 "cells": [
  {
   "cell_type": "markdown",
   "id": "middle-acoustic",
   "metadata": {},
   "source": [
    "# Spacecraft with reaction wheels and star tracker"
   ]
  },
  {
   "cell_type": "markdown",
   "id": "working-minority",
   "metadata": {},
   "source": [
    "Import modules and configure the notebook."
   ]
  },
  {
   "cell_type": "code",
   "execution_count": null,
   "id": "informed-qatar",
   "metadata": {},
   "outputs": [],
   "source": [
    "# This module is part of the python standard library\n",
    "import time\n",
    "\n",
    "# These modules are part of other existing libraries\n",
    "import numpy as np\n",
    "import matplotlib.pyplot as plt\n",
    "\n",
    "# This is my own script (it is an interface to the pybullet simulator)\n",
    "import ae353_spacecraft\n",
    "\n",
    "# I often go back and forth between making changes to my scripts and to\n",
    "# the notebook in which they are used. One \"gotcha\" is that notebooks only\n",
    "# import modules or scripts ONCE. Subsequent imports don't do anything, and\n",
    "# in particular won't reflect any changes I've made to my scripts. To make\n",
    "# sure that I'm working with the latest version of my code, I use this bit\n",
    "# of magic, which forces the notebook to \"reload\" my script:\n",
    "import importlib\n",
    "importlib.reload(ae353_spacecraft)"
   ]
  },
  {
   "cell_type": "markdown",
   "id": "intense-sphere",
   "metadata": {},
   "source": [
    "Define and create an instance of the robot controller. By default, it applies zero torque to all wheels. Modify the `run` function - or anything else in the class definition - to make the controller behave differently."
   ]
  },
  {
   "cell_type": "code",
   "execution_count": null,
   "id": "mature-headset",
   "metadata": {},
   "outputs": [],
   "source": [
    "class RobotController:\n",
    "    def __init__(self):\n",
    "        self.dt = 0.01\n",
    "        self.K = np.array([[-4.472135954999583,\n",
    "  -2.6633170001054275e-15,\n",
    "  -2.236067977499786,\n",
    "  -10.016186942499067,\n",
    "  -3.415143604229942e-15,\n",
    "  -6.017091808790448],\n",
    " [4.472135954999583,\n",
    "  -2.3056071713205627e-15,\n",
    "  -2.236067977499785,\n",
    "  10.016186942499067,\n",
    "  -2.7307011801662124e-15,\n",
    "  -6.017091808790448],\n",
    " [1.1572690410922678e-15,\n",
    "  -3.162277660168382,\n",
    "  -2.2360679774997867,\n",
    "  -5.759584258290038e-16,\n",
    "  -8.53423573678893,\n",
    "  -6.017091808790452],\n",
    " [-6.028587380819639e-16,\n",
    "  3.162277660168377,\n",
    "  -2.236067977499784,\n",
    "  1.0848399823472568e-16,\n",
    "  8.534235736788922,\n",
    "  -6.017091808790443]])\n",
    "        self.L = np.array([[0.07961797804564567,\n",
    "  -0.07961797804564563,\n",
    "  0.08143660028688925,\n",
    "  -1.4069664576386838,\n",
    "  1.4069664576386816,\n",
    "  -0.0814366002868892,\n",
    "  0.08288958892424017,\n",
    "  1.7006875052660206,\n",
    "  -1.7006875052660178,\n",
    "  -0.08288958892424012],\n",
    " [-0.0007622728966759749,\n",
    "  1.0596610219328724,\n",
    "  -0.0007796846229948388,\n",
    "  1.0716941024061615,\n",
    "  -0.012795353369965163,\n",
    "  1.0838656444310872,\n",
    "  -0.0007935957255450162,\n",
    "  1.043521658776111,\n",
    "  0.015377090260085532,\n",
    "  1.1032039328692766],\n",
    " [-1.059661021932872,\n",
    "  0.0007622728966759749,\n",
    "  -1.0838656444310868,\n",
    "  0.01279535336996519,\n",
    "  -1.071694102406161,\n",
    "  0.0007796846229948388,\n",
    "  -1.1032039328692762,\n",
    "  -0.01537709026008557,\n",
    "  -1.0435216587761105,\n",
    "  0.0007935957255450162],\n",
    " [0.05454245304134042,\n",
    "  -0.054542453041340054,\n",
    "  0.05578830379801371,\n",
    "  -1.0034150482059945,\n",
    "  1.0034150482059931,\n",
    "  -0.05578830379801333,\n",
    "  0.05678367653250941,\n",
    "  1.2181324398803253,\n",
    "  -1.2181324398803228,\n",
    "  -0.056783676532509035],\n",
    " [-0.000511087993525494,\n",
    "  0.987751839745206,\n",
    "  -0.0005227621909250454,\n",
    "  0.9959951252790432,\n",
    "  -0.008754373527362767,\n",
    "  1.0103139231927412,\n",
    "  -0.0005320892934904143,\n",
    "  0.9766955371524658,\n",
    "  0.01054521459921468,\n",
    "  1.028339904697188],\n",
    " [-0.9877518397452063,\n",
    "  0.0005110879935259852,\n",
    "  -1.0103139231927416,\n",
    "  0.008754373527363336,\n",
    "  -0.9959951252790437,\n",
    "  0.0005227621909255478,\n",
    "  -1.0283399046971882,\n",
    "  -0.010545214599214292,\n",
    "  -0.976695537152466,\n",
    "  0.0005320892934909256]])\n",
    "        self.A = np.array([[0.0, 0.0, 0.0, 1.0, -0.0, 0.0],[0.0, 0.0, 0.0, 0.0, 1.0, 0.0],[0.0, 0.0, 0.0, -0.0, 0.0, 1.0],[0.0, 0.0, 0.0, 0.0, -0.0, -0.0], [0.0, 0.0, 0.0, 0.0, 0.0, 0.0], [0.0, 0.0, 0.0, 0.0, 0.0, 0.0]])\n",
    "        self.C = np.array(\n",
    "[[0.0, 0.0, -2.625, 0.0, 0.0, 0.0],\n",
    " [0.0, 2.625, 0.0, 0.0, 0.0, 0.0],\n",
    " [0.0, 0.0, -2.684959867111012, 0.0, 0.0, 0.0],\n",
    " [-0.39672994740302475, 2.625, -0.0, 0.0, 0.0, 0.0],\n",
    " [0.3967299474030241, 0.0, -2.625, 0.0, 0.0, 0.0],\n",
    " [-0.0, 2.684959867111012, 0.0, 0.0, 0.0, 0.0],\n",
    " [0.0, 0.0, -2.732864816051809, 0.0, 0.0, 0.0],\n",
    " [0.5321138432102653, 2.625, 0.0, 0.0, 0.0, 0.0],\n",
    " [-0.5321138432102644, 0.0, -2.625, 0.0, 0.0, 0.0],\n",
    " [0.0, 2.732864816051809, -0.0, 0.0, 0.0, 0.0]])\n",
    "        self.B = np.array([[0.0, 0.0, 0.0, 0.0],[0.0, 0.0, 0.0, 0.0],[0.0, 0.0, 0.0, 0.0],[-0.052413575424878865, 0.052413575424878865, 0.0, 0.0],[0.0, 0.0,-0.052413575424878865,0.052413575424878865],[-0.03732329459238015,-0.03732329459238015,-0.03732329459238015,-0.03732329459238015]])\n",
    "        self.Geq = np.array([[-0.0],\n",
    " [0.0],\n",
    " [0.3967299474030241],\n",
    " [0.0],\n",
    " [0.0],\n",
    " [0.3967299474030241],\n",
    " [-0.5321138432102644],\n",
    " [0.0],\n",
    " [-0.0],\n",
    " [-0.5321138432102644]])\n",
    "        # All the equilibrium values were chosen to be 0, so they are not defined here\n",
    "        self.reset()\n",
    "    \n",
    "    def reset(self):\n",
    "        self.xhat = np.zeros((6, 1))\n",
    "    \n",
    "    def run(self, p, v):\n",
    "        z = np.array([p]).T\n",
    "        y = np.array(z - self.Geq)\n",
    "        u = -self.K @ self.xhat\n",
    "        self.tau = np.array([u[0,0], u[1,0], u[2,0], u[3,0]])\n",
    "        xhatold = self.xhat\n",
    "        for i in range(self.xhat.shape[0]):\n",
    "            if np.isnan(self.xhat[i,0]):\n",
    "                self.xhat[i,0] = xhatold[i,0]\n",
    "        self.xhat += self.dt * (self.A @ self.xhat + self.B @ u - self.L @ (self.C@self.xhat  - y))\n",
    "\n",
    "\n",
    "        return self.tau\n",
    "\n",
    "controller = RobotController()"
   ]
  },
  {
   "cell_type": "code",
   "execution_count": null,
   "metadata": {},
   "outputs": [],
   "source": []
  },
  {
   "cell_type": "markdown",
   "id": "editorial-supervision",
   "metadata": {},
   "source": [
    "## Do simulation with the GUI"
   ]
  },
  {
   "cell_type": "markdown",
   "id": "helpful-poultry",
   "metadata": {},
   "source": [
    "Create an instance of the robot simulator."
   ]
  },
  {
   "cell_type": "code",
   "execution_count": null,
   "id": "supported-oasis",
   "metadata": {},
   "outputs": [],
   "source": [
    "robot = ae353_spacecraft.RobotSimulator(display=True, shootingstar = True)"
   ]
  },
  {
   "cell_type": "markdown",
   "id": "specific-romantic",
   "metadata": {},
   "source": [
    "Display a snapshot."
   ]
  },
  {
   "cell_type": "code",
   "execution_count": null,
   "id": "aggregate-topic",
   "metadata": {},
   "outputs": [],
   "source": [
    "# Get snapshot as 480 x 480 x 4 numpy array of RGBA values\n",
    "rgba = robot.snapshot()\n",
    "\n",
    "# Display snapshot\n",
    "plt.figure(figsize=(9, 9))\n",
    "plt.imshow(rgba)"
   ]
  },
  {
   "cell_type": "markdown",
   "id": "resistant-generic",
   "metadata": {},
   "source": [
    "Save the snapshot."
   ]
  },
  {
   "cell_type": "code",
   "execution_count": null,
   "id": "altered-weekend",
   "metadata": {},
   "outputs": [],
   "source": [
    "plt.imsave('my_snapshot.png', rgba)"
   ]
  },
  {
   "cell_type": "markdown",
   "id": "welcome-princeton",
   "metadata": {},
   "source": [
    "Run the simulation."
   ]
  },
  {
   "cell_type": "code",
   "execution_count": null,
   "id": "verbal-happiness",
   "metadata": {
    "tags": []
   },
   "outputs": [],
   "source": [
    "# Restore the simulation to its initial state\n",
    "robot.reset()\n",
    "\n",
    "# Restore the controller to its initial state\n",
    "controller.reset()\n",
    "\n",
    "# Choose how long we want to run the simulation, and\n",
    "# compute the corresponding number of time steps\n",
    "run_time = 60.0\n",
    "num_steps = int(run_time/robot.dt)\n",
    "\n",
    "# Create a dictionary in which to store results\n",
    "data = {\n",
    "    't': np.empty(num_steps, dtype=float),\n",
    "    'v': np.empty((4, num_steps), dtype=float),\n",
    "    'p': np.empty((2 * len(robot.stars), num_steps), dtype=float),\n",
    "    'tau': np.empty((4, num_steps), dtype=float),\n",
    "    'rpy': np.empty((3, num_steps), dtype=float),\n",
    "    'angvel': np.empty((3, num_steps), dtype=float),\n",
    "    'xhat': np.empty((6, num_steps), dtype=float),\n",
    "}\n",
    "\n",
    "p = np.zeros(10) #CHANGE this when changing no. of stars\n",
    "v = np.zeros(4)\n",
    "# Run the simulation loop\n",
    "start_time = time.time()\n",
    "for step in range(num_steps):\n",
    "    # Get the current time\n",
    "    t = robot.dt * step\n",
    "    pold = p\n",
    "    vold = v\n",
    "    # Get the sensor measurements\n",
    "    p, v = robot.get_sensor_measurements()\n",
    "    # Ensuring we don't get nan values\n",
    "    for i in range(p.shape[0]):\n",
    "        if np.isnan(p[i]):\n",
    "            p[i] = pold[i]\n",
    "    # Choose the actuator command (by running the controller)\n",
    "    tau = controller.run(p, v)\n",
    "    if tau.shape != (4, ):\n",
    "        raise Exception(f'invalid desired torques: {tau}')\n",
    "    \n",
    "    # Get orientation and angular velocity as ground truth\n",
    "    rpy, angvel = robot.get_rpy_and_angvel()\n",
    "        \n",
    "    # Log the data from this time step\n",
    "    data['t'][step] = t\n",
    "    data['v'][:, step] = v\n",
    "    data['p'][:, step] = p\n",
    "    data['tau'][:, step] = tau\n",
    "    data['rpy'][:, step] = rpy\n",
    "    data['angvel'][:, step] = angvel\n",
    "    data['xhat'][:, step] = controller.xhat.flatten()\n",
    "    \n",
    "    # Send the actuator commands to robot and go forward one time step\n",
    "    robot.set_actuator_commands(tau)\n",
    "    robot.step(t=(start_time + (robot.dt * (step + 1))))\n",
    "    \n",
    "print(f'elapsed time: {time.time() - start_time:.1f} (should be {run_time})')"
   ]
  },
  {
   "cell_type": "markdown",
   "id": "inside-joining",
   "metadata": {},
   "source": [
    "Plot the results."
   ]
  },
  {
   "cell_type": "code",
   "execution_count": null,
   "id": "extended-advertising",
   "metadata": {},
   "outputs": [],
   "source": [
    "# Create a figure with subplots that all share the same x-axis\n",
    "fig, (ax_r,ax_p, ax_y, ax_tau, ax_v) = plt.subplots(5, 1, figsize=(9, 12), sharex=True)\n",
    "\n",
    "# Roll, pitch, and yaw angles\n",
    "ax_r.plot(data['t'], data['rpy'][0, :], label='roll (rad)', linewidth=4)\n",
    "ax_r.plot(data['t'], data['xhat'][0, :], label='roll estimate', linewidth=3)\n",
    "\n",
    "ax_p.plot(data['t'], data['rpy'][1, :], label='pitch (rad)', linewidth=4)\n",
    "ax_p.plot(data['t'], data['xhat'][1, :], label='pitch estimate', linewidth=3)\n",
    "\n",
    "ax_y.plot(data['t'], data['rpy'][2, :], label='yaw (rad)', linewidth=4)\n",
    "ax_y.plot(data['t'], data['xhat'][2, :], label='yaw estimate', linewidth=3)\n",
    "\n",
    "ax_r.grid()\n",
    "ax_r.legend(fontsize=16)\n",
    "ax_r.tick_params(labelsize=14)\n",
    "ax_p.grid()\n",
    "ax_p.legend(fontsize=16)\n",
    "ax_p.tick_params(labelsize=14)\n",
    "ax_y.grid()\n",
    "ax_y.legend(fontsize=16)\n",
    "ax_y.tick_params(labelsize=14)\n",
    "\n",
    "# Wheel torques\n",
    "for i in range(4):\n",
    "    ax_tau.plot(data['t'], data['tau'][i, :], label=f'torque {i} command (N-m)', linewidth=4)\n",
    "ax_tau.plot(data['t'], np.ones_like(data['t']) * robot.tau_max, '--', label='max joint torque', linewidth=4, color='C2')\n",
    "ax_tau.plot(data['t'], -np.ones_like(data['t']) * robot.tau_max, '--', linewidth=4, color='C2')\n",
    "ax_tau.grid()\n",
    "ax_tau.legend(fontsize=16)\n",
    "ax_tau.tick_params(labelsize=14)\n",
    "ax_tau.set_ylim(-1.2 * robot.tau_max, 1.2 * robot.tau_max)\n",
    "\n",
    "# Wheel speeds\n",
    "for i in range(4):\n",
    "    ax_v.plot(data['t'], data['v'][i, :], label=f'wheel {i} speed (rad/s)', linewidth=4)\n",
    "ax_v.plot(data['t'], np.ones_like(data['t']) * robot.v_max, '--', label='max wheel speed', linewidth=4, color='C2')\n",
    "ax_v.plot(data['t'], -np.ones_like(data['t']) * robot.v_max, '--', linewidth=4, color='C2')\n",
    "ax_v.grid()\n",
    "ax_v.legend(fontsize=16)\n",
    "ax_v.tick_params(labelsize=14)\n",
    "ax_v.set_ylim(-1.2 * robot.v_max, 1.2 * robot.v_max)\n",
    "\n",
    "# Set shared x-axis properties\n",
    "ax_v.set_xlabel('time (s)', fontsize=20)\n",
    "ax_v.set_xlim([data['t'][0], data['t'][-1]])\n",
    "\n",
    "# Make the arrangement of subplots look nice\n",
    "fig.tight_layout()"
   ]
  },
  {
   "cell_type": "markdown",
   "id": "social-robinson",
   "metadata": {},
   "source": [
    "Plot star positions in image."
   ]
  },
  {
   "cell_type": "code",
   "execution_count": null,
   "id": "structural-accessory",
   "metadata": {},
   "outputs": [],
   "source": [
    "fig, ax = plt.subplots(1, 1, figsize=(9, 9))\n",
    "for i in range(len(robot.stars)):\n",
    "    y = data['p'][2 * i, :]\n",
    "    z = data['p'][2 * i + 1, :]\n",
    "    ax.plot(-y, z, label=f'star {i}', linewidth=0.5, marker='.', markersize=10)\n",
    "ax.grid()\n",
    "ax.legend(fontsize=16)\n",
    "ax.tick_params(labelsize=14)\n",
    "ax.set_xlim(-1., 1.)\n",
    "ax.set_ylim(-1., 1.)"
   ]
  },
  {
   "cell_type": "markdown",
   "id": "timely-cardiff",
   "metadata": {},
   "source": [
    "## Do simulation without the GUI and create a video"
   ]
  },
  {
   "cell_type": "markdown",
   "id": "allied-microphone",
   "metadata": {},
   "source": [
    "Import what we need to create a video. You must install both [imageio](https://github.com/imageio/imageio) and [imageio-ffmpeg](https://github.com/imageio/imageio-ffmpeg) in order for this to work. You can do this from a terminal (in your `ae353-bullet` environment, for example) as follows:\n",
    "\n",
    "```\n",
    "pip install imageio\n",
    "pip install imageio-ffmpeg\n",
    "```"
   ]
  },
  {
   "cell_type": "code",
   "execution_count": null,
   "id": "numerical-amount",
   "metadata": {},
   "outputs": [],
   "source": [
    "import imageio"
   ]
  },
  {
   "cell_type": "markdown",
   "id": "equipped-electron",
   "metadata": {},
   "source": [
    "Create an instance of the robot simulator."
   ]
  },
  {
   "cell_type": "code",
   "execution_count": null,
   "id": "blank-milton",
   "metadata": {},
   "outputs": [],
   "source": [
    "robot = ae353_spacecraft.RobotSimulator(display=False)"
   ]
  },
  {
   "cell_type": "markdown",
   "id": "further-livestock",
   "metadata": {},
   "source": [
    "Display a snapshot."
   ]
  },
  {
   "cell_type": "code",
   "execution_count": null,
   "id": "smart-emission",
   "metadata": {},
   "outputs": [],
   "source": [
    "# Get snapshot as 480 x 480 x 4 numpy array of RGBA values\n",
    "rgba = robot.snapshot()\n",
    "\n",
    "# Display snapshot\n",
    "plt.figure(figsize=(9, 9))\n",
    "plt.imshow(rgba)"
   ]
  },
  {
   "cell_type": "markdown",
   "id": "eligible-result",
   "metadata": {},
   "source": [
    "Save the snapshot."
   ]
  },
  {
   "cell_type": "code",
   "execution_count": null,
   "id": "specified-victoria",
   "metadata": {},
   "outputs": [],
   "source": [
    "plt.imsave('my_snapshot.png', rgba)"
   ]
  },
  {
   "cell_type": "markdown",
   "id": "happy-wagner",
   "metadata": {},
   "source": [
    "Run the simulation."
   ]
  },
  {
   "cell_type": "code",
   "execution_count": null,
   "id": "right-majority",
   "metadata": {},
   "outputs": [],
   "source": [
    "# Restore the simulation to its initial state\n",
    "robot.reset()\n",
    "\n",
    "# Restore the controller to its initial state\n",
    "controller.reset()\n",
    "\n",
    "# Choose how long we want to run the simulation, and\n",
    "# compute the corresponding number of time steps\n",
    "run_time = 1.0\n",
    "num_steps = int(run_time/robot.dt)\n",
    "\n",
    "# Create a dictionary in which to store results\n",
    "data = {\n",
    "    't': np.empty(num_steps, dtype=float),\n",
    "    'v': np.empty((4, num_steps), dtype=float),\n",
    "    'p': np.empty((2 * len(robot.stars), num_steps), dtype=float),\n",
    "    'tau': np.empty((4, num_steps), dtype=float),\n",
    "    'rpy': np.empty((3, num_steps), dtype=float),\n",
    "    'angvel': np.empty((3, num_steps), dtype=float),\n",
    "    'xhat': np.empty((6, num_steps), dtype=float),\n",
    "}\n",
    "\n",
    "# Open video\n",
    "filename = 'my_video.mp4'\n",
    "fps = int(1 / robot.dt)\n",
    "print(f'Creating a video with name {filename} and fps {fps}')\n",
    "w = imageio.get_writer(filename,\n",
    "                       format='FFMPEG',\n",
    "                       mode='I',\n",
    "                       fps=fps)\n",
    "\n",
    "# Add first frame to video\n",
    "rgba = robot.snapshot()\n",
    "w.append_data(rgba)\n",
    "\n",
    "# Run the simulation loop\n",
    "print(f' step {0:04d} / {num_steps:04d}')\n",
    "start_time = time.time()\n",
    "for step in range(num_steps):\n",
    "    if ((step + 1) % fps) == 0:\n",
    "        print(f' step {step + 1:04d} / {num_steps:04d}')\n",
    "    \n",
    "    # Get the current time\n",
    "    t = robot.dt * step\n",
    "    \n",
    "    # Get the sensor measurements\n",
    "    p, v = robot.get_sensor_measurements()\n",
    "    \n",
    "    # Choose the actuator command (by running the controller)\n",
    "    tau = controller.run(p, v)\n",
    "    if tau.shape != (4, ):\n",
    "        raise Exception(f'invalid desired torques: {tau}')\n",
    "    \n",
    "    # Get orientation and angular velocity as ground truth\n",
    "    rpy, angvel = robot.get_rpy_and_angvel()\n",
    "        \n",
    "    # Log the data from this time step\n",
    "    data['t'][step] = t\n",
    "    data['v'][:, step] = v\n",
    "    data['p'][:, step] = p\n",
    "    data['tau'][:, step] = tau\n",
    "    data['rpy'][:, step] = rpy\n",
    "    data['angvel'][:, step] = angvel\n",
    "    data['xhat'][:, step] = controller.xhat.flatten()\n",
    "    \n",
    "    # Send the actuator commands to robot and go forward one time step\n",
    "    robot.set_actuator_commands(tau)\n",
    "    robot.step(t=(start_time + (robot.dt * (step + 1))))\n",
    "    \n",
    "    # Add frame to video\n",
    "    rgba = robot.snapshot()\n",
    "    w.append_data(rgba)\n",
    "\n",
    "# Close video\n",
    "w.close()\n",
    "print(f'elapsed time: {time.time() - start_time:.1f} (should be {run_time})')"
   ]
  },
  {
   "cell_type": "markdown",
   "id": "recovered-edition",
   "metadata": {},
   "source": [
    "Plot the results."
   ]
  },
  {
   "cell_type": "code",
   "execution_count": null,
   "id": "overhead-national",
   "metadata": {},
   "outputs": [],
   "source": [
    "# Create a figure with subplots that all share the same x-axis\n",
    "fig, (ax_rpy, ax_tau, ax_v) = plt.subplots(3, 1, figsize=(9, 12), sharex=True)\n",
    "\n",
    "# Roll, pitch, and yaw angles\n",
    "ax_rpy.plot(data['t'], data['rpy'][0, :], label='roll (rad)', linewidth=4)\n",
    "ax_rpy.plot(data['t'], data['rpy'][1, :], label='pitch (rad)', linewidth=4)\n",
    "ax_rpy.plot(data['t'], data['rpy'][2, :], label='yaw (rad)', linewidth=4)\n",
    "ax_rpy.grid()\n",
    "ax_rpy.legend(fontsize=16)\n",
    "ax_rpy.tick_params(labelsize=14)\n",
    "\n",
    "# Wheel torques\n",
    "for i in range(4):\n",
    "    ax_tau.plot(data['t'], data['tau'][i, :], label=f'torque {i} command (N-m)', linewidth=4)\n",
    "ax_tau.plot(data['t'], np.ones_like(data['t']) * robot.tau_max, '--', label='max joint torque', linewidth=4, color='C2')\n",
    "ax_tau.plot(data['t'], -np.ones_like(data['t']) * robot.tau_max, '--', linewidth=4, color='C2')\n",
    "ax_tau.grid()\n",
    "ax_tau.legend(fontsize=16)\n",
    "ax_tau.tick_params(labelsize=14)\n",
    "ax_tau.set_ylim(-1.2 * robot.tau_max, 1.2 * robot.tau_max)\n",
    "\n",
    "# Wheel speeds\n",
    "for i in range(4):\n",
    "    ax_v.plot(data['t'], data['v'][i, :], label=f'wheel {i} speed (rad/s)', linewidth=4)\n",
    "ax_v.plot(data['t'], np.ones_like(data['t']) * robot.v_max, '--', label='max wheel speed', linewidth=4, color='C2')\n",
    "ax_v.plot(data['t'], -np.ones_like(data['t']) * robot.v_max, '--', linewidth=4, color='C2')\n",
    "ax_v.grid()\n",
    "ax_v.legend(fontsize=16)\n",
    "ax_v.tick_params(labelsize=14)\n",
    "ax_v.set_ylim(-1.2 * robot.v_max, 1.2 * robot.v_max)\n",
    "\n",
    "# Set shared x-axis properties\n",
    "ax_v.set_xlabel('time (s)', fontsize=20)\n",
    "ax_v.set_xlim([data['t'][0], data['t'][-1]])\n",
    "\n",
    "# Make the arrangement of subplots look nice\n",
    "fig.tight_layout()"
   ]
  },
  {
   "cell_type": "markdown",
   "id": "normal-chocolate",
   "metadata": {},
   "source": [
    "Plot star positions in image."
   ]
  },
  {
   "cell_type": "code",
   "execution_count": null,
   "id": "forty-realtor",
   "metadata": {},
   "outputs": [],
   "source": [
    "fig, ax = plt.subplots(1, 1, figsize=(9, 9))\n",
    "for i in range(len(robot.stars)):\n",
    "    y = data['p'][2 * i, :]\n",
    "    z = data['p'][2 * i + 1, :]\n",
    "    ax.plot(-y, z, label=f'star {i}', linewidth=0.5, marker='.', markersize=10)\n",
    "ax.grid()\n",
    "ax.legend(fontsize=16)\n",
    "ax.tick_params(labelsize=14)\n",
    "ax.set_xlim(-1., 1.)\n",
    "ax.set_ylim(-1., 1.)"
   ]
  },
  {
   "cell_type": "code",
   "execution_count": null,
   "id": "different-community",
   "metadata": {},
   "outputs": [],
   "source": []
  }
 ],
 "metadata": {
  "kernelspec": {
   "name": "python391jvsc74a57bd03707160b982f1f10a85ea1c67ea35aa941c037d0e03bc0fc649503b13cc8856a",
   "display_name": "Python 3.9.1 64-bit ('ae353-bullet': conda)"
  },
  "language_info": {
   "codemirror_mode": {
    "name": "ipython",
    "version": 3
   },
   "file_extension": ".py",
   "mimetype": "text/x-python",
   "name": "python",
   "nbconvert_exporter": "python",
   "pygments_lexer": "ipython3",
   "version": "3.9.1-final"
  }
 },
 "nbformat": 4,
 "nbformat_minor": 5
}